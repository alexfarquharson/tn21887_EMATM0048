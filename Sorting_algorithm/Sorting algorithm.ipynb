{
 "cells": [
  {
   "cell_type": "code",
   "execution_count": 1,
   "metadata": {},
   "outputs": [],
   "source": [
    "# Alexander Farquharson, Sorting algorithm, notebook for creating integerise and sorting function, describing working, running examples"
   ]
  },
  {
   "cell_type": "markdown",
   "metadata": {},
   "source": [
    "# Sorting algorithm:"
   ]
  },
  {
   "cell_type": "markdown",
   "metadata": {},
   "source": [
    "## Working/thoughts:\n",
    "\n",
    "  \n",
    "### Input handling:\n",
    "\n",
    "It is likely that the council receives data that is not expected (not a positive integer), the documentation describes the thinking behing what logic was created to handle these cases:\n",
    "    \n",
    "* float: e.g. 4.1, 4.15, 5.9. -> Would result in the input: 4, 4, 5\n",
    "    * It is assumed that these refer to flats within a building, with the number before the . referring to the building no., the numbers after referring to the flat number within that building. As we only desire the building number, taking this assumption, only the first number is taken to produce an integer input.\n",
    "\n",
    "        \n",
    "* string: e.g. \"1a\", \"pou23ujk\",\"456:po\",\"#7\", \"8,1\", \"9,a\", \"10:a\" -> Would result in the input: 1, 8, 9, 10\n",
    "     * It is assumed that this data is either wrong or refers to flats within a building (similar to the float example)\n",
    "     * As a result, in order to get just the building number, if a number is first we take all digits upto when a number is no longer present, and replace the original string with that number\n",
    "  \n",
    "  \n",
    "* duplicated integers:\n",
    "    * No street should contain two buildings with the same number (would be confusing)\n",
    "    * The input (after element processing) is deduped (e.g. if multiple flats were in the input) to contain unique integers only.\n",
    "    \n",
    "    \n",
    "* Iterables: if an element is in a list, tuple, set, format:\n",
    "    * iterate through these iterables to unpack their elements and then treat those elements as normal (repeat as many times as necessary)\n",
    "        \n",
    "        \n",
    "* Other: if an element is any other data type like dict or bool:\n",
    "    * Remove, can not think of any legitimate interpretation\n",
    "  "
   ]
  },
  {
   "cell_type": "code",
   "execution_count": 1,
   "metadata": {
    "tags": [
     "keep"
    ]
   },
   "outputs": [
    {
     "data": {
      "text/plain": [
       "'1.20.3'"
      ]
     },
     "execution_count": 1,
     "metadata": {},
     "output_type": "execute_result"
    }
   ],
   "source": [
    "import numpy as np\n",
    "np.__version__"
   ]
  },
  {
   "cell_type": "code",
   "execution_count": 2,
   "metadata": {},
   "outputs": [],
   "source": [
    "def integerise_input(input_array, output_array = np.array([], dtype = int)):\n",
    "    '''Function to:\n",
    "        Transform into an integer or remove all elements in the input list following a specific logic.\n",
    "        Adds the manipulated elements to output_list.\n",
    "    \n",
    "    Inputs:\n",
    "        Input_list: type - numpy.ndarray. List to apply function to.\n",
    "        Output_list: type - numpy.ndarray. Default is [].\n",
    "    \n",
    "    Outputs:\n",
    "        Deduped integerised flat numpy.ndarray\n",
    "    '''\n",
    "\n",
    "        \n",
    "#     integerises elemnt and adds to output list\n",
    "    for el in input_array:\n",
    "        \n",
    "#     necesssary to add in np.types\n",
    "        if type(el) in (int, float, str, list, tuple, set, np.int32, np.float64, np.str_, np.ndarray):\n",
    "            try:\n",
    "                output_array = np.append(output_array, int(el))\n",
    "    #     if element can not be integerised due to ValueError - string, use the below logic and add to output list if applicable\n",
    "            except ValueError:\n",
    "                pos = 0\n",
    "                error_flag = 0\n",
    "                while pos in list(range(len(el))) and error_flag == 0:\n",
    "                    try:\n",
    "                        int(el[pos])\n",
    "                        pos+=1\n",
    "                    except ValueError:\n",
    "                        error_flag = 1\n",
    "\n",
    "                try:\n",
    "                    output_array = np.append(output_array, int(el[:pos]))\n",
    "                except ValueError:\n",
    "                    continue\n",
    "\n",
    "    #     if typeerror - iterable, then iterate through that iterable using same logic above, adding elements to the output list\n",
    "            except TypeError:\n",
    "                output_array = integerise_input(input_array = el, output_array = output_array)\n",
    "\n",
    "    return np.array(list(dict.fromkeys(output_array)))\n",
    "\n",
    "#     For all but last step: time complexity will be a multiple of N (iterates over array once) (assuming N is linearly proportional to element string length as well as list length)\n",
    "#     dict.fromkeys(list) - hashes every element (1*N), then adds to dictionary - looks up hash to see if key already in dictionary is real-time), so complexity of this step is N\n",
    "#     Big(0) = N"
   ]
  },
  {
   "cell_type": "code",
   "execution_count": 3,
   "metadata": {
    "tags": [
     "keep"
    ]
   },
   "outputs": [
    {
     "data": {
      "text/plain": [
       "array([346,  89,  47,   5,   1,  48,   0])"
      ]
     },
     "execution_count": 3,
     "metadata": {},
     "output_type": "execute_result"
    }
   ],
   "source": [
    "arr = np.array([346,89,47,5,1,48,0])\n",
    "integerise_input(arr)"
   ]
  },
  {
   "cell_type": "code",
   "execution_count": 4,
   "metadata": {
    "tags": [
     "keep"
    ]
   },
   "outputs": [
    {
     "name": "stderr",
     "output_type": "stream",
     "text": [
      "C:\\Users\\farqu\\AppData\\Local\\Temp/ipykernel_29812/449936631.py:2: VisibleDeprecationWarning: Creating an ndarray from ragged nested sequences (which is a list-or-tuple of lists-or-tuples-or ndarrays with different lengths or shapes) is deprecated. If you meant to do this, you must specify 'dtype=object' when creating the ndarray.\n",
      "  arr = np.array([1, 2, \"3\", \"3.4\", \"4.1\", \"4.2\", \"5a\", \"5b\", \"isvb6aouo.fkpf\", \"7oadsufnfP\", 8.1, 8.2, 9.097, [10,11,12], (13,14,15), {16,17,18, 18, 18}, True, {1:'two',3:'four'}])\n"
     ]
    },
    {
     "data": {
      "text/plain": [
       "array([ 1,  2,  3,  4,  5,  7,  8,  9, 10, 11, 12, 13, 14, 15, 16, 17, 18])"
      ]
     },
     "execution_count": 4,
     "metadata": {},
     "output_type": "execute_result"
    }
   ],
   "source": [
    "# Example\n",
    "arr = np.array([1, 2, \"3\", \"3.4\", \"4.1\", \"4.2\", \"5a\", \"5b\", \"isvb6aouo.fkpf\", \"7oadsufnfP\", 8.1, 8.2, 9.097, [10,11,12], (13,14,15), {16,17,18, 18, 18}, True, {1:'two',3:'four'}])\n",
    "integerise_input(arr)"
   ]
  },
  {
   "cell_type": "markdown",
   "metadata": {},
   "source": [
    "### Sorting Efficiency:\n",
    "    \n",
    "* Option 1: \n",
    "    * Simple else if application of condition, then timsort the two lists:\n",
    "    * Code as in answer:\n",
    "        * Goes through list once applying \"if even\" condition N times.\n",
    "        * Then sorts the equivalent of the full list once (using Timsort which has big(O) notation of NlogN)\n",
    "        * Used python (instead of numpy) built-in sort algorithm as this has functionality for reverse order (hence the use of lists not arrays here)\n",
    "        * Big(O) = N + NlogN ~= NlogN\n",
    "            \n",
    "            \n",
    "* Option 2:\n",
    "    * sorted([x for x in lst if x%2==1], reverse = True) + sorted([x for x in lst if x%2==0]) or\n",
    "    * sorted(list(filter(lambda x: x%2 == 1,lst)), reverse = True) + sorted(list(filter(lambda x: x%2 == 0,lst)))\n",
    "        * Tidier (one line) but applying x%2 condition through list twice - slightly less efficient than option 1.\n",
    "        * In both cases, goes through list twice applying condition 2(N).\n",
    "        * Then sorts the equivalent (actually sorts at most both half lists once) of the full list using timsort: NlogN.\n",
    "        * Big(O) =2(N) + NlogN ~= NlogN - will be slightly less efficient than option 1.\n",
    "            "
   ]
  },
  {
   "cell_type": "code",
   "execution_count": 5,
   "metadata": {},
   "outputs": [],
   "source": [
    "def house_sort(arr, integerise = True):\n",
    "    '''\n",
    "    Function to:\n",
    "        If specified integerise output.\n",
    "        Then sorts inputed array such that odd numbers appear first in descending order, followed by the even numbers in ascending order\n",
    "        \n",
    "    Input:\n",
    "        arr: type - array. Array to be sorted.\n",
    "        integerise: type - bool. Default is true. If input array elements should be integerised\n",
    "            \n",
    "    Output:\n",
    "        Sorted array of integers.\n",
    "        '''\n",
    "\n",
    "#     Integerise input\n",
    "    if integerise:\n",
    "        arr = integerise_input(input_array = arr) #x * N\n",
    "\n",
    "#     Sorting algorithm (comments after line are contribution to Big 0 notation calculation at end)\n",
    "    first_lst = [] #1\n",
    "    second_lst = [] #1\n",
    "    for el in arr: #N\n",
    "        if el%2 ==1: #2N\n",
    "            first_lst.append(el) #N\n",
    "        else:\n",
    "            second_lst.append(el) #N\n",
    "\n",
    "    first_lst.sort(reverse = True) #1/2 (NlogN)\n",
    "    second_lst.sort(reverse = False) #1/2(NlogN)\n",
    "    return np.array(first_lst + second_lst) #1\n",
    "\n",
    "    # Big(O) calculation for sorting part of algorithm\n",
    "    # Big(O) = xN+1+1+N+2N+N+N+1/2(NlogN) + 1/2(NlogN) + 1 \n",
    "    # Big(O) = NlogN"
   ]
  },
  {
   "cell_type": "code",
   "execution_count": 6,
   "metadata": {
    "tags": [
     "keep"
    ]
   },
   "outputs": [
    {
     "data": {
      "text/plain": [
       "array([97, 87, 17, 15, 13, 11,  5,  1,  2, 10, 12, 14, 16, 18])"
      ]
     },
     "execution_count": 6,
     "metadata": {},
     "output_type": "execute_result"
    }
   ],
   "source": [
    "# Examples\n",
    "arr = np.array([10,11,12, 1, 13,14,15, 5, 5, 16,17,18, 18, 18, 2,87,97], dtype = int)\n",
    "house_sort(arr)"
   ]
  },
  {
   "cell_type": "code",
   "execution_count": 7,
   "metadata": {
    "tags": [
     "keep"
    ]
   },
   "outputs": [
    {
     "name": "stderr",
     "output_type": "stream",
     "text": [
      "C:\\Users\\farqu\\AppData\\Local\\Temp/ipykernel_29812/4083708640.py:1: VisibleDeprecationWarning: Creating an ndarray from ragged nested sequences (which is a list-or-tuple of lists-or-tuples-or ndarrays with different lengths or shapes) is deprecated. If you meant to do this, you must specify 'dtype=object' when creating the ndarray.\n",
      "  arr = np.array([1, 2, \"3\", \"3.4\", \"4.1\", \"4.2\", \"5a\", \"5b\", \"isvb6aouo.fkpf\", \"7oadsufnfP\", 8.1, 8.2, 9.097, [10,11,12], (13,14,15), {16,17,18, 18, 18}, True, {1:'two',3:'four'}])\n"
     ]
    },
    {
     "data": {
      "text/plain": [
       "array([17, 15, 13, 11,  9,  7,  5,  3,  1,  2,  4,  8, 10, 12, 14, 16, 18])"
      ]
     },
     "execution_count": 7,
     "metadata": {},
     "output_type": "execute_result"
    }
   ],
   "source": [
    "arr = np.array([1, 2, \"3\", \"3.4\", \"4.1\", \"4.2\", \"5a\", \"5b\", \"isvb6aouo.fkpf\", \"7oadsufnfP\", 8.1, 8.2, 9.097, [10,11,12], (13,14,15), {16,17,18, 18, 18}, True, {1:'two',3:'four'}])\n",
    "house_sort(arr)"
   ]
  }
 ],
 "metadata": {
  "celltoolbar": "Tags",
  "kernelspec": {
   "display_name": "Python 3 (ipykernel)",
   "language": "python",
   "name": "python3"
  },
  "language_info": {
   "codemirror_mode": {
    "name": "ipython",
    "version": 3
   },
   "file_extension": ".py",
   "mimetype": "text/x-python",
   "name": "python",
   "nbconvert_exporter": "python",
   "pygments_lexer": "ipython3",
   "version": "3.9.7"
  }
 },
 "nbformat": 4,
 "nbformat_minor": 4
}
