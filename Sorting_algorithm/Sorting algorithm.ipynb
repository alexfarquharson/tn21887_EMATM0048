{
 "cells": [
  {
   "cell_type": "code",
   "execution_count": null,
   "metadata": {},
   "outputs": [],
   "source": [
    "# Sorting algorithm\n",
    "# Sort odd decreasing then even increasing\n"
   ]
  },
  {
   "cell_type": "code",
   "execution_count": null,
   "metadata": {},
   "outputs": [],
   "source": [
    "def house_sort(lst):\n",
    "    '''\n",
    "    Sorts input list by all odd numbers descending then all even numbers ascending\n",
    "    '''\n",
    "    \n",
    "    "
   ]
  },
  {
   "cell_type": "code",
   "execution_count": 137,
   "metadata": {},
   "outputs": [],
   "source": [
    "lst =  [-1, 2.2, 9, 5, 4, 7, 10]"
   ]
  },
  {
   "cell_type": "code",
   "execution_count": 51,
   "metadata": {},
   "outputs": [
    {
     "data": {
      "text/plain": [
       "[9, 7, 5, -1, 2.2, 4, 10]"
      ]
     },
     "execution_count": 51,
     "metadata": {},
     "output_type": "execute_result"
    }
   ],
   "source": [
    "# Algorithm 1\n",
    "first_list = []\n",
    "second_list = []\n",
    "for x in lst:\n",
    "    if round(x)%2 ==1:\n",
    "        first_list.append(x)\n",
    "    else:\n",
    "        second_list.append(x)\n",
    "\n",
    "first_list.sort(reverse = True)\n",
    "second_list.sort(reverse = False)\n",
    "first_list + second_list\n",
    "\n",
    "# Big(O) = N+ 1/2NLOGN + 1/2NLOGN - check this"
   ]
  },
  {
   "cell_type": "code",
   "execution_count": 143,
   "metadata": {},
   "outputs": [
    {
     "data": {
      "text/plain": [
       "[9, 7, 5, -1, 10, 4]"
      ]
     },
     "execution_count": 143,
     "metadata": {},
     "output_type": "execute_result"
    }
   ],
   "source": [
    "# list comprehension\n",
    "a = [x for x in lst if x%2==1]\n",
    "a.sort(reverse = True)\n",
    "b = [x for x in lst if x%2==0]\n",
    "b.sort(reverse = True)\n",
    "a+b"
   ]
  },
  {
   "cell_type": "code",
   "execution_count": 148,
   "metadata": {},
   "outputs": [
    {
     "data": {
      "text/plain": [
       "[9, 7, 5, -1, 4, 10]"
      ]
     },
     "execution_count": 148,
     "metadata": {},
     "output_type": "execute_result"
    }
   ],
   "source": [
    "# in one line\n",
    "sorted([x for x in lst if x%2==1], reverse = True) + sorted([x for x in lst if x%2==0])"
   ]
  },
  {
   "cell_type": "code",
   "execution_count": 60,
   "metadata": {},
   "outputs": [
    {
     "data": {
      "text/plain": [
       "[-1, 9, 7]"
      ]
     },
     "execution_count": 60,
     "metadata": {},
     "output_type": "execute_result"
    }
   ],
   "source": [
    "lst =  [-1, 2.2, 9, 5, 4, 7, 10]\n",
    "# unnecesarily complex as pop changes list so index no longer references right element\n",
    "first_list = []\n",
    "for i,x in enumerate(lst):\n",
    "    if x%2 ==1:\n",
    "        first_list.append(lst.pop(i))\n",
    "    else:\n",
    "        second_list.append(lst.pop(i))\n",
    "        \n",
    "# etc"
   ]
  },
  {
   "cell_type": "code",
   "execution_count": 155,
   "metadata": {},
   "outputs": [
    {
     "data": {
      "text/plain": [
       "[9, 7, 5, -1, 4, 10]"
      ]
     },
     "execution_count": 155,
     "metadata": {},
     "output_type": "execute_result"
    }
   ],
   "source": [
    "# filter\n",
    "lst =  [-1, 2.2, 9, 5, 4, 7, 10]\n",
    "# filter applies function to every iterable - like a matrix then is it more efficient? what if doing it twice? is there a multiple output option (so only apply filter once)\n",
    "# include something like a pop in the lambda function?\n",
    "sorted(list(filter(lambda x: x%2 == 1,lst)), reverse = True) + sorted(list(filter(lambda x: x%2 == 0,lst)))"
   ]
  },
  {
   "cell_type": "code",
   "execution_count": 62,
   "metadata": {},
   "outputs": [
    {
     "data": {
      "text/plain": [
       "2.2"
      ]
     },
     "execution_count": 62,
     "metadata": {},
     "output_type": "execute_result"
    }
   ],
   "source": [
    "# is there a way of applying a matrix to list so that evens are filtered out?"
   ]
  },
  {
   "cell_type": "code",
   "execution_count": null,
   "metadata": {},
   "outputs": [],
   "source": [
    "# modifying a sort algorithm for my purpose?\n",
    "# e.g. Timsort, but if even - multiply by largest no. so that left till end"
   ]
  },
  {
   "cell_type": "markdown",
   "metadata": {},
   "source": [
    "#### Exception handling"
   ]
  },
  {
   "cell_type": "code",
   "execution_count": null,
   "metadata": {},
   "outputs": [],
   "source": [
    "# Handling possible cases\n",
    "# A float? - no reason but should round to nearest number\n",
    "# A string? - ignore and raise a note?\n",
    "\n",
    "# 7a 7b, want it to decrease if odd and increase if even\n",
    "# -ve numbers? - treat them as normal (low)\n",
    "# 0? - treat as even as in instructions\n",
    "\n",
    "# Handling inputs\n",
    "# Want it as an array\n",
    "# if not array then convert it - exceptions around converting to array?\n",
    "    if any iterable then ok?\n",
    "    list, set, tuple, (convert)\n",
    "    dictionary (use values and convert?)\n",
    "    dataframe - should not occur\n",
    "    series? - convert\n",
    "    \n",
    "    string? - assume csv or error?\n",
    "    int, float bool input? - error"
   ]
  },
  {
   "cell_type": "code",
   "execution_count": null,
   "metadata": {},
   "outputs": [],
   "source": [
    "# Handling input itself"
   ]
  },
  {
   "cell_type": "code",
   "execution_count": 122,
   "metadata": {},
   "outputs": [
    {
     "data": {
      "text/plain": [
       "array([2, 1])"
      ]
     },
     "execution_count": 122,
     "metadata": {},
     "output_type": "execute_result"
    }
   ],
   "source": [
    "lst = [1,2]\n",
    "lst = {1,2}\n",
    "lst = (1,2)\n",
    "lst = {1:2,2:1}\n",
    "arr = np.array(list(lst.values()))\n"
   ]
  },
  {
   "cell_type": "code",
   "execution_count": 134,
   "metadata": {},
   "outputs": [
    {
     "data": {
      "text/plain": [
       "['str', 'sy']"
      ]
     },
     "execution_count": 134,
     "metadata": {},
     "output_type": "execute_result"
    }
   ],
   "source": [
    "# np.array(split('str, sf'),',')\n",
    "x = 'str, sy'\n",
    "x.split(', ')"
   ]
  },
  {
   "cell_type": "code",
   "execution_count": null,
   "metadata": {},
   "outputs": [],
   "source": [
    "# Handling elements\n",
    "# float round(x) or treat like 7a? - always increasing\n",
    "# duplicates? - remove\n",
    "# -v - nothing\n",
    "# is a string - ignore (error handling)\n",
    "# is a list - unpack\n"
   ]
  }
 ],
 "metadata": {
  "kernelspec": {
   "display_name": "Python 3",
   "language": "python",
   "name": "python3"
  },
  "language_info": {
   "codemirror_mode": {
    "name": "ipython",
    "version": 3
   },
   "file_extension": ".py",
   "mimetype": "text/x-python",
   "name": "python",
   "nbconvert_exporter": "python",
   "pygments_lexer": "ipython3",
   "version": "3.8.5"
  }
 },
 "nbformat": 4,
 "nbformat_minor": 4
}
