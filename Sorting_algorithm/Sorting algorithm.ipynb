{
 "cells": [
  {
   "cell_type": "code",
   "execution_count": null,
   "metadata": {},
   "outputs": [],
   "source": [
    "# Answer:"
   ]
  },
  {
   "cell_type": "code",
   "execution_count": null,
   "metadata": {},
   "outputs": [],
   "source": [
    "# Working Description:\n",
    "\n",
    "Sorting Efficiency:\n",
    "    \n",
    "    Option 1: Simple else if application of condition, then timsort the two lists:\n",
    "            As in answer:\n",
    "            Goes through list once applying \"if even\" condition N times.\n",
    "            Then sorts the equivalent of the full list once (using Timsort which has big(O) notation of NlogN)\n",
    "            Used python (instead of numpy) built-in sort algorithm as this has functionality for reverse order (hence the use of lists here)\n",
    "            Big(O) = N + NlogN ~= NlogN\n",
    "            \n",
    "            \n",
    "    Option 2:\n",
    "            sorted([x for x in lst if x%2==1], reverse = True) + sorted([x for x in lst if x%2==0])\n",
    "            sorted(list(filter(lambda x: x%2 == 1,lst)), reverse = True) + sorted(list(filter(lambda x: x%2 == 0,lst)))\n",
    "            Tidier (one line) but applying x%2 condition through list twice - slightly less efficient than option 1.\n",
    "            \n",
    "            In both cases, goes through list twice applying condition 2(N).\n",
    "            Then sorts the equivalent of the full list NlogN.\n",
    "            Big(O) =2(N) + NlogN ~= NlogN - will be slightly less efficient than option 1.\n",
    "            \n",
    "    \n",
    "Input handling:\n",
    "    It is likely that the council receives data that is not expected (positive integer), the documentation describes what logic is in pace to handle these cases:\n",
    "    \n",
    "    float: e.g. 4.1, 4.15, 5.9. -> Would result in the input: 4, 4, 5\n",
    "        It is assumed that these refer to flats within a building, with the number before the . referring to the building no., the numbers after referring to the flat number within that building.\n",
    "        As we only desire the building number, taking this assumption, only the first number is taken to produce an integer input.\n",
    "        (Would result in the input: 4, 4, 5)\n",
    "        \n",
    "    string: e.g. \"1a\", \"pou23ujk\",\"456:po\",\"#7\", \"8,1\", \"9,a\", \"10:a\" -> Would result in the input: 1, 8, 9, 10\n",
    "        It is assumed that this data is either wrong or refers to flats within a building (similar to the float example)\n",
    "        As a result, in order to get just the building number, if a number is first we take all digits upto when a number is no longer present, and replace the original string with that number\n",
    "        \n",
    "    duplicated integers:\n",
    "        No street should contain two buildings with the same number (would be confusing)\n",
    "        The input (after element processing) is deduped (e.g. if multiple flats were in the input) to contain unique integers only.\n",
    "    \n",
    "    if an element is in a list, tuple, set, format:\n",
    "        iterate through these iterables to unpack their elemnts and then treat those elements as normal (repeat as many times as necessary)\n",
    "        \n",
    "    if an element is any other data type like dict or bool:\n",
    "        Remove, can not think of any legitimate interpretation"
   ]
  },
  {
   "cell_type": "code",
   "execution_count": 330,
   "metadata": {},
   "outputs": [
    {
     "data": {
      "text/plain": [
       "array([  99,   37,    9,    7,    5,    3,    1,    4,    6,   90,  458,\n",
       "       9878])"
      ]
     },
     "execution_count": 330,
     "metadata": {},
     "output_type": "execute_result"
    }
   ],
   "source": [
    "def integerise_input(input_array, output_array = np.array([], dtype = int)):\n",
    "    '''Function to:\n",
    "        Transform into an integer or remove all elements in the input list following a specific logic.\n",
    "        Adds the manipulated elements to output_list.\n",
    "    \n",
    "    Inputs:\n",
    "        Input_list: type - numpy.ndarray. List to apply function to.\n",
    "        Output_list: type - numpy.ndarray. Default is [].\n",
    "    \n",
    "    Outputs:\n",
    "        Deduped integerised flat numpy.ndarray\n",
    "    '''\n",
    "\n",
    "        \n",
    "#     integerises elemnt and adds to output list\n",
    "    for el in input_array:\n",
    "        if type(el) in (int, float, str, list, tuple, set):\n",
    "            try:\n",
    "                \n",
    "                output_array = np.append(output_array, int(el))\n",
    "    #     if element can not be integerised due to ValueError - string, use the below logic and add to output list if applicable\n",
    "            except ValueError:\n",
    "                pos = 0\n",
    "                error_flag = 0\n",
    "                while pos in list(range(len(el))) and error_flag == 0:\n",
    "                    try:\n",
    "                        int(el[pos])\n",
    "                        pos+=1\n",
    "                    except ValueError:\n",
    "                        error_flag = 1\n",
    "\n",
    "                try:\n",
    "                    output_array = np.append(output_array, int(el[:pos]))\n",
    "                except ValueError:\n",
    "                    continue\n",
    "\n",
    "    #     if typeerror - iterable, then iterate through that iterable using same logic above, adding elements to the output list\n",
    "            except TypeError:\n",
    "                output_array = integerise_input(input_array = el, output_array = output_array)\n",
    "\n",
    "    return np.array(list(set(output_array)))\n",
    "\n",
    "\n",
    "\n",
    "def house_sort(arr, integerise = True):\n",
    "    '''\n",
    "    Function to:\n",
    "        If specified integerise output.\n",
    "        Then sorts inputed array such that odd numbers appear first in descending order, followed by the even numbers in ascending order\n",
    "        \n",
    "    Input:\n",
    "        arr: type - array. Array to be sorted.\n",
    "        integerise: type - bool. Default is true. If input array elements should be integerised\n",
    "            \n",
    "    Output:\n",
    "        Sorted array of integers.\n",
    "        '''\n",
    "    \n",
    "    if integerise:\n",
    "        arr = integerise_input(input_array = arr)\n",
    "    # Algorithm 1\n",
    "    first_lst = []\n",
    "    second_lst = []\n",
    "    for el in arr:\n",
    "        if el%2 ==1:\n",
    "            first_lst.append(el)\n",
    "        else:\n",
    "            second_lst.append(el)\n",
    "\n",
    "    first_lst.sort(reverse = True)\n",
    "    second_lst.sort(reverse = False)\n",
    "    return np.array(first_lst + second_lst)\n",
    "\n",
    "    # Big(O) = N+ 1/2NLOGN + 1/2NLOGN - check this\n",
    "house_sort(lst)\n",
    "\n"
   ]
  },
  {
   "cell_type": "code",
   "execution_count": 307,
   "metadata": {},
   "outputs": [
    {
     "name": "stderr",
     "output_type": "stream",
     "text": [
      "C:\\Users\\farqu\\AppData\\Local\\Temp/ipykernel_6036/4126161545.py:1: VisibleDeprecationWarning: Creating an ndarray from ragged nested sequences (which is a list-or-tuple of lists-or-tuples-or ndarrays with different lengths or shapes) is deprecated. If you meant to do this, you must specify 'dtype=object' when creating the ndarray.\n",
      "  houses = np.array([1, [7,45,89],np.array([1,2,3,99])])\n"
     ]
    },
    {
     "data": {
      "text/plain": [
       "array([1])"
      ]
     },
     "execution_count": 307,
     "metadata": {},
     "output_type": "execute_result"
    }
   ],
   "source": [
    "houses = np.array([1, [7,45,89],np.array([1,2,3,99])])\n",
    "house_sort(houses)"
   ]
  }
 ],
 "metadata": {
  "kernelspec": {
   "display_name": "Python 3 (ipykernel)",
   "language": "python",
   "name": "python3"
  },
  "language_info": {
   "codemirror_mode": {
    "name": "ipython",
    "version": 3
   },
   "file_extension": ".py",
   "mimetype": "text/x-python",
   "name": "python",
   "nbconvert_exporter": "python",
   "pygments_lexer": "ipython3",
   "version": "3.9.7"
  }
 },
 "nbformat": 4,
 "nbformat_minor": 4
}
