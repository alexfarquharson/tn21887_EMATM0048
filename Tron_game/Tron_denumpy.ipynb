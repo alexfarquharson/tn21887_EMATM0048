{
 "cells": [
  {
   "cell_type": "markdown",
   "metadata": {},
   "source": [
    "# TRON game\n"
   ]
  },
  {
   "cell_type": "code",
   "execution_count": 5,
   "metadata": {},
   "outputs": [
    {
     "ename": "SyntaxError",
     "evalue": "invalid syntax (<ipython-input-5-f5085b2043ad>, line 1)",
     "output_type": "error",
     "traceback": [
      "\u001b[1;36m  File \u001b[1;32m\"<ipython-input-5-f5085b2043ad>\"\u001b[1;36m, line \u001b[1;32m1\u001b[0m\n\u001b[1;33m    Notes:\u001b[0m\n\u001b[1;37m          ^\u001b[0m\n\u001b[1;31mSyntaxError\u001b[0m\u001b[1;31m:\u001b[0m invalid syntax\n"
     ]
    }
   ],
   "source": [
    "Notes:\n",
    "    Thought about making board out of 1d array not 2 - then lower Big 0 notation, only one for loop\n",
    "    But then for loop is over n^2 so its the same - duhh\n",
    "    \n",
    "    Board set up so that every line is an element in the game - easier for indexing, cycling through array etc.\n",
    "    \n",
    "    \n",
    "which methods should be in which class?\n",
    "put methods in player class that change players attributes like position\n",
    "\n",
    "\n",
    "originally had find_player as a function to find player every time.\n",
    "Now keep a track of players position - more efficient, no need to itrate through table"
   ]
  },
  {
   "cell_type": "code",
   "execution_count": 13,
   "metadata": {},
   "outputs": [
    {
     "name": "stdout",
     "output_type": "stream",
     "text": [
      "Player 1 keyboard: ['w', 'a', 's', 'd']\n",
      "Player 2 keyboard: ['i', 'j', 'k', 'l']\n",
      " _ _ _ _ _ _ _ \n",
      "|1¦_¦_¦_¦_¦_¦_|\n",
      "|_¦_¦_¦_¦_¦_¦_|\n",
      "|_¦_¦_¦_¦_¦_¦_|\n",
      "|_¦_¦_¦_¦_¦_¦_|\n",
      "|_¦_¦_¦_¦_¦_¦_|\n",
      "|_¦_¦_¦_¦_¦_¦_|\n",
      "|_¦_¦_¦_¦_¦_¦2|\n",
      "Player 1 move: w\n",
      "1 lost\n"
     ]
    }
   ],
   "source": [
    "# create game function\n",
    "def main():\n",
    "\n",
    "    start = input(\"Would you like to play Tron? (y/n)\")\n",
    "    \n",
    "    if start.lower() == \"n\":\n",
    "        print(\"Have a nice day\")\n",
    "        \n",
    "    elif start.lower() == \"y\":\n",
    "        \n",
    "        correct_input = True\n",
    "        while correct_input:\n",
    "            game_type = input('What game version would yo like to play?: \\n a. Consecutive turns? \\n b. Simultaneous turns? \\n (Choose a or b) \\n').lower()\n",
    "        \n",
    "            if game_type in (\"a\",\"b\"):\n",
    "                break\n",
    "            else:\n",
    "                print(\"I didn't quite get that, (type a or b):\")\n",
    "            \n",
    "\n",
    "        correct_input = 0\n",
    "        while correct_input == 0:\n",
    "            try:\n",
    "                dimension = int(input('Please insert board size (minimum 4).'))\n",
    "                if dimension >= 4:\n",
    "                    correct_input = 1\n",
    "                else:\n",
    "                    print(\"(Board size minimum is 4)\")\n",
    "            except:\n",
    "                print(\"I didn't quite get that, please input an number\")\n",
    "                \n",
    "            \n",
    "            \n",
    "            \n",
    "        \n",
    "        game = Board(dimension)\n",
    "        \n",
    "        \n",
    "        \n",
    "\n",
    "if __name__ == '__main__':\n",
    "\n",
    "    a = Board(7)\n",
    "    a.__main__()\n",
    "    \n",
    "\n",
    "    \n"
   ]
  },
  {
   "cell_type": "code",
   "execution_count": 3,
   "metadata": {},
   "outputs": [],
   "source": [
    "# # create boardgame\n",
    "# class Tron():\n",
    "    \n",
    "#     def __init__(self, dimension, player1, player2):\n",
    "        \n",
    "#         self.board = Board(dimension)\n",
    "#         self.player1 = Player(player1)\n",
    "#         self.player2 = Player(player2)      "
   ]
  },
  {
   "cell_type": "code",
   "execution_count": 5,
   "metadata": {},
   "outputs": [],
   "source": [
    "class Player():\n",
    "    \n",
    "    def __init__(self, name, dimension, default_keys = True):\n",
    "        self.name = name\n",
    "        self.dimension = dimension\n",
    "        self.score = 0\n",
    "        self.player_dictionary = self.player_dictionary_setup()\n",
    "        self.position = list(self.set_position())\n",
    "        \n",
    "        print(f\"Player {self.name} keyboard: {list(self.player_dictionary.keys())}\")\n",
    "        \n",
    "    def player_dictionary_setup(self):\n",
    "        '''\n",
    "        Function to create move dictionary for the two players\n",
    "        '''\n",
    "        \n",
    "#         add in change keys later if needed\n",
    "        if self.name == \"1\":\n",
    "            player_dictionary = {\"w\":'up', \"a\":'left', \"s\":'down', \"d\":'right'}\n",
    "\n",
    "        else:\n",
    "            player_dictionary = {\"i\":'up', \"j\":'left', \"k\":'down', \"l\":'right'}\n",
    "            \n",
    "        return player_dictionary\n",
    "    \n",
    "    \n",
    "    def set_position(self):\n",
    "        if self.name == \"1\":\n",
    "            return (1, 1)\n",
    "        else:\n",
    "            return self.dimension, 2*self.dimension-1"
   ]
  },
  {
   "cell_type": "code",
   "execution_count": 6,
   "metadata": {},
   "outputs": [
    {
     "name": "stdout",
     "output_type": "stream",
     "text": [
      "Player 2 keyboard: ['i', 'j', 'k', 'l']\n"
     ]
    },
    {
     "data": {
      "text/plain": [
       "[10, 19]"
      ]
     },
     "execution_count": 6,
     "metadata": {},
     "output_type": "execute_result"
    }
   ],
   "source": [
    "a = Player('2',10)\n",
    "a.position\n"
   ]
  },
  {
   "cell_type": "code",
   "execution_count": 7,
   "metadata": {},
   "outputs": [],
   "source": [
    "class Computer(Player):\n",
    "    \n",
    "    def __init__(self, name):\n",
    "        super().__init__(name)\n",
    "        self.name = \"Computer\""
   ]
  },
  {
   "cell_type": "code",
   "execution_count": 10,
   "metadata": {},
   "outputs": [],
   "source": [
    "class Board():\n",
    "    \"\"\"\n",
    "    The Board class\n",
    "    \"\"\"\n",
    "\n",
    "        \n",
    "        \n",
    "    def __init__(self, dimension):\n",
    "        self.dimension = dimension\n",
    "        self.player1 = Player(name = '1', dimension = dimension)\n",
    "        self.player2 = Player(name = '2', dimension = dimension)  \n",
    "        \n",
    "        self.table = self.create_board(dimension)\n",
    "        self.player_turn = 1\n",
    "\n",
    "\n",
    "        self.show()\n",
    " \n",
    "#        @staticmethod\n",
    "    def insert_players(self, table, player):\n",
    "    # insert players on board (customise character symbols?) add on @ symbol?\n",
    "        table[player.position[0]][player.position[1]] = player.name\n",
    "\n",
    "        return table\n",
    "\n",
    "    def create_board(self, dimension):\n",
    "        '''\n",
    "        Creates a board given a dimension\n",
    "        Puts players in board\n",
    "        '''\n",
    "        \n",
    "        assert type(dimension) == int, \"Please input an integer for board size\"\n",
    "        assert dimension > 3, \"Board size must be greater than 3\"\n",
    "\n",
    "#         Create top row (different from all other rows)\n",
    "        top_row = [\" \",\"_\"] * dimension\n",
    "        top_row.append(\" \")\n",
    "        top_row.append(\"\\n\")\n",
    "\n",
    "#         Create normal row\n",
    "        base_row = [\"|\",\"_\",\"|\",\"\\n\"]\n",
    "\n",
    "        for x in range(dimension-1):\n",
    "            base_row.insert(1,'¦')\n",
    "            base_row.insert(1,'_')\n",
    "\n",
    "#         Combine rows together (copying so that not a reference)\n",
    "        table = []\n",
    "        for x in range(dimension+1):\n",
    "            if x ==0:\n",
    "                table.append(top_row.copy())\n",
    "            else:\n",
    "                table.append(base_row.copy())\n",
    "\n",
    "#         Insert players in table\n",
    "        players = (self.player1, self.player2)\n",
    "        for player in players:\n",
    "            table = self.insert_players(table, player)\n",
    "\n",
    "        return table\n",
    "    \n",
    "\n",
    "\n",
    "    \n",
    "    def show(self):\n",
    "        \"\"\"Function to print the board table\"\"\"\n",
    "        \n",
    "        for y in range(len(self.table)):\n",
    "            for x in self.table[y]:\n",
    "                print(x, end=\"\")\n",
    "                \n",
    "   \n",
    "            \n",
    "             \n",
    "\n",
    "    def move(self, player):\n",
    "        '''Function to receive input, move player, determine if move legal or not\n",
    "        '''\n",
    "        \n",
    "#         use of dictionary, then only exception to deal with is key error\n",
    "        move_dictionary = {\"up\":self.up, \"left\":self.left, \"down\":self.down, \"right\":self.right}\n",
    "        direction = input(f'Player {self.player_turn} move: ').lower()\n",
    "        \n",
    "        \n",
    "#         assert direction inputed is in the players move_dictionary.keys, \"\"\n",
    "        try:\n",
    "            direction_converted = [player.player_dictionary[direction]]\n",
    "            legal = list(map(lambda x: move_dictionary[x],direction_converted))[0](player)\n",
    "            \n",
    "            \n",
    "        except KeyError:\n",
    "            print('Invalid Move')\n",
    "            legal = False\n",
    "       \n",
    "        return legal\n",
    "\n",
    "    \n",
    "    \n",
    "\n",
    "#     def find_player(self):\n",
    "#         for el in range(len(self.table)):\n",
    "#             try:\n",
    "#                 col = self.table[el].index(self.player_turn)\n",
    "#                 row =el\n",
    "#             except ValueError:\n",
    "#                 pass\n",
    "#         return row, col\n",
    "    \n",
    "    \n",
    "    def up(self, player):\n",
    "        \n",
    "        row = player.position[0]\n",
    "        col = player.position[1]\n",
    "        \n",
    "        if row == 1:\n",
    "            return False\n",
    "        else:\n",
    "            if self.table[row-1][col] == \"_\":\n",
    "                self.table[row][col] = \"X\"\n",
    "                self.table[row-1][col] = self.player_turn\n",
    "                \n",
    "                player.position[0] = row-1\n",
    "                return True     \n",
    "            else:\n",
    "                return False\n",
    "            \n",
    "    def left(self, player):\n",
    "        \n",
    "        row = player.position[0]\n",
    "        col = player.position[1]\n",
    "        \n",
    "        if col == 1:\n",
    "            return False\n",
    "        else:\n",
    "            if self.table[row][col-2] == \"_\":\n",
    "                self.table[row][col] = \"X\"\n",
    "                self.table[row][col-2] = self.player_turn\n",
    "                \n",
    "                player.position[1] = col-2\n",
    "                return True     \n",
    "            else:\n",
    "                return False     \n",
    "            \n",
    "    def right(self, player):\n",
    "        \n",
    "        row = player.position[0]\n",
    "        col = player.position[1]\n",
    "        \n",
    "        if col == 2*self.dimension-1:\n",
    "            return False\n",
    "        else:\n",
    "            if self.table[row][col+2] == \"_\":\n",
    "                self.table[row][col] = \"X\"\n",
    "                self.table[row][col+2] = self.player_turn\n",
    "                \n",
    "                player.position[1] = col+2\n",
    "                return True     \n",
    "            else:\n",
    "                return False     \n",
    "\n",
    "    def down(self, player):\n",
    "        \n",
    "        row = player.position[0]\n",
    "        col = player.position[1]\n",
    "        \n",
    "        if col == self.dimension+1:\n",
    "            return False\n",
    "        else:\n",
    "            if self.table[row+1][col] == \"_\":\n",
    "                self.table[row][col] = \"X\"\n",
    "                self.table[row+1][col] = self.player_turn\n",
    "                \n",
    "                player.position[0] = row+1\n",
    "                return True     \n",
    "            else:\n",
    "                return False     \n",
    "            \n",
    "            \n",
    "    def __main__(self):\n",
    "        '''\n",
    "        Function to run the game\n",
    "        '''\n",
    "#         print(f\"\\n Player {str(self.player_turn)}'s turn: \\n \")\n",
    "\n",
    "        legal = True\n",
    "        player_tuple = (self.player1, self.player2)\n",
    "        \n",
    "        while legal == True:\n",
    "            legal = self.move(player_tuple[self.player_turn - 1])\n",
    "            if legal == True:\n",
    "                self.show()\n",
    "                self.player_turn = self.player_turn%2 + 1\n",
    "        print(self.player_turn, \"lost\")"
   ]
  },
  {
   "cell_type": "code",
   "execution_count": 11,
   "metadata": {},
   "outputs": [
    {
     "name": "stdout",
     "output_type": "stream",
     "text": [
      "Player 1 keyboard: ['w', 'a', 's', 'd']\n",
      "Player 2 keyboard: ['i', 'j', 'k', 'l']\n",
      " _ _ _ _ _ _ _ _ _ _ \n",
      "|1¦_¦_¦_¦_¦_¦_¦_¦_¦_|\n",
      "|_¦_¦_¦_¦_¦_¦_¦_¦_¦_|\n",
      "|_¦_¦_¦_¦_¦_¦_¦_¦_¦_|\n",
      "|_¦_¦_¦_¦_¦_¦_¦_¦_¦_|\n",
      "|_¦_¦_¦_¦_¦_¦_¦_¦_¦_|\n",
      "|_¦_¦_¦_¦_¦_¦_¦_¦_¦_|\n",
      "|_¦_¦_¦_¦_¦_¦_¦_¦_¦_|\n",
      "|_¦_¦_¦_¦_¦_¦_¦_¦_¦_|\n",
      "|_¦_¦_¦_¦_¦_¦_¦_¦_¦_|\n",
      "|_¦_¦_¦_¦_¦_¦_¦_¦_¦2|\n",
      "Player 1 move: d\n",
      " _ _ _ _ _ _ _ _ _ _ \n",
      "|X¦1¦_¦_¦_¦_¦_¦_¦_¦_|\n",
      "|_¦_¦_¦_¦_¦_¦_¦_¦_¦_|\n",
      "|_¦_¦_¦_¦_¦_¦_¦_¦_¦_|\n",
      "|_¦_¦_¦_¦_¦_¦_¦_¦_¦_|\n",
      "|_¦_¦_¦_¦_¦_¦_¦_¦_¦_|\n",
      "|_¦_¦_¦_¦_¦_¦_¦_¦_¦_|\n",
      "|_¦_¦_¦_¦_¦_¦_¦_¦_¦_|\n",
      "|_¦_¦_¦_¦_¦_¦_¦_¦_¦_|\n",
      "|_¦_¦_¦_¦_¦_¦_¦_¦_¦_|\n",
      "|_¦_¦_¦_¦_¦_¦_¦_¦_¦2|\n",
      "Player 2 move: s\n",
      "Invalid Move\n",
      "2 lost\n"
     ]
    }
   ],
   "source": [
    "a = Board(10)\n",
    "a.__main__()\n",
    "# a.player_turn\n"
   ]
  },
  {
   "cell_type": "markdown",
   "metadata": {},
   "source": [
    "# WORKING"
   ]
  },
  {
   "cell_type": "code",
   "execution_count": 32,
   "metadata": {},
   "outputs": [],
   "source": [
    "def create_board(dimension):\n",
    "    assert type(dimension) == int, \"Please input an integer for board size\"\n",
    "    assert dimension > 3, \"Board size must be greater than 3\"\n",
    "\n",
    "    top_row = [\" \",\"_\"] * dimension\n",
    "    top_row.append(\" \")\n",
    "    top_row.append(\"\\n\")\n",
    "\n",
    "    base_row = [\"|\",\"_\",\"|\",\"\\n\"]\n",
    "\n",
    "    for x in range(dimension-1):\n",
    "        base_row.insert(1,'¦')\n",
    "        base_row.insert(1,'_')\n",
    "\n",
    "    table = []\n",
    "    for x in range(dimension+1):\n",
    "        if x ==0:\n",
    "            table.append(top_row.copy())\n",
    "        else:\n",
    "            table.append(base_row.copy())\n",
    "\n",
    "    table = insert_players(table,dimension)\n",
    "\n",
    "    return table"
   ]
  },
  {
   "cell_type": "code",
   "execution_count": 33,
   "metadata": {},
   "outputs": [],
   "source": [
    "def insert_players(table,dimension):\n",
    "# insert players on board (customise character symbols?) add on @ symbol?\n",
    "    table[player1.r_position][player1.c_position] = player1.name\n",
    "    table[player2.r_position][player2.c_position] = player2.name\n",
    "\n",
    "    return table"
   ]
  },
  {
   "cell_type": "code",
   "execution_count": 83,
   "metadata": {},
   "outputs": [],
   "source": [
    "def find_player(table):\n",
    "    for el in range(len(table)):\n",
    "        try:\n",
    "            col = table[el].index('2')\n",
    "            row = el\n",
    "        except ValueError:\n",
    "            pass\n",
    "    return row,col"
   ]
  },
  {
   "cell_type": "code",
   "execution_count": 84,
   "metadata": {},
   "outputs": [],
   "source": [
    "def show(table):\n",
    "    for y in range(len(table)):\n",
    "        for x in table[y]:\n",
    "            print(x, end=\"\")"
   ]
  },
  {
   "cell_type": "code",
   "execution_count": 85,
   "metadata": {},
   "outputs": [
    {
     "ename": "UnboundLocalError",
     "evalue": "local variable 'row' referenced before assignment",
     "output_type": "error",
     "traceback": [
      "\u001b[1;31m---------------------------------------------------------------------------\u001b[0m",
      "\u001b[1;31mUnboundLocalError\u001b[0m                         Traceback (most recent call last)",
      "\u001b[1;32m~\\AppData\\Local\\Temp/ipykernel_31540/987884386.py\u001b[0m in \u001b[0;36m<module>\u001b[1;34m\u001b[0m\n\u001b[0;32m      1\u001b[0m \u001b[0mtable\u001b[0m \u001b[1;33m=\u001b[0m \u001b[0mcreate_board\u001b[0m\u001b[1;33m(\u001b[0m\u001b[1;36m4\u001b[0m\u001b[1;33m)\u001b[0m\u001b[1;33m\u001b[0m\u001b[1;33m\u001b[0m\u001b[0m\n\u001b[1;32m----> 2\u001b[1;33m \u001b[0mfind_player\u001b[0m\u001b[1;33m(\u001b[0m\u001b[0mtable\u001b[0m\u001b[1;33m)\u001b[0m\u001b[1;33m\u001b[0m\u001b[1;33m\u001b[0m\u001b[0m\n\u001b[0m",
      "\u001b[1;32m~\\AppData\\Local\\Temp/ipykernel_31540/4062100641.py\u001b[0m in \u001b[0;36mfind_player\u001b[1;34m(table)\u001b[0m\n\u001b[0;32m      6\u001b[0m         \u001b[1;32mexcept\u001b[0m \u001b[0mValueError\u001b[0m\u001b[1;33m:\u001b[0m\u001b[1;33m\u001b[0m\u001b[1;33m\u001b[0m\u001b[0m\n\u001b[0;32m      7\u001b[0m             \u001b[1;32mpass\u001b[0m\u001b[1;33m\u001b[0m\u001b[1;33m\u001b[0m\u001b[0m\n\u001b[1;32m----> 8\u001b[1;33m     \u001b[1;32mreturn\u001b[0m \u001b[0mrow\u001b[0m\u001b[1;33m,\u001b[0m\u001b[0mcol\u001b[0m\u001b[1;33m\u001b[0m\u001b[1;33m\u001b[0m\u001b[0m\n\u001b[0m",
      "\u001b[1;31mUnboundLocalError\u001b[0m: local variable 'row' referenced before assignment"
     ]
    }
   ],
   "source": [
    "table = create_board(4)\n",
    "find_player(table)"
   ]
  },
  {
   "cell_type": "code",
   "execution_count": 125,
   "metadata": {},
   "outputs": [
    {
     "data": {
      "text/plain": [
       "[['Cell A1', None, None, None, None],\n",
       " ['Cell A1', None, None, None, None],\n",
       " ['Cell A1', None, None, None, None],\n",
       " ['Cell A1', None, None, None, None],\n",
       " ['Cell A1', None, None, None, None]]"
      ]
     },
     "execution_count": 125,
     "metadata": {},
     "output_type": "execute_result"
    }
   ],
   "source": [
    "data = [[None]*5]*5\n",
    "data[0][0] = 'Cell A1'\n",
    "data"
   ]
  },
  {
   "cell_type": "code",
   "execution_count": 129,
   "metadata": {},
   "outputs": [
    {
     "data": {
      "text/plain": [
       "[[None, None, None, None, None],\n",
       " [None, None, None, None, None],\n",
       " [None, None, None, None, None],\n",
       " [None, None, None, None, None],\n",
       " [None, None, None, None, None]]"
      ]
     },
     "execution_count": 129,
     "metadata": {},
     "output_type": "execute_result"
    }
   ],
   "source": [
    "data = [[None]*5 for _ in range(5)]\n",
    "data"
   ]
  },
  {
   "cell_type": "code",
   "execution_count": 142,
   "metadata": {},
   "outputs": [
    {
     "data": {
      "text/plain": [
       "'1'"
      ]
     },
     "execution_count": 142,
     "metadata": {},
     "output_type": "execute_result"
    }
   ],
   "source": [
    "x = '1'\n",
    "x.lower()"
   ]
  },
  {
   "cell_type": "code",
   "execution_count": 136,
   "metadata": {},
   "outputs": [],
   "source": [
    "# To do: continue denumpying the code.\n",
    "#     Remember when you create something from a list, it is a reference and not a copy, so the list itself is an object so can be repeated\n",
    "# make more tidy/efficient"
   ]
  },
  {
   "cell_type": "code",
   "execution_count": null,
   "metadata": {},
   "outputs": [],
   "source": [
    "# Board is not recognised in the player class, so cant use it in the functions\n",
    "# - either move board referencing functions to the board class, or integrate board into player class?\n",
    "\n",
    "# change move function"
   ]
  },
  {
   "cell_type": "code",
   "execution_count": 119,
   "metadata": {},
   "outputs": [
    {
     "ename": "IndexError",
     "evalue": "list index out of range",
     "output_type": "error",
     "traceback": [
      "\u001b[1;31m---------------------------------------------------------------------------\u001b[0m",
      "\u001b[1;31mIndexError\u001b[0m                                Traceback (most recent call last)",
      "\u001b[1;32m~\\AppData\\Local\\Temp/ipykernel_31540/3842735165.py\u001b[0m in \u001b[0;36m<module>\u001b[1;34m\u001b[0m\n\u001b[1;32m----> 1\u001b[1;33m \u001b[0mlst\u001b[0m \u001b[1;33m=\u001b[0m \u001b[1;33m[\u001b[0m\u001b[1;36m1\u001b[0m\u001b[1;33m]\u001b[0m\u001b[1;33m[\u001b[0m\u001b[1;36m1\u001b[0m\u001b[1;33m]\u001b[0m\u001b[1;33m\u001b[0m\u001b[1;33m\u001b[0m\u001b[0m\n\u001b[0m\u001b[0;32m      2\u001b[0m \u001b[1;33m\u001b[0m\u001b[0m\n\u001b[0;32m      3\u001b[0m \u001b[1;31m# table\u001b[0m\u001b[1;33m\u001b[0m\u001b[1;33m\u001b[0m\u001b[0m\n",
      "\u001b[1;31mIndexError\u001b[0m: list index out of range"
     ]
    }
   ],
   "source": [
    "lst = [1][1]\n",
    "\n",
    "table[]"
   ]
  },
  {
   "cell_type": "code",
   "execution_count": null,
   "metadata": {},
   "outputs": [],
   "source": []
  }
 ],
 "metadata": {
  "kernelspec": {
   "display_name": "Python 3 (ipykernel)",
   "language": "python",
   "name": "python3"
  },
  "language_info": {
   "codemirror_mode": {
    "name": "ipython",
    "version": 3
   },
   "file_extension": ".py",
   "mimetype": "text/x-python",
   "name": "python",
   "nbconvert_exporter": "python",
   "pygments_lexer": "ipython3",
   "version": "3.9.7"
  }
 },
 "nbformat": 4,
 "nbformat_minor": 4
}
