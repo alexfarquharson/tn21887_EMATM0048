{
 "cells": [
  {
   "cell_type": "markdown",
   "metadata": {},
   "source": [
    "# TRON game\n"
   ]
  },
  {
   "cell_type": "code",
   "execution_count": 5,
   "metadata": {},
   "outputs": [
    {
     "ename": "SyntaxError",
     "evalue": "invalid syntax (<ipython-input-5-f5085b2043ad>, line 1)",
     "output_type": "error",
     "traceback": [
      "\u001b[1;36m  File \u001b[1;32m\"<ipython-input-5-f5085b2043ad>\"\u001b[1;36m, line \u001b[1;32m1\u001b[0m\n\u001b[1;33m    Notes:\u001b[0m\n\u001b[1;37m          ^\u001b[0m\n\u001b[1;31mSyntaxError\u001b[0m\u001b[1;31m:\u001b[0m invalid syntax\n"
     ]
    }
   ],
   "source": [
    "Notes:\n",
    "    Thought about making board out of 1d array not 2 - then lower Big 0 notation, only one for loop\n",
    "    But then for loop is over n^2 so its the same - duhh\n",
    "    \n",
    "    Board set up so that every line is an element in the game - easier for indexing, cycling through array etc.\n",
    "    \n",
    "    \n",
    "which methods should be in which class?\n",
    "put methods in player class that change players attributes like position\n",
    "\n",
    "\n",
    "originally had find_player as a function to find player every time.\n",
    "Now keep a track of players position - more efficient, no need to itrate through table"
   ]
  },
  {
   "cell_type": "code",
   "execution_count": null,
   "metadata": {},
   "outputs": [],
   "source": [
    "Setup requires:\n",
    "    PVP, PVC (EASY) PVC (HARD)\n",
    "    Consecutiveor simultaneuous\n",
    "    \n",
    "    Other: set player icon/colour/keys"
   ]
  },
  {
   "cell_type": "code",
   "execution_count": 13,
   "metadata": {},
   "outputs": [],
   "source": [
    "def setup():\n",
    "    begin = input(\"Would you like to play Tron? (y/n)\").lower()\n",
    "    begin_dict = {'y':None,'n':None}\n",
    "    try:\n",
    "        list(map(lambda x: begin_dict[x],begin))[0]\n",
    "        if begin == 'n':\n",
    "            print('Have a nice day')\n",
    "        else:\n",
    "            print('##############################')\n",
    "            game_type_qu()\n",
    "    except KeyError:\n",
    "        print('Invalid option: (type y or n)')\n",
    "        setup()\n",
    "        \n",
    "\n",
    "def game_type_qu():\n",
    "    global game_type_input\n",
    "    game_type_input = input('What game version would you like to play?: \\n a. Consecutive turns? \\n b. Simultaneous turns? \\n (Choose a or b) \\n').lower()\n",
    "    game_type_dict = {'a':'consecutive','b':'simultaneous'}\n",
    "    try:\n",
    "        game_type_input = list(map(lambda x: game_type_dict[x],game_type_input))[0]\n",
    "        print('##############################')\n",
    "        player_type_qu()\n",
    "    except:\n",
    "        print('Invalid option: (type a or b)')\n",
    "        game_type_qu()\n",
    "        \n",
    "\n",
    "def player_type_qu():\n",
    "    global player_type_input\n",
    "    player_type_input = input('Who do you want to play?: \\n a. PVP? \\n b. PVC (easy)? \\n c. PVC (hard)? \\n (Choose a, b or c) \\n').lower()\n",
    "    player_type_dict = {'a':'PVP','b':'PVC (easy)', 'c': 'PVC (hard)'}\n",
    "    try:\n",
    "        player_type_input = list(map(lambda x: player_type_dict[x],player_type_input))[0]\n",
    "        print('##############################')\n",
    "        dimension_qu()\n",
    "    except:\n",
    "        print('Invalid option: (type a, b or c)')\n",
    "        player_type_qu()\n",
    "        \n",
    "        \n",
    "def dimension_qu():\n",
    "    global dimension_input\n",
    "    while True:\n",
    "        try:\n",
    "            dimension_input = int(input('Please insert board size (minimum 4).'))\n",
    "            if dimension_input >= 4:\n",
    "                print('##############################')\n",
    "                break\n",
    "            else:\n",
    "                print(\"(Board size minimum is 4)\")\n",
    "        except:\n",
    "            print(\"I didn't quite get that, please input a number\")\n",
    "\n",
    "def start_game(dimension_input = dimension_input, player_type_input = player_type_input, game_type_input = game_type_input):\n",
    "    \n",
    "#     initialise game\n",
    "    game = Board(dimension = dimension_input, player_type = player_type_input, game_type = game_type_input)\n",
    "# print instructions (in board class init)\n",
    "\n",
    "# start game\n",
    "    game.play()"
   ]
  },
  {
   "cell_type": "code",
   "execution_count": 14,
   "metadata": {},
   "outputs": [
    {
     "name": "stdout",
     "output_type": "stream",
     "text": [
      "Would you like to play Tron? (y/n)y\n",
      "##############################\n",
      "What game version would you like to play?: \n",
      " a. Consecutive turns? \n",
      " b. Simultaneous turns? \n",
      " (Choose a or b) \n",
      "a\n",
      "##############################\n",
      "Who do you want to play?: \n",
      " a. PVP? \n",
      " b. PVC (easy)? \n",
      " c. PVC (hard)? \n",
      " (Choose a, b or c) \n",
      "a\n",
      "##############################\n",
      "Please insert board size (minimum 4).4\n",
      "##############################\n",
      "Player 1 keyboard: ['w', 'a', 's', 'd']\n",
      "Player 2 keyboard: ['i', 'j', 'k', 'l']\n",
      " _ _ _ _ \n",
      "|1¦_¦_¦_|\n",
      "|_¦_¦_¦_|\n",
      "|_¦_¦_¦_|\n",
      "|_¦_¦_¦2|\n",
      " _ _ _ _ \n",
      "|1¦_¦_¦_|\n",
      "|_¦_¦_¦_|\n",
      "|_¦_¦_¦_|\n",
      "|_¦_¦_¦2|\n",
      "Player 1 move: d\n",
      " _ _ _ _ \n",
      "|X¦1¦_¦_|\n",
      "|_¦_¦_¦_|\n",
      "|_¦_¦_¦_|\n",
      "|_¦_¦_¦2|\n",
      "Player 2 move: j\n",
      " _ _ _ _ \n",
      "|X¦1¦_¦_|\n",
      "|_¦_¦_¦_|\n",
      "|_¦_¦_¦_|\n",
      "|_¦_¦2¦X|\n",
      "Player 1 move: s\n",
      " _ _ _ _ \n",
      "|X¦X¦_¦_|\n",
      "|_¦1¦_¦_|\n",
      "|_¦_¦_¦_|\n",
      "|_¦_¦2¦X|\n",
      "Player 2 move: i\n",
      " _ _ _ _ \n",
      "|X¦X¦_¦_|\n",
      "|_¦1¦_¦_|\n",
      "|_¦_¦2¦_|\n",
      "|_¦_¦X¦X|\n",
      "Player 1 move: d\n",
      " _ _ _ _ \n",
      "|X¦X¦_¦_|\n",
      "|_¦X¦1¦_|\n",
      "|_¦_¦2¦_|\n",
      "|_¦_¦X¦X|\n",
      "Player 2 move: i\n",
      "2 lost\n"
     ]
    }
   ],
   "source": [
    "setup()\n",
    "start_game()"
   ]
  },
  {
   "cell_type": "code",
   "execution_count": null,
   "metadata": {},
   "outputs": [],
   "source": []
  },
  {
   "cell_type": "code",
   "execution_count": null,
   "metadata": {},
   "outputs": [],
   "source": []
  },
  {
   "cell_type": "code",
   "execution_count": 76,
   "metadata": {},
   "outputs": [
    {
     "name": "stdout",
     "output_type": "stream",
     "text": [
      "w up\n",
      "a left\n",
      "s down\n",
      "d right\n"
     ]
    }
   ],
   "source": [
    "player_dictionary = {\"w\":'up', \"a\":'left', \"s\":'down', \"d\":'right'}\n",
    "\n",
    "for x, y in player_dictionary.items():\n",
    "    print(x,y)"
   ]
  },
  {
   "cell_type": "code",
   "execution_count": 3,
   "metadata": {},
   "outputs": [],
   "source": [
    "# # create boardgame\n",
    "# class Tron():\n",
    "    \n",
    "#     def __init__(self, dimension, player1, player2):\n",
    "        \n",
    "#         self.board = Board(dimension)\n",
    "#         self.player1 = Player(player1)\n",
    "#         self.player2 = Player(player2)      "
   ]
  },
  {
   "cell_type": "code",
   "execution_count": 115,
   "metadata": {},
   "outputs": [],
   "source": [
    "class Player():\n",
    "    \n",
    "    def __init__(self, name, dimension):\n",
    "        self.name = name\n",
    "        self.dimension = dimension\n",
    "        self.score = 0\n",
    "        self.position = list(self.set_position())\n",
    "        \n",
    "\n",
    "        \n",
    "    def set_position(self):\n",
    "        if self.name == \"1\":\n",
    "            return (1, 1)\n",
    "        else:\n",
    "            return self.dimension, 2*self.dimension-1"
   ]
  },
  {
   "cell_type": "code",
   "execution_count": 116,
   "metadata": {},
   "outputs": [],
   "source": [
    "class Human(Player):\n",
    "    \n",
    "    def __init__(self, name, dimension, default_keys = True):\n",
    "#         inherits all Player class attributes and methods\n",
    "        super().__init__(name, dimension)\n",
    "        self.type = \"Human\"\n",
    "        self.player_dictionary = self.player_dictionary_setup()       \n",
    "\n",
    "        \n",
    "    def player_dictionary_setup(self):\n",
    "        '''\n",
    "        Function to create move dictionary for the two players\n",
    "        '''\n",
    "        \n",
    "#         add in change keys later if needed\n",
    "        if self.name == \"1\":\n",
    "            player_dictionary = {\"w\":'up', \"a\":'left', \"s\":'down', \"d\":'right'}\n",
    "\n",
    "        else:\n",
    "            player_dictionary = {\"i\":'up', \"j\":'left', \"k\":'down', \"l\":'right'}\n",
    "            \n",
    "        return player_dictionary\n",
    "    \n",
    "    def show_keys(self):\n",
    "        print(f\"\\n Player {self.name} keyboard: \")\n",
    "        for (key, value) in (self.player_dictionary.items()):\n",
    "            print(f\"{value}: {key}\")"
   ]
  },
  {
   "cell_type": "code",
   "execution_count": 156,
   "metadata": {},
   "outputs": [],
   "source": [
    "class Computer(Player):\n",
    "    \n",
    "    def __init__(self, name, dimension):\n",
    "        super().__init__(name, dimension)\n",
    "        self.type = \"Computer\"\n",
    "        self.directions = ['up','left','down','right']\n",
    "    \n",
    "    def random_move(self):\n",
    "        \n",
    "        rand = random.randint(0,3)\n",
    "        return [self.directions[rand]]\n",
    "    \n",
    "    def smart_move(self):\n",
    "        "
   ]
  },
  {
   "cell_type": "code",
   "execution_count": 157,
   "metadata": {},
   "outputs": [
    {
     "data": {
      "text/plain": [
       "['down']"
      ]
     },
     "execution_count": 157,
     "metadata": {},
     "output_type": "execute_result"
    }
   ],
   "source": [
    "a = Computer('1',2)\n",
    "\n",
    "a.random_move()"
   ]
  },
  {
   "cell_type": "code",
   "execution_count": null,
   "metadata": {},
   "outputs": [],
   "source": []
  },
  {
   "cell_type": "code",
   "execution_count": 219,
   "metadata": {},
   "outputs": [
    {
     "ename": "IndentationError",
     "evalue": "expected an indented block (Temp/ipykernel_50820/4218743855.py, line 169)",
     "output_type": "error",
     "traceback": [
      "\u001b[1;36m  File \u001b[1;32m\"C:\\Users\\farqu\\AppData\\Local\\Temp/ipykernel_50820/4218743855.py\"\u001b[1;36m, line \u001b[1;32m169\u001b[0m\n\u001b[1;33m    def up(self, player, simultaneous):\u001b[0m\n\u001b[1;37m    ^\u001b[0m\n\u001b[1;31mIndentationError\u001b[0m\u001b[1;31m:\u001b[0m expected an indented block\n"
     ]
    }
   ],
   "source": [
    "import random\n",
    "\n",
    "class Board():\n",
    "    \"\"\"\n",
    "    The Board class\n",
    "    \"\"\"\n",
    "\n",
    "        \n",
    "        \n",
    "    def __init__(self, dimension, game_type, player_type):\n",
    "#         game configuration\n",
    "        self.game_type = game_type\n",
    "        self.player_type = player_type\n",
    "        \n",
    "#         player creation\n",
    "        self.player1 = Human(name = '1', dimension = dimension)\n",
    "        self.player1.show_keys()\n",
    "        \n",
    "        if self.player_type == \"PVP\":\n",
    "            self.player2 = Human(name = '2', dimension = dimension)\n",
    "            self.player2.show_keys()\n",
    "        \n",
    "        elif self.player_type == \"PVC (easy)\":\n",
    "            print('Computer is player 2')\n",
    "            self.player2 = Computer(name = '2', dimension = dimension)  \n",
    "            \n",
    "        else:\n",
    "            print('Computer is player 2')\n",
    "            self.player2 = Computer(name = '2', dimension = dimension)  \n",
    "            \n",
    "#         table creation\n",
    "        self.dimension = dimension\n",
    "        self.table = self.create_board(dimension)\n",
    "        \n",
    "        self.move_dictionary = {\"up\":self.up, \"left\":self.left, \"down\":self.down, \"right\":self.right}\n",
    "        self.player_turn = random.randint(1,2)\n",
    " \n",
    "\n",
    "    def insert_players(self, table, player):\n",
    "    # insert players on board (customise character symbols?) add on @ symbol?\n",
    "        table[player.position[0]][player.position[1]] = player.name\n",
    "\n",
    "        return table\n",
    "\n",
    "    def create_board(self, dimension):\n",
    "        '''\n",
    "        Creates a board given a dimension\n",
    "        Puts players in board\n",
    "        '''\n",
    "        \n",
    "        assert type(dimension) == int, \"Please input an integer for board size\"\n",
    "        assert dimension > 3, \"Board size must be greater than 3\"\n",
    "\n",
    "#         Create top row (different from all other rows)\n",
    "        top_row = [\" \",\"_\"] * dimension\n",
    "        top_row.append(\" \")\n",
    "        top_row.append(\"\\n\")\n",
    "\n",
    "#         Create normal row\n",
    "        base_row = [\"|\",\"_\",\"|\",\"\\n\"]\n",
    "\n",
    "        for x in range(dimension-1):\n",
    "            base_row.insert(1,'¦')\n",
    "            base_row.insert(1,'_')\n",
    "\n",
    "#         Combine rows together (copying so that not a reference)\n",
    "        table = []\n",
    "        for x in range(dimension+1):\n",
    "            if x ==0:\n",
    "                table.append(top_row.copy())\n",
    "            else:\n",
    "                table.append(base_row.copy())\n",
    "\n",
    "#         Insert players in table\n",
    "        players = (self.player1, self.player2)\n",
    "        for player in players:\n",
    "            table = self.insert_players(table, player)\n",
    "\n",
    "        return table\n",
    "    \n",
    "\n",
    "\n",
    "    \n",
    "    def show(self):\n",
    "        \"\"\"Function to print the board table\"\"\"\n",
    "        \n",
    "        for y in range(len(self.table)):\n",
    "            for x in self.table[y]:\n",
    "                print(x, end=\"\")\n",
    "                \n",
    "\n",
    "    def move(self, player, simultaneous = False):\n",
    "        '''\n",
    "        Function to receive input, move player, determine if move legal or not\n",
    "        '''\n",
    "        \n",
    "#         use of dictionary, then only exception to deal with is key error\n",
    "        move_dictionary = {\"up\":self.up, \"left\":self.left, \"down\":self.down, \"right\":self.right}\n",
    "\n",
    "# deal with human input\n",
    "        if player.type == \"Human\":\n",
    "            direction = input(f'Input player {player.name} move: ').lower()\n",
    "            try:\n",
    "#         assert direction inputed is in the players move_dictionary.keys, \"\"\n",
    "                direction_converted = [player.player_dictionary[direction]]\n",
    "            except KeyError:\n",
    "                print('Invalid Move')\n",
    "                legal = False\n",
    "                return legal\n",
    "                \n",
    "# deal with computer input\n",
    "        else:\n",
    "            direction_converted = self.random_move(player = player, simultaneous = simultaneous)\n",
    "        \n",
    "\n",
    "\n",
    "\n",
    "        legal = list(map(lambda x: self.move_dictionary[x],direction_converted))[0](player, simultaneous)\n",
    "        return legal\n",
    "\n",
    "    \n",
    "    \n",
    "    def random_move(self, player, simultaneous):\n",
    "        '''\n",
    "        Function to create random non-suicidal input\n",
    "        '''\n",
    "        \n",
    "        print(player.name, simultaneous)\n",
    "        \n",
    "        rand = random.randint(0,3)\n",
    "        direction_converted = [list(self.move_dictionary.keys())[rand]]\n",
    "        \n",
    "        print(direction_converted)\n",
    "        print(self.move_dictionary)\n",
    "        \n",
    "        if list(map(lambda x: self.move_dictionary[x],direction_converted))[0](player, simultaneous) == False:\n",
    "            self.random_move(player, simultaneous)\n",
    "        else:\n",
    "            return direction_converted\n",
    "    \n",
    "    \n",
    "    \n",
    "#     def find_player(self):\n",
    "#         for el in range(len(self.table)):\n",
    "#             try:\n",
    "#                 col = self.table[el].index(self.player_turn)\n",
    "#                 row =el\n",
    "#             except ValueError:\n",
    "#                 pass\n",
    "#         return row, col\n",
    "    \n",
    "    def check_up(self, player, simultaneous):\n",
    "        \n",
    "        row = player.position[0]\n",
    "        col = player.position[1]\n",
    "\n",
    "        if row == 1:\n",
    "            return False\n",
    "        elif self.table[row-1][col] == \"_\" or (self.table[row-1][col] == \"1\" and simultaneous):\n",
    "            return True\n",
    "        else:\n",
    "            return False\n",
    "            \n",
    "        \n",
    "            \n",
    "                     \n",
    "    def move_up(self, player, simultaneous):\n",
    "        \n",
    "        row = player.position[0]\n",
    "        col = player.position[1]\n",
    "        \n",
    "        if row == 1:\n",
    "            return False\n",
    "        else:\n",
    "            if self.table[row-1][col] == \"_\" or (self.table[row-1][col] == \"1\" and simultaneous):\n",
    "                self.table[row][col] = \"X\"\n",
    "                self.table[row-1][col] = player.name\n",
    "                \n",
    "                player.position[0] = row-1\n",
    "                return True        \n",
    "                \n",
    "            else:\n",
    "                return False\n",
    "            \n",
    "    def left(self, player, simultaneous):\n",
    "        \n",
    "        row = player.position[0]\n",
    "        col = player.position[1]\n",
    "        \n",
    "        if col == 1:\n",
    "            return False\n",
    "        else:\n",
    "            if self.table[row][col-2] == \"_\" or (self.table[row][col-2] == \"1\" and simultaneous):\n",
    "                self.table[row][col] = \"X\"\n",
    "                self.table[row][col-2] = player.name\n",
    "                \n",
    "                player.position[1] = col-2\n",
    "                return True     \n",
    "            else:\n",
    "                return False     \n",
    "            \n",
    "    def right(self, player, simultaneous):\n",
    "        \n",
    "        row = player.position[0]\n",
    "        col = player.position[1]\n",
    "        \n",
    "        if col == 2*self.dimension-1:\n",
    "\n",
    "            return False\n",
    "        else:\n",
    "            if self.table[row][col+2] == \"_\" or (self.table[row][col+2] == \"1\" and simultaneous):\n",
    "                self.table[row][col] = \"X\"\n",
    "                self.table[row][col+2] = player.name\n",
    "                \n",
    "                player.position[1] = col+2\n",
    "                return True     \n",
    "            else:\n",
    "                return False     \n",
    "\n",
    "    def down(self, player, simultaneous):\n",
    "        \n",
    "        row = player.position[0]\n",
    "        col = player.position[1]\n",
    "        \n",
    "        if row == self.dimension:\n",
    "            return False\n",
    "        else:\n",
    "            if self.table[row+1][col] == \"_\" or (self.table[row+1][col] == \"1\" and simultaneous):\n",
    "                self.table[row][col] = \"X\"\n",
    "                self.table[row+1][col] = player.name\n",
    "                \n",
    "                player.position[0] = row+1\n",
    "                return True     \n",
    "            else:\n",
    "                return False     \n",
    "            \n",
    "            \n",
    "    def play_consecutive(self):\n",
    "        '''\n",
    "        Wrapper function to play the game in consecutive turns\n",
    "        '''\n",
    "#         print(f\"\\n Player {str(self.player_turn)}'s turn: \\n \")\n",
    "\n",
    "        legal = True\n",
    "        players = (self.player1, self.player2)\n",
    "        \n",
    "        while legal == True:\n",
    "            self.show()\n",
    "            legal = self.move(players[self.player_turn - 1])\n",
    "            if legal == True:\n",
    "                self.player_turn = self.player_turn%2 + 1\n",
    "        print(players[self.player_turn - 1].name, \"lost\")\n",
    "        \n",
    "        \n",
    "    def play_simultaneous(self):\n",
    "        '''\n",
    "        Wrapper function to play the game in simultaneous turns\n",
    "        '''\n",
    "#         move function takes an individual players move, so should require just manipulation of wrapper function to move simultaneously\n",
    "        legal1 = True\n",
    "        legal2 = True\n",
    "        \n",
    "        while legal1 == True & legal2 == True:\n",
    "            self.show()\n",
    "            legal1 = self.move(self.player1)\n",
    "#             allow if player 2 crashes goes into same square as player 1\n",
    "            legal2 = self.move(self.player2, simultaneous = True)\n",
    "            \n",
    "#             special case of both players heading to same square dealt with\n",
    "            if self.player1.position == self.player2.position:\n",
    "                legal1 = False\n",
    "                legal2 = False\n",
    "                self.table[self.player1.position[0]][self.player1.position[1]] = 'O'\n",
    "                self.show()\n",
    "                print('You crashed head on!')\n",
    "\n",
    "#         All the win logic\n",
    "        if not legal1 and not legal2:\n",
    "            print('Draw')\n",
    "        elif not legal2:\n",
    "            print(f'Player {self.player1.name} wins')\n",
    "        else:\n",
    "            print(f'Player {self.player2.name} wins')\n",
    "            \n",
    "            \n",
    "            \n",
    "    \n",
    "    \n",
    "    def play(self):\n",
    "        \n",
    "        print(f\"********************\\n Player {self.player_turn} starts. \\n Board:\")\n",
    "        \n",
    "        if self.game_type == \"consecutive\":\n",
    "            self.play_consecutive()\n",
    "        else:\n",
    "            self.play_simultaneous()\n",
    "    \n",
    "    \n",
    "            \n"
   ]
  },
  {
   "cell_type": "code",
   "execution_count": 217,
   "metadata": {},
   "outputs": [],
   "source": [
    "move_dictionary = {\"up\":1, \"left\":2, \"down\":3, \"right\":4}\n"
   ]
  },
  {
   "cell_type": "code",
   "execution_count": null,
   "metadata": {},
   "outputs": [],
   "source": []
  },
  {
   "cell_type": "code",
   "execution_count": 218,
   "metadata": {},
   "outputs": [
    {
     "name": "stdout",
     "output_type": "stream",
     "text": [
      "\n",
      " Player 1 keyboard: \n",
      "up: w\n",
      "left: a\n",
      "down: s\n",
      "right: d\n",
      "Computer is player 2\n",
      "********************\n",
      " Player 2 starts. \n",
      " Board:\n",
      " _ _ _ _ _ _ _ _ _ _ \n",
      "|1¦_¦_¦_¦_¦_¦_¦_¦_¦_|\n",
      "|_¦_¦_¦_¦_¦_¦_¦_¦_¦_|\n",
      "|_¦_¦_¦_¦_¦_¦_¦_¦_¦_|\n",
      "|_¦_¦_¦_¦_¦_¦_¦_¦_¦_|\n",
      "|_¦_¦_¦_¦_¦_¦_¦_¦_¦_|\n",
      "|_¦_¦_¦_¦_¦_¦_¦_¦_¦_|\n",
      "|_¦_¦_¦_¦_¦_¦_¦_¦_¦_|\n",
      "|_¦_¦_¦_¦_¦_¦_¦_¦_¦_|\n",
      "|_¦_¦_¦_¦_¦_¦_¦_¦_¦_|\n",
      "|_¦_¦_¦_¦_¦_¦_¦_¦_¦2|\n",
      "2 False\n",
      "['right']\n",
      "{'up': <bound method Board.up of <__main__.Board object at 0x00000223B968BAF0>>, 'left': <bound method Board.left of <__main__.Board object at 0x00000223B968BAF0>>, 'down': <bound method Board.down of <__main__.Board object at 0x00000223B968BAF0>>, 'right': <bound method Board.right of <__main__.Board object at 0x00000223B968BAF0>>}\n",
      "2 False\n",
      "['left']\n",
      "{'up': <bound method Board.up of <__main__.Board object at 0x00000223B968BAF0>>, 'left': <bound method Board.left of <__main__.Board object at 0x00000223B968BAF0>>, 'down': <bound method Board.down of <__main__.Board object at 0x00000223B968BAF0>>, 'right': <bound method Board.right of <__main__.Board object at 0x00000223B968BAF0>>}\n"
     ]
    },
    {
     "ename": "TypeError",
     "evalue": "'NoneType' object is not iterable",
     "output_type": "error",
     "traceback": [
      "\u001b[1;31m---------------------------------------------------------------------------\u001b[0m",
      "\u001b[1;31mTypeError\u001b[0m                                 Traceback (most recent call last)",
      "\u001b[1;32m~\\AppData\\Local\\Temp/ipykernel_50820/2357131446.py\u001b[0m in \u001b[0;36m<module>\u001b[1;34m\u001b[0m\n\u001b[0;32m      1\u001b[0m \u001b[0ma\u001b[0m \u001b[1;33m=\u001b[0m \u001b[0mBoard\u001b[0m\u001b[1;33m(\u001b[0m\u001b[1;36m10\u001b[0m\u001b[1;33m,\u001b[0m \u001b[1;34m'consecutive'\u001b[0m\u001b[1;33m,\u001b[0m\u001b[1;34m'PVC'\u001b[0m\u001b[1;33m)\u001b[0m\u001b[1;33m\u001b[0m\u001b[1;33m\u001b[0m\u001b[0m\n\u001b[1;32m----> 2\u001b[1;33m \u001b[0ma\u001b[0m\u001b[1;33m.\u001b[0m\u001b[0mplay\u001b[0m\u001b[1;33m(\u001b[0m\u001b[1;33m)\u001b[0m\u001b[1;33m\u001b[0m\u001b[1;33m\u001b[0m\u001b[0m\n\u001b[0m\u001b[0;32m      3\u001b[0m \u001b[1;31m# a.player_turn\u001b[0m\u001b[1;33m\u001b[0m\u001b[1;33m\u001b[0m\u001b[0m\n\u001b[0;32m      4\u001b[0m \u001b[1;31m# a.player1.show_keys()\u001b[0m\u001b[1;33m\u001b[0m\u001b[1;33m\u001b[0m\u001b[0m\n",
      "\u001b[1;32m~\\AppData\\Local\\Temp/ipykernel_50820/688798993.py\u001b[0m in \u001b[0;36mplay\u001b[1;34m(self)\u001b[0m\n\u001b[0;32m    278\u001b[0m \u001b[1;33m\u001b[0m\u001b[0m\n\u001b[0;32m    279\u001b[0m         \u001b[1;32mif\u001b[0m \u001b[0mself\u001b[0m\u001b[1;33m.\u001b[0m\u001b[0mgame_type\u001b[0m \u001b[1;33m==\u001b[0m \u001b[1;34m\"consecutive\"\u001b[0m\u001b[1;33m:\u001b[0m\u001b[1;33m\u001b[0m\u001b[1;33m\u001b[0m\u001b[0m\n\u001b[1;32m--> 280\u001b[1;33m             \u001b[0mself\u001b[0m\u001b[1;33m.\u001b[0m\u001b[0mplay_consecutive\u001b[0m\u001b[1;33m(\u001b[0m\u001b[1;33m)\u001b[0m\u001b[1;33m\u001b[0m\u001b[1;33m\u001b[0m\u001b[0m\n\u001b[0m\u001b[0;32m    281\u001b[0m         \u001b[1;32melse\u001b[0m\u001b[1;33m:\u001b[0m\u001b[1;33m\u001b[0m\u001b[1;33m\u001b[0m\u001b[0m\n\u001b[0;32m    282\u001b[0m             \u001b[0mself\u001b[0m\u001b[1;33m.\u001b[0m\u001b[0mplay_simultaneous\u001b[0m\u001b[1;33m(\u001b[0m\u001b[1;33m)\u001b[0m\u001b[1;33m\u001b[0m\u001b[1;33m\u001b[0m\u001b[0m\n",
      "\u001b[1;32m~\\AppData\\Local\\Temp/ipykernel_50820/688798993.py\u001b[0m in \u001b[0;36mplay_consecutive\u001b[1;34m(self)\u001b[0m\n\u001b[0;32m    233\u001b[0m         \u001b[1;32mwhile\u001b[0m \u001b[0mlegal\u001b[0m \u001b[1;33m==\u001b[0m \u001b[1;32mTrue\u001b[0m\u001b[1;33m:\u001b[0m\u001b[1;33m\u001b[0m\u001b[1;33m\u001b[0m\u001b[0m\n\u001b[0;32m    234\u001b[0m             \u001b[0mself\u001b[0m\u001b[1;33m.\u001b[0m\u001b[0mshow\u001b[0m\u001b[1;33m(\u001b[0m\u001b[1;33m)\u001b[0m\u001b[1;33m\u001b[0m\u001b[1;33m\u001b[0m\u001b[0m\n\u001b[1;32m--> 235\u001b[1;33m             \u001b[0mlegal\u001b[0m \u001b[1;33m=\u001b[0m \u001b[0mself\u001b[0m\u001b[1;33m.\u001b[0m\u001b[0mmove\u001b[0m\u001b[1;33m(\u001b[0m\u001b[0mplayers\u001b[0m\u001b[1;33m[\u001b[0m\u001b[0mself\u001b[0m\u001b[1;33m.\u001b[0m\u001b[0mplayer_turn\u001b[0m \u001b[1;33m-\u001b[0m \u001b[1;36m1\u001b[0m\u001b[1;33m]\u001b[0m\u001b[1;33m)\u001b[0m\u001b[1;33m\u001b[0m\u001b[1;33m\u001b[0m\u001b[0m\n\u001b[0m\u001b[0;32m    236\u001b[0m             \u001b[1;32mif\u001b[0m \u001b[0mlegal\u001b[0m \u001b[1;33m==\u001b[0m \u001b[1;32mTrue\u001b[0m\u001b[1;33m:\u001b[0m\u001b[1;33m\u001b[0m\u001b[1;33m\u001b[0m\u001b[0m\n\u001b[0;32m    237\u001b[0m                 \u001b[0mself\u001b[0m\u001b[1;33m.\u001b[0m\u001b[0mplayer_turn\u001b[0m \u001b[1;33m=\u001b[0m \u001b[0mself\u001b[0m\u001b[1;33m.\u001b[0m\u001b[0mplayer_turn\u001b[0m\u001b[1;33m%\u001b[0m\u001b[1;36m2\u001b[0m \u001b[1;33m+\u001b[0m \u001b[1;36m1\u001b[0m\u001b[1;33m\u001b[0m\u001b[1;33m\u001b[0m\u001b[0m\n",
      "\u001b[1;32m~\\AppData\\Local\\Temp/ipykernel_50820/688798993.py\u001b[0m in \u001b[0;36mmove\u001b[1;34m(self, player, simultaneous)\u001b[0m\n\u001b[0;32m    116\u001b[0m \u001b[1;33m\u001b[0m\u001b[0m\n\u001b[0;32m    117\u001b[0m \u001b[1;33m\u001b[0m\u001b[0m\n\u001b[1;32m--> 118\u001b[1;33m         \u001b[0mlegal\u001b[0m \u001b[1;33m=\u001b[0m \u001b[0mlist\u001b[0m\u001b[1;33m(\u001b[0m\u001b[0mmap\u001b[0m\u001b[1;33m(\u001b[0m\u001b[1;32mlambda\u001b[0m \u001b[0mx\u001b[0m\u001b[1;33m:\u001b[0m \u001b[0mself\u001b[0m\u001b[1;33m.\u001b[0m\u001b[0mmove_dictionary\u001b[0m\u001b[1;33m[\u001b[0m\u001b[0mx\u001b[0m\u001b[1;33m]\u001b[0m\u001b[1;33m,\u001b[0m\u001b[0mdirection_converted\u001b[0m\u001b[1;33m)\u001b[0m\u001b[1;33m)\u001b[0m\u001b[1;33m[\u001b[0m\u001b[1;36m0\u001b[0m\u001b[1;33m]\u001b[0m\u001b[1;33m(\u001b[0m\u001b[0mplayer\u001b[0m\u001b[1;33m,\u001b[0m \u001b[0msimultaneous\u001b[0m\u001b[1;33m)\u001b[0m\u001b[1;33m\u001b[0m\u001b[1;33m\u001b[0m\u001b[0m\n\u001b[0m\u001b[0;32m    119\u001b[0m         \u001b[1;32mreturn\u001b[0m \u001b[0mlegal\u001b[0m\u001b[1;33m\u001b[0m\u001b[1;33m\u001b[0m\u001b[0m\n\u001b[0;32m    120\u001b[0m \u001b[1;33m\u001b[0m\u001b[0m\n",
      "\u001b[1;31mTypeError\u001b[0m: 'NoneType' object is not iterable"
     ]
    }
   ],
   "source": [
    "a = Board(10, 'consecutive','PVC')\n",
    "a.play()\n",
    "# a.player_turn\n",
    "# a.player1.show_keys()"
   ]
  },
  {
   "cell_type": "code",
   "execution_count": null,
   "metadata": {},
   "outputs": [],
   "source": []
  },
  {
   "cell_type": "markdown",
   "metadata": {},
   "source": [
    "# WORKING"
   ]
  },
  {
   "cell_type": "code",
   "execution_count": 180,
   "metadata": {},
   "outputs": [
    {
     "name": "stdout",
     "output_type": "stream",
     "text": [
      "[6, 11]\n"
     ]
    },
    {
     "data": {
      "text/plain": [
       "[[' ', '_', ' ', '_', ' ', '_', ' ', '_', ' ', '_', ' ', '_', ' ', '\\n'],\n",
       " ['|', '1', '¦', '_', '¦', '_', '¦', '_', '¦', '_', '¦', '_', '|', '\\n'],\n",
       " ['|', '_', '¦', '_', '¦', '_', '¦', '_', '¦', '_', '¦', '_', '|', '\\n'],\n",
       " ['|', '_', '¦', '_', '¦', '_', '¦', '_', '¦', '_', '¦', '_', '|', '\\n'],\n",
       " ['|', '_', '¦', '_', '¦', '_', '¦', '_', '¦', '_', '¦', '_', '|', '\\n'],\n",
       " ['|', '_', '¦', '_', '¦', '_', '¦', '_', '¦', '_', '¦', '_', '|', '\\n'],\n",
       " ['|', '_', '¦', '_', '¦', '_', '¦', '_', '¦', '_', '¦', '2', '|', '\\n']]"
      ]
     },
     "execution_count": 180,
     "metadata": {},
     "output_type": "execute_result"
    }
   ],
   "source": [
    "# Search strategy\n",
    "table = a.table\n",
    "pos = a.player2.position\n",
    "print(pos)\n",
    "table\n"
   ]
  },
  {
   "cell_type": "code",
   "execution_count": 189,
   "metadata": {},
   "outputs": [
    {
     "ename": "NameError",
     "evalue": "name 'floor' is not defined",
     "output_type": "error",
     "traceback": [
      "\u001b[1;31m---------------------------------------------------------------------------\u001b[0m",
      "\u001b[1;31mNameError\u001b[0m                                 Traceback (most recent call last)",
      "\u001b[1;32m~\\AppData\\Local\\Temp/ipykernel_50820/2662208020.py\u001b[0m in \u001b[0;36m<module>\u001b[1;34m\u001b[0m\n\u001b[0;32m      1\u001b[0m \u001b[0mdimension\u001b[0m \u001b[1;33m=\u001b[0m \u001b[1;36m7\u001b[0m\u001b[1;33m\u001b[0m\u001b[1;33m\u001b[0m\u001b[0m\n\u001b[1;32m----> 2\u001b[1;33m \u001b[0mcentre_x\u001b[0m \u001b[1;33m=\u001b[0m \u001b[0mfloor\u001b[0m\u001b[1;33m(\u001b[0m\u001b[1;36m3.4\u001b[0m\u001b[1;33m)\u001b[0m\u001b[1;33m\u001b[0m\u001b[1;33m\u001b[0m\u001b[0m\n\u001b[0m\u001b[0;32m      3\u001b[0m \u001b[0mcentre_x\u001b[0m\u001b[1;33m\u001b[0m\u001b[1;33m\u001b[0m\u001b[0m\n",
      "\u001b[1;31mNameError\u001b[0m: name 'floor' is not defined"
     ]
    }
   ],
   "source": [
    "dimension = 6\n",
    "centre_r = int(dimension)\n",
    "centre_c = "
   ]
  },
  {
   "cell_type": "code",
   "execution_count": null,
   "metadata": {},
   "outputs": [],
   "source": [
    "min()"
   ]
  },
  {
   "cell_type": "code",
   "execution_count": 181,
   "metadata": {},
   "outputs": [],
   "source": [
    "# Strategy\n",
    "# search the number of _ it can go on if it takes that route\n",
    "# get to the centre is best strategy\n"
   ]
  },
  {
   "cell_type": "code",
   "execution_count": null,
   "metadata": {},
   "outputs": [],
   "source": []
  },
  {
   "cell_type": "code",
   "execution_count": null,
   "metadata": {},
   "outputs": [],
   "source": []
  },
  {
   "cell_type": "code",
   "execution_count": null,
   "metadata": {},
   "outputs": [],
   "source": []
  },
  {
   "cell_type": "code",
   "execution_count": null,
   "metadata": {},
   "outputs": [],
   "source": []
  },
  {
   "cell_type": "code",
   "execution_count": 32,
   "metadata": {},
   "outputs": [],
   "source": [
    "def create_board(dimension):\n",
    "    assert type(dimension) == int, \"Please input an integer for board size\"\n",
    "    assert dimension > 3, \"Board size must be greater than 3\"\n",
    "\n",
    "    top_row = [\" \",\"_\"] * dimension\n",
    "    top_row.append(\" \")\n",
    "    top_row.append(\"\\n\")\n",
    "\n",
    "    base_row = [\"|\",\"_\",\"|\",\"\\n\"]\n",
    "\n",
    "    for x in range(dimension-1):\n",
    "        base_row.insert(1,'¦')\n",
    "        base_row.insert(1,'_')\n",
    "\n",
    "    table = []\n",
    "    for x in range(dimension+1):\n",
    "        if x ==0:\n",
    "            table.append(top_row.copy())\n",
    "        else:\n",
    "            table.append(base_row.copy())\n",
    "\n",
    "    table = insert_players(table,dimension)\n",
    "\n",
    "    return table"
   ]
  },
  {
   "cell_type": "code",
   "execution_count": 33,
   "metadata": {},
   "outputs": [],
   "source": [
    "def insert_players(table,dimension):\n",
    "# insert players on board (customise character symbols?) add on @ symbol?\n",
    "    table[player1.r_position][player1.c_position] = player1.name\n",
    "    table[player2.r_position][player2.c_position] = player2.name\n",
    "\n",
    "    return table"
   ]
  },
  {
   "cell_type": "code",
   "execution_count": 83,
   "metadata": {},
   "outputs": [],
   "source": [
    "def find_player(table):\n",
    "    for el in range(len(table)):\n",
    "        try:\n",
    "            col = table[el].index('2')\n",
    "            row = el\n",
    "        except ValueError:\n",
    "            pass\n",
    "    return row,col"
   ]
  },
  {
   "cell_type": "code",
   "execution_count": 84,
   "metadata": {},
   "outputs": [],
   "source": [
    "def show(table):\n",
    "    for y in range(len(table)):\n",
    "        for x in table[y]:\n",
    "            print(x, end=\"\")"
   ]
  },
  {
   "cell_type": "code",
   "execution_count": 85,
   "metadata": {},
   "outputs": [
    {
     "ename": "UnboundLocalError",
     "evalue": "local variable 'row' referenced before assignment",
     "output_type": "error",
     "traceback": [
      "\u001b[1;31m---------------------------------------------------------------------------\u001b[0m",
      "\u001b[1;31mUnboundLocalError\u001b[0m                         Traceback (most recent call last)",
      "\u001b[1;32m~\\AppData\\Local\\Temp/ipykernel_31540/987884386.py\u001b[0m in \u001b[0;36m<module>\u001b[1;34m\u001b[0m\n\u001b[0;32m      1\u001b[0m \u001b[0mtable\u001b[0m \u001b[1;33m=\u001b[0m \u001b[0mcreate_board\u001b[0m\u001b[1;33m(\u001b[0m\u001b[1;36m4\u001b[0m\u001b[1;33m)\u001b[0m\u001b[1;33m\u001b[0m\u001b[1;33m\u001b[0m\u001b[0m\n\u001b[1;32m----> 2\u001b[1;33m \u001b[0mfind_player\u001b[0m\u001b[1;33m(\u001b[0m\u001b[0mtable\u001b[0m\u001b[1;33m)\u001b[0m\u001b[1;33m\u001b[0m\u001b[1;33m\u001b[0m\u001b[0m\n\u001b[0m",
      "\u001b[1;32m~\\AppData\\Local\\Temp/ipykernel_31540/4062100641.py\u001b[0m in \u001b[0;36mfind_player\u001b[1;34m(table)\u001b[0m\n\u001b[0;32m      6\u001b[0m         \u001b[1;32mexcept\u001b[0m \u001b[0mValueError\u001b[0m\u001b[1;33m:\u001b[0m\u001b[1;33m\u001b[0m\u001b[1;33m\u001b[0m\u001b[0m\n\u001b[0;32m      7\u001b[0m             \u001b[1;32mpass\u001b[0m\u001b[1;33m\u001b[0m\u001b[1;33m\u001b[0m\u001b[0m\n\u001b[1;32m----> 8\u001b[1;33m     \u001b[1;32mreturn\u001b[0m \u001b[0mrow\u001b[0m\u001b[1;33m,\u001b[0m\u001b[0mcol\u001b[0m\u001b[1;33m\u001b[0m\u001b[1;33m\u001b[0m\u001b[0m\n\u001b[0m",
      "\u001b[1;31mUnboundLocalError\u001b[0m: local variable 'row' referenced before assignment"
     ]
    }
   ],
   "source": [
    "table = create_board(4)\n",
    "find_player(table)"
   ]
  },
  {
   "cell_type": "code",
   "execution_count": 125,
   "metadata": {},
   "outputs": [
    {
     "data": {
      "text/plain": [
       "[['Cell A1', None, None, None, None],\n",
       " ['Cell A1', None, None, None, None],\n",
       " ['Cell A1', None, None, None, None],\n",
       " ['Cell A1', None, None, None, None],\n",
       " ['Cell A1', None, None, None, None]]"
      ]
     },
     "execution_count": 125,
     "metadata": {},
     "output_type": "execute_result"
    }
   ],
   "source": [
    "data = [[None]*5]*5\n",
    "data[0][0] = 'Cell A1'\n",
    "data"
   ]
  },
  {
   "cell_type": "code",
   "execution_count": 129,
   "metadata": {},
   "outputs": [
    {
     "data": {
      "text/plain": [
       "[[None, None, None, None, None],\n",
       " [None, None, None, None, None],\n",
       " [None, None, None, None, None],\n",
       " [None, None, None, None, None],\n",
       " [None, None, None, None, None]]"
      ]
     },
     "execution_count": 129,
     "metadata": {},
     "output_type": "execute_result"
    }
   ],
   "source": [
    "data = [[None]*5 for _ in range(5)]\n",
    "data"
   ]
  },
  {
   "cell_type": "code",
   "execution_count": 142,
   "metadata": {},
   "outputs": [
    {
     "data": {
      "text/plain": [
       "'1'"
      ]
     },
     "execution_count": 142,
     "metadata": {},
     "output_type": "execute_result"
    }
   ],
   "source": [
    "x = '1'\n",
    "x.lower()"
   ]
  },
  {
   "cell_type": "code",
   "execution_count": 136,
   "metadata": {},
   "outputs": [],
   "source": [
    "# To do: continue denumpying the code.\n",
    "#     Remember when you create something from a list, it is a reference and not a copy, so the list itself is an object so can be repeated\n",
    "# make more tidy/efficient"
   ]
  },
  {
   "cell_type": "code",
   "execution_count": null,
   "metadata": {},
   "outputs": [],
   "source": [
    "# Board is not recognised in the player class, so cant use it in the functions\n",
    "# - either move board referencing functions to the board class, or integrate board into player class?\n",
    "\n",
    "# change move function"
   ]
  },
  {
   "cell_type": "code",
   "execution_count": 119,
   "metadata": {},
   "outputs": [
    {
     "ename": "IndexError",
     "evalue": "list index out of range",
     "output_type": "error",
     "traceback": [
      "\u001b[1;31m---------------------------------------------------------------------------\u001b[0m",
      "\u001b[1;31mIndexError\u001b[0m                                Traceback (most recent call last)",
      "\u001b[1;32m~\\AppData\\Local\\Temp/ipykernel_31540/3842735165.py\u001b[0m in \u001b[0;36m<module>\u001b[1;34m\u001b[0m\n\u001b[1;32m----> 1\u001b[1;33m \u001b[0mlst\u001b[0m \u001b[1;33m=\u001b[0m \u001b[1;33m[\u001b[0m\u001b[1;36m1\u001b[0m\u001b[1;33m]\u001b[0m\u001b[1;33m[\u001b[0m\u001b[1;36m1\u001b[0m\u001b[1;33m]\u001b[0m\u001b[1;33m\u001b[0m\u001b[1;33m\u001b[0m\u001b[0m\n\u001b[0m\u001b[0;32m      2\u001b[0m \u001b[1;33m\u001b[0m\u001b[0m\n\u001b[0;32m      3\u001b[0m \u001b[1;31m# table\u001b[0m\u001b[1;33m\u001b[0m\u001b[1;33m\u001b[0m\u001b[0m\n",
      "\u001b[1;31mIndexError\u001b[0m: list index out of range"
     ]
    }
   ],
   "source": [
    "lst = [1][1]\n",
    "\n",
    "table[]"
   ]
  },
  {
   "cell_type": "code",
   "execution_count": null,
   "metadata": {},
   "outputs": [],
   "source": [
    "# create game function\n",
    "def main():\n",
    "\n",
    "    start = input(\"Would you like to play Tron? (y/n)\")\n",
    "    if start.lower() == \"n\":\n",
    "        print(\"Have a nice day\")\n",
    "    elif start.lower() == \"y\":\n",
    "        \n",
    "        correct_input = True\n",
    "        while correct_input:\n",
    "            game_type = input('What game version would yo like to play?: \\n a. Consecutive turns? \\n b. Simultaneous turns? \\n (Choose a or b) \\n').lower()\n",
    "        \n",
    "            if game_type in (\"a\",\"b\"):\n",
    "                break\n",
    "            else:\n",
    "                print(\"I didn't quite get that, (type a or b):\")\n",
    "            \n",
    "\n",
    "        correct_input = 0\n",
    "        while correct_input == 0:\n",
    "            try:\n",
    "                dimension = int(input('Please insert board size (minimum 4).'))\n",
    "                if dimension >= 4:\n",
    "                    correct_input = 1\n",
    "                else:\n",
    "                    print(\"(Board size minimum is 4)\")\n",
    "            except:\n",
    "                print(\"I didn't quite get that, please input an number\")\n",
    "                \n",
    "            \n",
    "            \n",
    "            \n",
    "        \n",
    "        game = Board(dimension)\n",
    "        \n",
    "        \n",
    "        \n",
    "\n",
    "if __name__ == '__main__':\n",
    "\n",
    "    a = Board(7)\n",
    "    a.__main__()\n",
    "    \n",
    "\n",
    "    \n"
   ]
  }
 ],
 "metadata": {
  "kernelspec": {
   "display_name": "Python 3 (ipykernel)",
   "language": "python",
   "name": "python3"
  },
  "language_info": {
   "codemirror_mode": {
    "name": "ipython",
    "version": 3
   },
   "file_extension": ".py",
   "mimetype": "text/x-python",
   "name": "python",
   "nbconvert_exporter": "python",
   "pygments_lexer": "ipython3",
   "version": "3.9.7"
  }
 },
 "nbformat": 4,
 "nbformat_minor": 4
}
