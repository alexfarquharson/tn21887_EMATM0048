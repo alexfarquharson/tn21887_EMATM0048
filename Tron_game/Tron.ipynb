{
 "cells": [
  {
   "cell_type": "markdown",
   "metadata": {},
   "source": [
    "# TRON game\n"
   ]
  },
  {
   "cell_type": "code",
   "execution_count": 5,
   "metadata": {},
   "outputs": [
    {
     "ename": "SyntaxError",
     "evalue": "invalid syntax (<ipython-input-5-f5085b2043ad>, line 1)",
     "output_type": "error",
     "traceback": [
      "\u001b[1;36m  File \u001b[1;32m\"<ipython-input-5-f5085b2043ad>\"\u001b[1;36m, line \u001b[1;32m1\u001b[0m\n\u001b[1;33m    Notes:\u001b[0m\n\u001b[1;37m          ^\u001b[0m\n\u001b[1;31mSyntaxError\u001b[0m\u001b[1;31m:\u001b[0m invalid syntax\n"
     ]
    }
   ],
   "source": [
    "Notes:\n",
    "    Thought about making board out of 1d array not 2 - then lower Big 0 notation, only one for loop\n",
    "    But then for loop is over n^2 so its the same - duhh\n",
    "    \n",
    "    Board set up so that every line is an element in the game - easier for indexing, cycling through array etc.\n",
    "    \n",
    "    \n",
    "which methods should be in which class?\n",
    "put methods in player class that change players attributes like position\n",
    "\n",
    "\n",
    "originally had find_player as a function to find player every time.\n",
    "Now keep a track of players position - more efficient, no need to itrate through table"
   ]
  },
  {
   "cell_type": "code",
   "execution_count": null,
   "metadata": {},
   "outputs": [],
   "source": [
    "Setup requires:\n",
    "    PVP, PVC (EASY) PVC (HARD)\n",
    "    Consecutiveor simultaneuous\n",
    "    \n",
    "    Other: set player icon/colour/keys"
   ]
  },
  {
   "cell_type": "code",
   "execution_count": 13,
   "metadata": {},
   "outputs": [],
   "source": [
    "def setup():\n",
    "    begin = input(\"Would you like to play Tron? (y/n)\").lower()\n",
    "    begin_dict = {'y':None,'n':None}\n",
    "    try:\n",
    "        list(map(lambda x: begin_dict[x],begin))[0]\n",
    "        if begin == 'n':\n",
    "            print('Have a nice day')\n",
    "        else:\n",
    "            print('##############################')\n",
    "            game_type_qu()\n",
    "    except KeyError:\n",
    "        print('Invalid option: (type y or n)')\n",
    "        setup()\n",
    "        \n",
    "\n",
    "def game_type_qu():\n",
    "    global game_type_input\n",
    "    game_type_input = input('What game version would you like to play?: \\n a. Consecutive turns? \\n b. Simultaneous turns? \\n (Choose a or b) \\n').lower()\n",
    "    game_type_dict = {'a':'consecutive','b':'simultaneous'}\n",
    "    try:\n",
    "        game_type_input = list(map(lambda x: game_type_dict[x],game_type_input))[0]\n",
    "        print('##############################')\n",
    "        player_type_qu()\n",
    "    except:\n",
    "        print('Invalid option: (type a or b)')\n",
    "        game_type_qu()\n",
    "        \n",
    "\n",
    "def player_type_qu():\n",
    "    global player_type_input\n",
    "    player_type_input = input('Who do you want to play?: \\n a. PVP? \\n b. PVC (easy)? \\n c. PVC (hard)? \\n (Choose a, b or c) \\n').lower()\n",
    "    player_type_dict = {'a':'PVP','b':'PVC (easy)', 'c': 'PVC (hard)'}\n",
    "    try:\n",
    "        player_type_input = list(map(lambda x: player_type_dict[x],player_type_input))[0]\n",
    "        print('##############################')\n",
    "        dimension_qu()\n",
    "    except:\n",
    "        print('Invalid option: (type a, b or c)')\n",
    "        player_type_qu()\n",
    "        \n",
    "        \n",
    "def dimension_qu():\n",
    "    global dimension_input\n",
    "    while True:\n",
    "        try:\n",
    "            dimension_input = int(input('Please insert board size (minimum 4).'))\n",
    "            if dimension_input >= 4:\n",
    "                print('##############################')\n",
    "                break\n",
    "            else:\n",
    "                print(\"(Board size minimum is 4)\")\n",
    "        except:\n",
    "            print(\"I didn't quite get that, please input a number\")\n",
    "\n",
    "def start_game(dimension_input = dimension_input, player_type_input = player_type_input, game_type_input = game_type_input):\n",
    "    \n",
    "#     initialise game\n",
    "    game = Board(dimension = dimension_input, player_type = player_type_input, game_type = game_type_input)\n",
    "# print instructions (in board class init)\n",
    "\n",
    "# start game\n",
    "    game.play()"
   ]
  },
  {
   "cell_type": "code",
   "execution_count": 14,
   "metadata": {},
   "outputs": [
    {
     "name": "stdout",
     "output_type": "stream",
     "text": [
      "Would you like to play Tron? (y/n)y\n",
      "##############################\n",
      "What game version would you like to play?: \n",
      " a. Consecutive turns? \n",
      " b. Simultaneous turns? \n",
      " (Choose a or b) \n",
      "a\n",
      "##############################\n",
      "Who do you want to play?: \n",
      " a. PVP? \n",
      " b. PVC (easy)? \n",
      " c. PVC (hard)? \n",
      " (Choose a, b or c) \n",
      "a\n",
      "##############################\n",
      "Please insert board size (minimum 4).4\n",
      "##############################\n",
      "Player 1 keyboard: ['w', 'a', 's', 'd']\n",
      "Player 2 keyboard: ['i', 'j', 'k', 'l']\n",
      " _ _ _ _ \n",
      "|1¦_¦_¦_|\n",
      "|_¦_¦_¦_|\n",
      "|_¦_¦_¦_|\n",
      "|_¦_¦_¦2|\n",
      " _ _ _ _ \n",
      "|1¦_¦_¦_|\n",
      "|_¦_¦_¦_|\n",
      "|_¦_¦_¦_|\n",
      "|_¦_¦_¦2|\n",
      "Player 1 move: d\n",
      " _ _ _ _ \n",
      "|X¦1¦_¦_|\n",
      "|_¦_¦_¦_|\n",
      "|_¦_¦_¦_|\n",
      "|_¦_¦_¦2|\n",
      "Player 2 move: j\n",
      " _ _ _ _ \n",
      "|X¦1¦_¦_|\n",
      "|_¦_¦_¦_|\n",
      "|_¦_¦_¦_|\n",
      "|_¦_¦2¦X|\n",
      "Player 1 move: s\n",
      " _ _ _ _ \n",
      "|X¦X¦_¦_|\n",
      "|_¦1¦_¦_|\n",
      "|_¦_¦_¦_|\n",
      "|_¦_¦2¦X|\n",
      "Player 2 move: i\n",
      " _ _ _ _ \n",
      "|X¦X¦_¦_|\n",
      "|_¦1¦_¦_|\n",
      "|_¦_¦2¦_|\n",
      "|_¦_¦X¦X|\n",
      "Player 1 move: d\n",
      " _ _ _ _ \n",
      "|X¦X¦_¦_|\n",
      "|_¦X¦1¦_|\n",
      "|_¦_¦2¦_|\n",
      "|_¦_¦X¦X|\n",
      "Player 2 move: i\n",
      "2 lost\n"
     ]
    }
   ],
   "source": [
    "setup()\n",
    "start_game()"
   ]
  },
  {
   "cell_type": "code",
   "execution_count": null,
   "metadata": {},
   "outputs": [],
   "source": []
  },
  {
   "cell_type": "code",
   "execution_count": null,
   "metadata": {},
   "outputs": [],
   "source": []
  },
  {
   "cell_type": "code",
   "execution_count": 76,
   "metadata": {},
   "outputs": [
    {
     "name": "stdout",
     "output_type": "stream",
     "text": [
      "w up\n",
      "a left\n",
      "s down\n",
      "d right\n"
     ]
    }
   ],
   "source": [
    "player_dictionary = {\"w\":'up', \"a\":'left', \"s\":'down', \"d\":'right'}\n",
    "\n",
    "for x, y in player_dictionary.items():\n",
    "    print(x,y)"
   ]
  },
  {
   "cell_type": "code",
   "execution_count": 3,
   "metadata": {},
   "outputs": [],
   "source": [
    "# # create boardgame\n",
    "# class Tron():\n",
    "    \n",
    "#     def __init__(self, dimension, player1, player2):\n",
    "        \n",
    "#         self.board = Board(dimension)\n",
    "#         self.player1 = Player(player1)\n",
    "#         self.player2 = Player(player2)      "
   ]
  },
  {
   "cell_type": "code",
   "execution_count": 1,
   "metadata": {},
   "outputs": [],
   "source": [
    "class Player():\n",
    "    \n",
    "    def __init__(self, name, dimension):\n",
    "        self.name = name\n",
    "        self.dimension = dimension\n",
    "        self.score = 0\n",
    "        self.position = list(self.set_position())\n",
    "        \n",
    "\n",
    "        \n",
    "    def set_position(self):\n",
    "        if self.name == \"1\":\n",
    "            return (1, 1)\n",
    "        else:\n",
    "            return self.dimension, 2*self.dimension-1"
   ]
  },
  {
   "cell_type": "code",
   "execution_count": 2,
   "metadata": {},
   "outputs": [],
   "source": [
    "class Human(Player):\n",
    "    \n",
    "    def __init__(self, name, dimension, default_keys = True):\n",
    "#         inherits all Player class attributes and methods\n",
    "        super().__init__(name, dimension)\n",
    "        self.type = \"Human\"\n",
    "        self.player_dictionary = self.player_dictionary_setup()       \n",
    "\n",
    "        \n",
    "    def player_dictionary_setup(self):\n",
    "        '''\n",
    "        Function to create move dictionary for the two players\n",
    "        '''\n",
    "        \n",
    "#         add in change keys later if needed\n",
    "        if self.name == \"1\":\n",
    "            player_dictionary = {\"w\":'up', \"a\":'left', \"s\":'down', \"d\":'right'}\n",
    "\n",
    "        else:\n",
    "            player_dictionary = {\"i\":'up', \"j\":'left', \"k\":'down', \"l\":'right'}\n",
    "            \n",
    "        return player_dictionary\n",
    "    \n",
    "    def show_keys(self):\n",
    "        print(f\"\\n Player {self.name} keyboard: \")\n",
    "        for (key, value) in (self.player_dictionary.items()):\n",
    "            print(f\"{value}: {key}\")"
   ]
  },
  {
   "cell_type": "code",
   "execution_count": 5,
   "metadata": {},
   "outputs": [],
   "source": [
    "class Computer(Player):\n",
    "    \n",
    "    def __init__(self, name, dimension):\n",
    "        super().__init__(name, dimension)\n",
    "        self.type = \"Computer\"\n",
    "\n",
    "#         self.directions = ['up','left','down','right']\n",
    "    \n",
    "#     def random_move(self):\n",
    "        \n",
    "#         rand = random.randint(0,3)\n",
    "#         return [self.directions[rand]]\n",
    "    \n",
    "#     def smart_move(self):\n",
    "#         pass"
   ]
  },
  {
   "cell_type": "code",
   "execution_count": 9,
   "metadata": {},
   "outputs": [],
   "source": [
    "# in standard libs list\n",
    "import random\n",
    "import copy\n",
    "\n",
    "\n",
    "\n",
    "class Board():\n",
    "    \"\"\"\n",
    "    The Board class\n",
    "    \"\"\"\n",
    "\n",
    "        \n",
    "        \n",
    "    def __init__(self, dimension, game_type, player_type):\n",
    "#         game configuration\n",
    "        self.game_type = game_type\n",
    "        self.player_type = player_type\n",
    "        \n",
    "#         player creation\n",
    "        self.player1 = Human(name = '1', dimension = dimension)\n",
    "        self.player1.show_keys()\n",
    "        \n",
    "        if self.player_type == \"PVP\":\n",
    "            self.player2 = Human(name = '2', dimension = dimension)\n",
    "            self.player2.show_keys()\n",
    "        \n",
    "        elif self.player_type == \"PVC (easy)\":\n",
    "            print('Computer is player 2')\n",
    "            self.player2 = Computer(name = '2', dimension = dimension)  \n",
    "            \n",
    "        else:\n",
    "            print('Computer is player 2')\n",
    "            self.player2 = Computer(name = '2', dimension = dimension)  \n",
    "            \n",
    "#         table creation\n",
    "        self.dimension = dimension\n",
    "        self.table = self.create_board(dimension)\n",
    "        \n",
    "\n",
    "        self.player_turn = random.randint(1,2)\n",
    " \n",
    "\n",
    "    def insert_players(self, table, player):\n",
    "    # insert players on board (customise character symbols?) add on @ symbol?\n",
    "        table[player.position[0]][player.position[1]] = player.name\n",
    "\n",
    "        return table\n",
    "\n",
    "    def create_board(self, dimension):\n",
    "        '''\n",
    "        Creates a board given a dimension\n",
    "        Puts players in board\n",
    "        '''\n",
    "        \n",
    "        assert type(dimension) == int, \"Please input an integer for board size\"\n",
    "        assert dimension > 3, \"Board size must be greater than 3\"\n",
    "\n",
    "#         Create top row (different from all other rows)\n",
    "        top_row = [\" \",\"_\"] * dimension\n",
    "        top_row.append(\" \")\n",
    "        top_row.append(\"\\n\")\n",
    "\n",
    "#         Create normal row\n",
    "        base_row = [\"|\",\"_\",\"|\",\"\\n\"]\n",
    "\n",
    "        for x in range(dimension-1):\n",
    "            base_row.insert(1,'¦')\n",
    "            base_row.insert(1,'_')\n",
    "\n",
    "#         Combine rows together (copying so that not a reference)\n",
    "        table = []\n",
    "        for x in range(dimension+1):\n",
    "            if x ==0:\n",
    "                table.append(top_row.copy())\n",
    "            else:\n",
    "                table.append(base_row.copy())\n",
    "\n",
    "#         Insert players in table\n",
    "        players = (self.player1, self.player2)\n",
    "        for player in players:\n",
    "            table = self.insert_players(table, player)\n",
    "\n",
    "        return table\n",
    "    \n",
    "\n",
    "\n",
    "    \n",
    "    def show(self):\n",
    "        \"\"\"Function to print the board table\"\"\"\n",
    "        \n",
    "        for y in range(len(self.table)):\n",
    "            for x in self.table[y]:\n",
    "                print(x, end=\"\")\n",
    "                \n",
    "\n",
    "    def get_move(self, player):\n",
    "        '''\n",
    "        Function to:\n",
    "            If human: receive/check human input\n",
    "            If comupter: receive computer input\n",
    "            \n",
    "        Call check_dir/move_dir functions. Return if legal or not\n",
    "        '''\n",
    "        \n",
    "# deal with human input\n",
    "        if player.type == \"Human\":\n",
    "            direction = input(f'Input player {player.name} move: ').lower()\n",
    "            try:\n",
    "# check direction inputed is in the players move_dictionary.keys, \"\"\n",
    "                direction_converted = [player.player_dictionary[direction]]\n",
    "                # check move        \n",
    "                check_move_dict = {\"up\":self.check_up, \"left\":self.check_left, \"down\":self.check_down, \"right\":self.check_right}\n",
    "                check_move = list(map(lambda x: check_move_dict[x],direction_converted))[0](player)\n",
    "        \n",
    "        \n",
    "            except KeyError:\n",
    "#                 print(f'Player {player.name} performed invalid move')\n",
    "                check_move = False\n",
    "                direction_converted = None\n",
    "#                 return check_move, direction_converted\n",
    "                \n",
    "# deal with computer input\n",
    "        else:\n",
    "            \n",
    "            possible_moves = ['up','left','down','right']\n",
    "            check_move, direction_converted = self.random_move(player = player,possible_moves = possible_moves)\n",
    "\n",
    "        \n",
    "\n",
    "        \n",
    "        return check_move, direction_converted\n",
    "# get move output\n",
    "\n",
    "\n",
    "    def perform_move(self, player, check_move, direction_converted):\n",
    "        \n",
    "        perform_move_dict = {\"up\":self.perform_up, \"left\":self.perform_left, \"down\":self.perform_down, \"right\":self.perform_right}\n",
    "        if check_move == True:\n",
    "            list(map(lambda x: perform_move_dict[x],direction_converted))[0](player)\n",
    "            return True\n",
    "        else:\n",
    "            print(f'Player {player.name} performed invalid move')\n",
    "            return False\n",
    "        \n",
    "        \n",
    "        \n",
    "        \n",
    "        \n",
    "    \n",
    "    def random_move(self, player, possible_moves):\n",
    "        '''\n",
    "        Function to create random, non-suicidal input\n",
    "        '''\n",
    "        \n",
    "#         if run out of moves, return invalid move\n",
    "        if len(possible_moves) == 0:\n",
    "            check_move = False\n",
    "            direction_converted = None\n",
    "            return check_move, direction_converted\n",
    "        \n",
    "#         try random move - if allowed do it, else remove move from list and recursively use function\n",
    "        else:\n",
    "            rand = random.randint(0,len(possible_moves)-1)\n",
    "            direction_converted = [possible_moves[rand]]            \n",
    "            check_move_dict = {\"up\":self.check_up, \"left\":self.check_left, \"down\":self.check_down, \"right\":self.check_right}\n",
    "            check_move = list(map(lambda x: check_move_dict[x],direction_converted))[0](player)\n",
    "            if check_move == True:\n",
    "                return check_move, direction_converted\n",
    "            else:\n",
    "                possible_moves.remove(direction_converted[0])\n",
    "                return self.random_move(player, possible_moves)\n",
    "    \n",
    "    \n",
    "    \n",
    "#     def find_player(self):\n",
    "#         for el in range(len(self.table)):\n",
    "#             try:\n",
    "#                 col = self.table[el].index(self.player_turn)\n",
    "#                 row =el\n",
    "#             except ValueError:\n",
    "#                 pass\n",
    "#         return row, col\n",
    "    \n",
    "    def check_up(self, player):\n",
    "        '''Checks if up move is allowed or not'''\n",
    "        row = player.position[0]\n",
    "        col = player.position[1]\n",
    "\n",
    "#         needed to avoid index error\n",
    "        if row == 1:\n",
    "            return False\n",
    "        elif self.table[row-1][col] == \"_\":\n",
    "            return True\n",
    "        else:\n",
    "            return False\n",
    "            \n",
    "                    \n",
    "    def perform_up(self, player):\n",
    "        '''\n",
    "        Performs up move:\n",
    "        \n",
    "        Should only be performed if check_up returns True!\n",
    "        Updates table and player position\n",
    "        '''\n",
    "        row = player.position[0]\n",
    "        col = player.position[1]\n",
    "        \n",
    "        self.table[row][col] = \"X\"\n",
    "        self.table[row-1][col] = player.name\n",
    "        player.position[0] = row-1\n",
    "            \n",
    "            \n",
    "    def check_left(self, player):\n",
    "        '''Checks if left move is allowed or not'''\n",
    "        row = player.position[0]\n",
    "        col = player.position[1]\n",
    "\n",
    "#         needed to avoid index error\n",
    "        if col == 1:\n",
    "            return False\n",
    "        elif self.table[row][col-2] == \"_\":\n",
    "            return True\n",
    "        else:\n",
    "            return False\n",
    "            \n",
    "                    \n",
    "    def perform_left(self, player):\n",
    "        '''\n",
    "        Performs up move:\n",
    "        \n",
    "        Should only be performed if check_up returns True!\n",
    "        Updates table and player position\n",
    "        '''\n",
    "        row = player.position[0]\n",
    "        col = player.position[1]\n",
    "        \n",
    "        self.table[row][col] = \"X\"\n",
    "        self.table[row][col-2] = player.name\n",
    "        player.position[1] = col-2\n",
    "         \n",
    "            \n",
    "    def check_down(self, player):\n",
    "        '''Checks if up move is allowed or not'''\n",
    "        row = player.position[0]\n",
    "        col = player.position[1]\n",
    "\n",
    "#         needed to avoid index error\n",
    "        if row == self.dimension:\n",
    "            return False\n",
    "        elif self.table[row+1][col] == \"_\":\n",
    "            return True\n",
    "        else:\n",
    "            return False\n",
    "            \n",
    "                    \n",
    "    def perform_down(self, player):\n",
    "        '''\n",
    "        Performs up move:\n",
    "        \n",
    "        Should only be performed if check_up returns True!\n",
    "        Updates table and player position\n",
    "        '''\n",
    "        row = player.position[0]\n",
    "        col = player.position[1]\n",
    "        \n",
    "        self.table[row][col] = \"X\"\n",
    "        self.table[row+1][col] = player.name\n",
    "        player.position[0] = row+1\n",
    "        \n",
    "        \n",
    "    def check_right(self, player):\n",
    "        '''Checks if up move is allowed or not'''\n",
    "        row = player.position[0]\n",
    "        col = player.position[1]\n",
    "\n",
    "#         needed to avoid index error\n",
    "        if col == 2*self.dimension-1:\n",
    "            return False\n",
    "        elif self.table[row][col+2] == \"_\":\n",
    "            return True\n",
    "        else:\n",
    "            return False\n",
    "            \n",
    "                    \n",
    "    def perform_right(self, player):\n",
    "        '''\n",
    "        Performs up move:\n",
    "        \n",
    "        Should only be performed if check_up returns True!\n",
    "        Updates table and player position\n",
    "        '''\n",
    "        row = player.position[0]\n",
    "        col = player.position[1]\n",
    "        \n",
    "        self.table[row][col] = \"X\"\n",
    "        self.table[row][col+2] = player.name\n",
    "        player.position[1] = col+2\n",
    "\n",
    "          \n",
    "    def play_consecutive(self):\n",
    "        '''\n",
    "        Wrapper function to play the game in consecutive turns\n",
    "            Shows board\n",
    "            Checks and performs move\n",
    "            Changes player turn\n",
    "            Completes when a player looses - updates score/prints loser.\n",
    "        '''\n",
    "\n",
    "        legal = True\n",
    "        players = (self.player1, self.player2)\n",
    "        \n",
    "#         perform moves/switch player turn until illegal move made\n",
    "        while legal == True:\n",
    "            self.show()\n",
    "            check_move, direction_converted = self.get_move(players[self.player_turn - 1])\n",
    "            legal = self.perform_move(players[self.player_turn - 1], check_move, direction_converted)\n",
    "            if legal == True:\n",
    "                self.player_turn = self.player_turn%2 + 1\n",
    "                \n",
    "#         print game outcome\n",
    "        self.show()\n",
    "        print(players[self.player_turn - 1].name, \"lost\")\n",
    "        \n",
    "        \n",
    "    def play_simultaneous(self):\n",
    "        '''\n",
    "        Wrapper function to play the game in simultaneous turns\n",
    "        '''\n",
    "#         move function takes an individual players move, so should require just manipulation of wrapper function to move simultaneously\n",
    "        legal_1 = True\n",
    "        legal_2 = True\n",
    "        \n",
    "        while legal_1 == True & legal_2 == True:\n",
    "            self.show()\n",
    "            \n",
    "# checks if both moves are legal (independent of each others moves), and performs moves\n",
    "            check_move_1, direction_converted_1 = self.get_move(self.player1)\n",
    "            check_move_2, direction_converted_2 = self.get_move(self.player2)\n",
    "\n",
    "            legal_1 = self.perform_move(self.player1, check_move_1, direction_converted_1)\n",
    "            legal_2 = self.perform_move(self.player2, check_move_2, direction_converted_2)\n",
    "            \n",
    "# deal with draw collision scenario\n",
    "            if self.player1.position == self.player2.position:\n",
    "                self.table[self.player1.position[0]][self.player1.position[1]] = 'O'\n",
    "\n",
    "                print('You crashed head on!')\n",
    "                legal_1 = False\n",
    "                legal_2 = False\n",
    "\n",
    "#         All the win logic\n",
    "        self.show()\n",
    "        if not legal_1 and not legal_2:\n",
    "            print('Draw')\n",
    "        elif not legal_2:\n",
    "            print(f'Player {self.player1.name} wins')\n",
    "        else:\n",
    "            print(f'Player {self.player2.name} wins')\n",
    "            \n",
    "            \n",
    "            \n",
    "    \n",
    "    \n",
    "    def play(self):\n",
    "        \n",
    "        print(f\"********************\\n Player {self.player_turn} starts. \\n Board:\")\n",
    "        \n",
    "        if self.game_type == \"consecutive\":\n",
    "            self.play_consecutive()\n",
    "        else:\n",
    "            self.play_simultaneous()\n",
    "    \n",
    "    \n",
    "            \n"
   ]
  },
  {
   "cell_type": "code",
   "execution_count": 10,
   "metadata": {},
   "outputs": [],
   "source": [
    "# change class attempt"
   ]
  },
  {
   "cell_type": "code",
   "execution_count": null,
   "metadata": {},
   "outputs": [],
   "source": []
  },
  {
   "cell_type": "code",
   "execution_count": 11,
   "metadata": {},
   "outputs": [
    {
     "name": "stdout",
     "output_type": "stream",
     "text": [
      "\n",
      " Player 1 keyboard: \n",
      "up: w\n",
      "left: a\n",
      "down: s\n",
      "right: d\n",
      "Computer is player 2\n",
      "********************\n",
      " Player 1 starts. \n",
      " Board:\n",
      " _ _ _ _ \n",
      "|1¦_¦_¦_|\n",
      "|_¦_¦_¦_|\n",
      "|_¦_¦_¦_|\n",
      "|_¦_¦_¦2|\n",
      "Input player 1 move: d\n",
      " _ _ _ _ \n",
      "|X¦1¦_¦_|\n",
      "|_¦_¦_¦_|\n",
      "|_¦_¦_¦2|\n",
      "|_¦_¦_¦X|\n",
      "Input player 1 move: s\n",
      " _ _ _ _ \n",
      "|X¦X¦_¦_|\n",
      "|_¦1¦_¦2|\n",
      "|_¦_¦_¦X|\n",
      "|_¦_¦_¦X|\n",
      "Input player 1 move: d\n",
      "You crashed head on!\n",
      " _ _ _ _ \n",
      "|X¦X¦_¦_|\n",
      "|_¦X¦O¦X|\n",
      "|_¦_¦_¦X|\n",
      "|_¦_¦_¦X|\n",
      "Draw\n"
     ]
    }
   ],
   "source": [
    "a = Board(4, 'simultaneous','PVC')\n",
    "a.play()\n",
    "# a.player_turn\n",
    "# a.player1.show_keys()"
   ]
  },
  {
   "cell_type": "code",
   "execution_count": null,
   "metadata": {},
   "outputs": [],
   "source": []
  },
  {
   "cell_type": "markdown",
   "metadata": {},
   "source": [
    "# WORKING"
   ]
  },
  {
   "cell_type": "code",
   "execution_count": 12,
   "metadata": {},
   "outputs": [
    {
     "name": "stdout",
     "output_type": "stream",
     "text": [
      "[2, 5]\n"
     ]
    },
    {
     "data": {
      "text/plain": [
       "[[' ', '_', ' ', '_', ' ', '_', ' ', '_', ' ', '\\n'],\n",
       " ['|', 'X', '¦', 'X', '¦', '_', '¦', '_', '|', '\\n'],\n",
       " ['|', '_', '¦', 'X', '¦', 'O', '¦', 'X', '|', '\\n'],\n",
       " ['|', '_', '¦', '_', '¦', '_', '¦', 'X', '|', '\\n'],\n",
       " ['|', '_', '¦', '_', '¦', '_', '¦', 'X', '|', '\\n']]"
      ]
     },
     "execution_count": 12,
     "metadata": {},
     "output_type": "execute_result"
    }
   ],
   "source": [
    "# Search strategy\n",
    "table = a.table\n",
    "pos = a.player2.position\n",
    "print(pos)\n",
    "table\n"
   ]
  },
  {
   "cell_type": "code",
   "execution_count": 185,
   "metadata": {},
   "outputs": [
    {
     "data": {
      "text/plain": [
       "(0, 0)"
      ]
     },
     "execution_count": 185,
     "metadata": {},
     "output_type": "execute_result"
    }
   ],
   "source": [
    "\n",
    "def find_player(table):\n",
    "    for el in range(len(table)):\n",
    "        try:\n",
    "            col = table[el].index('1')\n",
    "            row = el\n",
    "        except ValueError:\n",
    "            pass\n",
    "    return (row, col)\n",
    "\n",
    "find_player(new_table)"
   ]
  },
  {
   "cell_type": "code",
   "execution_count": 190,
   "metadata": {},
   "outputs": [
    {
     "data": {
      "text/plain": [
       "[(1, 0), (0, 1)]"
      ]
     },
     "execution_count": 190,
     "metadata": {},
     "output_type": "execute_result"
    }
   ],
   "source": [
    "# create first table\n",
    "new_table = [['1','_','_','_',],\n",
    "             ['_','_','_','_',],\n",
    "             ['_','_','_','_',],\n",
    "             ['_','_','_','2',]]\n",
    "\n",
    "\n",
    "\n",
    "def find_coords_options(table):\n",
    "    \n",
    "    player_coords = find_player(table)\n",
    "      \n",
    "    max_row = len(table)-1\n",
    "    max_col = len(table[0])-1\n",
    "\n",
    "    coords = []\n",
    "\n",
    "    row = player_coords[0]\n",
    "    col = player_coords[1]\n",
    "    \n",
    "    if row==0:\n",
    "        pass\n",
    "    elif table[row-1][col] == \"_\":\n",
    "        coords.append((row-1,col))\n",
    "#     else:\n",
    "#         pass\n",
    "    \n",
    "    if row==max_row:\n",
    "        pass\n",
    "    elif table[row+1][col] == \"_\":\n",
    "        coords.append((row+1,col))\n",
    "#     else:\n",
    "#         pass\n",
    "    \n",
    "    if col==0:\n",
    "        pass\n",
    "    elif table[row][col-1]  == \"_\":\n",
    "        coords.append((row,col-1))\n",
    "#     else:\n",
    "#         pass\n",
    "    \n",
    "    if col==max_col:\n",
    "        pass\n",
    "    elif table[row][col+1]  == \"_\":\n",
    "        coords.append((row,col+1))\n",
    "#     else:\n",
    "#         pass\n",
    "    return coords\n",
    "\n",
    "coords = find_coords_options(new_table)\n",
    "coords"
   ]
  },
  {
   "cell_type": "code",
   "execution_count": 191,
   "metadata": {},
   "outputs": [],
   "source": [
    "def calculate_coords_values(new_table, coords):\n",
    "    max_row = len(new_table)-1\n",
    "    max_col = len(new_table[0])-1\n",
    "    coords_values_dict = {}\n",
    "    for row, col in coords:\n",
    "        value = 1\n",
    "        if row==0:\n",
    "            pass\n",
    "        elif new_table[row-1][col] == \"_\":\n",
    "            value += 1\n",
    "        if row==max_row:\n",
    "            pass\n",
    "        elif new_table[row+1][col] == \"_\":\n",
    "            value += 1\n",
    "        if col==0:\n",
    "            pass\n",
    "        elif new_table[row][col-1]  == \"_\":\n",
    "            value += 1\n",
    "        if col==max_col:\n",
    "            pass\n",
    "        elif new_table[row][col+1]  == \"_\":\n",
    "            value += 1\n",
    "        coords_values_dict[(row,col)] = value\n",
    "\n",
    "    return coords_values_dict\n",
    "\n",
    "coords_values_dict = calculate_coords_values(new_table,coords)"
   ]
  },
  {
   "cell_type": "code",
   "execution_count": 215,
   "metadata": {},
   "outputs": [
    {
     "data": {
      "text/plain": [
       "[['X', 'X', '_', '_'],\n",
       " ['1', '_', '_', '_'],\n",
       " ['_', '_', '_', '_'],\n",
       " ['_', '_', '_', '2']]"
      ]
     },
     "execution_count": 215,
     "metadata": {},
     "output_type": "execute_result"
    }
   ],
   "source": [
    "new_table_1_0 = [['X','_','_','_',],\n",
    "             ['1','_','_','_',],\n",
    "             ['_','_','_','_',],\n",
    "             ['_','_','_','2',]]\n",
    "\n",
    "\n",
    "def update_table(table, coords):\n",
    "    updated_table = copy.deepcopy(table)\n",
    "    player_position = find_player(updated_table) \n",
    "    updated_table[player_position[0]][player_position[1]] = \"X\"\n",
    "    updated_table[coords[0]][coords[1]] = \"1\"\n",
    "    return updated_table\n",
    "\n",
    "update_table(new_table_1_0,coords[0])\n"
   ]
  },
  {
   "cell_type": "code",
   "execution_count": 201,
   "metadata": {},
   "outputs": [
    {
     "data": {
      "text/plain": [
       "{(1, 0): 3, (0, 1): 3}"
      ]
     },
     "execution_count": 201,
     "metadata": {},
     "output_type": "execute_result"
    }
   ],
   "source": [
    "coords_values_dict"
   ]
  },
  {
   "cell_type": "code",
   "execution_count": 204,
   "metadata": {},
   "outputs": [
    {
     "ename": "AttributeError",
     "evalue": "'dict' object has no attribute 'append'",
     "output_type": "error",
     "traceback": [
      "\u001b[1;31m---------------------------------------------------------------------------\u001b[0m",
      "\u001b[1;31mAttributeError\u001b[0m                            Traceback (most recent call last)",
      "\u001b[1;32m~\\AppData\\Local\\Temp/ipykernel_13896/1881652761.py\u001b[0m in \u001b[0;36m<module>\u001b[1;34m\u001b[0m\n\u001b[0;32m      1\u001b[0m \u001b[0mcoords_values_dict2\u001b[0m \u001b[1;33m=\u001b[0m \u001b[1;33m{\u001b[0m\u001b[1;33m(\u001b[0m\u001b[1;36m2\u001b[0m\u001b[1;33m,\u001b[0m \u001b[1;36m2\u001b[0m\u001b[1;33m)\u001b[0m\u001b[1;33m:\u001b[0m \u001b[1;36m1\u001b[0m\u001b[1;33m}\u001b[0m\u001b[1;33m\u001b[0m\u001b[1;33m\u001b[0m\u001b[0m\n\u001b[0;32m      2\u001b[0m \u001b[1;33m\u001b[0m\u001b[0m\n\u001b[1;32m----> 3\u001b[1;33m \u001b[0mcoords_values_dict\u001b[0m\u001b[1;33m.\u001b[0m\u001b[0mappend\u001b[0m\u001b[1;33m(\u001b[0m\u001b[0mcoords_values_dict2\u001b[0m\u001b[1;33m)\u001b[0m\u001b[1;33m\u001b[0m\u001b[1;33m\u001b[0m\u001b[0m\n\u001b[0m",
      "\u001b[1;31mAttributeError\u001b[0m: 'dict' object has no attribute 'append'"
     ]
    }
   ],
   "source": [
    "coords_values_dict2 = {(2, 2): 1}\n",
    "\n",
    "coords_values_dict.append(coords_values_dict2)"
   ]
  },
  {
   "cell_type": "code",
   "execution_count": 168,
   "metadata": {},
   "outputs": [
    {
     "data": {
      "text/plain": [
       "{(1, 1): 4, (0, 2): 3}"
      ]
     },
     "execution_count": 168,
     "metadata": {},
     "output_type": "execute_result"
    }
   ],
   "source": [
    "# change new_table for coord in coords\n",
    "# move function to create new table\n",
    "new_table_1_0 = [['X','_','_','_',],\n",
    "             ['1','_','_','_',],\n",
    "             ['_','_','_','_',],\n",
    "             ['_','_','_','2',]]\n",
    "\n",
    "# find coords again\n",
    "player_position = [0,1]\n",
    "coords1_1 = find_coords_options(new_table_1_1)\n",
    "coords1_1\n",
    "\n",
    "# calculate coords values\n",
    "coords_values_dict1_1 = calculate_coords_values(new_table_1_1, coords1_1)\n",
    "coords_values_dict1_1"
   ]
  },
  {
   "cell_type": "code",
   "execution_count": 308,
   "metadata": {},
   "outputs": [],
   "source": [
    "# wrapper function\n",
    "new_table = [['1','_','X','_',],\n",
    "             ['_','_','_','_',],\n",
    "             ['_','_','_','_',],\n",
    "             ['_','_','_','2',]]\n",
    "\n",
    "\n",
    "def smart_move_iteration(table):\n",
    "    \n",
    "#     ITERATION\n",
    "#     find possible options\n",
    "    coords_options = find_coords_options(table)\n",
    "    \n",
    "#     find values of possible options\n",
    "    coords_values_dict = calculate_coords_values(table, coords_options)\n",
    "\n",
    "    return coords_options, coords_values_dict"
   ]
  },
  {
   "cell_type": "code",
   "execution_count": 306,
   "metadata": {},
   "outputs": [],
   "source": [
    "def smart_move(table):\n",
    "    final_dict = {}\n",
    "    \n",
    "    coords_options, coords_values_dict = smart_move_iteration(table)\n",
    "    print(coords_options, coords_values_dict)\n",
    "    number_options = len(coords_options)\n",
    "    \n",
    "    \n",
    "    \n",
    "    for x in range(number_options):\n",
    "        final_dict[coords_options[x]] = 0\n",
    "                   \n",
    "        print(coords_options[x])\n",
    "        updated_table1 = update_table(table, coords_options[x])\n",
    "    \n",
    "        it1_coords_options, it1_coords_values_dict = smart_move_iteration(updated_table1)\n",
    "        print(x, it1_coords_options, it1_coords_values_dict)\n",
    "        number_options_it1 = len(it1_coords_options)\n",
    "        \n",
    "        for y in range(number_options_it1):\n",
    "            print(it1_coords_options[y])\n",
    "            updated_table2 = update_table(updated_table1, it1_coords_options[y])\n",
    "\n",
    "            it2_coords_options, it2_coords_values_dict = smart_move_iteration(updated_table2)\n",
    "            print(y, it2_coords_options, it2_coords_values_dict)\n",
    "            number_options_it2 = len(it2_coords_options)\n",
    "            \n",
    "            for z in range(number_options_it2):\n",
    "                trail_value = coords_values_dict[coords_options[x]] + it1_coords_values_dict[it1_coords_options[y]] + it2_coords_values_dict[it2_coords_options[z]]\n",
    "#                 print(type(final_dict[coords_options[x]]))\n",
    "                if trail_value > final_dict[coords_options[x]]:\n",
    "                    final_dict[coords_options[x]] = trail_value\n",
    "                    print(\"!\",trail_value)\n",
    "                    print(final_dict)\n",
    "            \n",
    "    if len(final_dict) > 0:\n",
    "        best_option = print(max(final_dict))"
   ]
  },
  {
   "cell_type": "code",
   "execution_count": 307,
   "metadata": {},
   "outputs": [
    {
     "name": "stdout",
     "output_type": "stream",
     "text": [
      "[(1, 0), (0, 1)] {(1, 0): 3, (0, 1): 2}\n",
      "(1, 0)\n",
      "0 [(2, 0), (1, 1)] {(2, 0): 2, (1, 1): 2}\n",
      "(2, 0)\n",
      "0 [(3, 0)] {(3, 0): 2}\n",
      "! 7\n",
      "{(1, 0): 7}\n",
      "(1, 1)\n",
      "1 [(0, 1)] {(0, 1): 1}\n",
      "(0, 1)\n",
      "1 [(1, 1)] {(1, 1): 2}\n",
      "(1, 1)\n",
      "0 [(1, 0)] {(1, 0): 2}\n",
      "! 6\n",
      "{(1, 0): 7, (0, 1): 6}\n",
      "(1, 0)\n"
     ]
    }
   ],
   "source": [
    "smart_move(new_table)"
   ]
  },
  {
   "cell_type": "code",
   "execution_count": null,
   "metadata": {},
   "outputs": [],
   "source": [
    "# Works\n",
    "\n",
    "\n",
    "def smart_move(table):\n",
    "    final_dict = {}\n",
    "    \n",
    "    coords_options, coords_values_dict = smart_move_iteration(table)\n",
    "    print(coords_options, coords_values_dict)\n",
    "    number_options = len(coords_options)\n",
    "    \n",
    "    \n",
    "    \n",
    "    for x in range(number_options):\n",
    "        final_dict[coords_options[x]] = 0\n",
    "                   \n",
    "        print(coords_options[x])\n",
    "        updated_table1 = update_table(table, coords_options[x])\n",
    "    \n",
    "        it1_coords_options, it1_coords_values_dict = smart_move_iteration(updated_table1)\n",
    "        print(x, it1_coords_options, it1_coords_values_dict)\n",
    "        number_options_it1 = len(it1_coords_options)\n",
    "        \n",
    "        for y in range(number_options_it1):\n",
    "            print(it1_coords_options[y])\n",
    "            updated_table2 = update_table(updated_table1, it1_coords_options[y])\n",
    "\n",
    "            it2_coords_options, it2_coords_values_dict = smart_move_iteration(updated_table2)\n",
    "            print(y, it2_coords_options, it2_coords_values_dict)\n",
    "            number_options_it2 = len(it2_coords_options)\n",
    "            \n",
    "            for z in range(number_options_it2):\n",
    "                trail_value = coords_values_dict[coords_options[x]] + it1_coords_values_dict[it1_coords_options[y]] + it2_coords_values_dict[it2_coords_options[z]]\n",
    "#                 print(type(final_dict[coords_options[x]]))\n",
    "                if trail_value > final_dict[coords_options[x]]:\n",
    "                    final_dict[coords_options[x]] = trail_value\n",
    "                    print(\"!\",trail_value)\n",
    "                    print(final_dict)\n",
    "            \n",
    "    if len(final_dict) > 0:\n",
    "        best_option = print(max(final_dict))"
   ]
  },
  {
   "cell_type": "code",
   "execution_count": 292,
   "metadata": {},
   "outputs": [
    {
     "data": {
      "text/plain": [
       "0"
      ]
     },
     "execution_count": 292,
     "metadata": {},
     "output_type": "execute_result"
    }
   ],
   "source": [
    "final_dict = {}\n",
    "len(final_dict)"
   ]
  },
  {
   "cell_type": "code",
   "execution_count": 213,
   "metadata": {},
   "outputs": [
    {
     "name": "stdout",
     "output_type": "stream",
     "text": [
      "2\n",
      "1: [(1, 0), (0, 1)]\n",
      "1: {(1, 0): 3, (0, 1): 3}\n",
      "[['X', '_', '_', '_'], ['1', '_', '_', '_'], ['_', '_', '_', '_'], ['_', '_', '_', '2']]\n",
      "2_0: [(2, 0), (1, 1)]\n",
      "2_0: {(1, 0): 3, (0, 1): 3}\n",
      "[['X', '1', '_', '_'], ['X', '_', '_', '_'], ['_', '_', '_', '_'], ['_', '_', '_', '2']]\n",
      "2_0: [(1, 1), (0, 2)]\n",
      "2_0: {(1, 0): 3, (0, 1): 3}\n"
     ]
    }
   ],
   "source": [
    "    \n",
    "#     ITERATION 2\n",
    "#     For each value in coords: update table\n",
    "    for coord in it1_coords:\n",
    "        table = update_table(table, coord)\n",
    "        print(table)\n",
    "    \n",
    "    #     find new possible options\n",
    "        it2_coords = find_coords_options(table)\n",
    "        print('2_0:', it2_coords)\n",
    "\n",
    "    #     find values of possible options\n",
    "        coords_values_dict_it2 = calculate_coords_values(table, coords)\n",
    "        print('2_0:',coords_values_dict)"
   ]
  },
  {
   "cell_type": "code",
   "execution_count": 121,
   "metadata": {},
   "outputs": [],
   "source": [
    "# valculate new vt\n",
    "vt_1_1 = calculate_table_values(new_table_1_1)"
   ]
  },
  {
   "cell_type": "code",
   "execution_count": 122,
   "metadata": {},
   "outputs": [
    {
     "data": {
      "text/plain": [
       "[[0, 0, 2, 2], [2, 3, 4, 3], [3, 4, 4, 2], [2, 3, 2, 0]]"
      ]
     },
     "execution_count": 122,
     "metadata": {},
     "output_type": "execute_result"
    }
   ],
   "source": [
    "vt_1_1"
   ]
  },
  {
   "cell_type": "code",
   "execution_count": 123,
   "metadata": {},
   "outputs": [
    {
     "data": {
      "text/plain": [
       "[[0, 2, 3, 2], [2, 4, 4, 3], [3, 4, 4, 2], [2, 3, 2, 0]]"
      ]
     },
     "execution_count": 123,
     "metadata": {},
     "output_type": "execute_result"
    }
   ],
   "source": [
    "vt0"
   ]
  },
  {
   "cell_type": "code",
   "execution_count": 126,
   "metadata": {},
   "outputs": [
    {
     "data": {
      "text/plain": [
       "[0, 1]"
      ]
     },
     "execution_count": 126,
     "metadata": {},
     "output_type": "execute_result"
    }
   ],
   "source": [
    "coords[1]"
   ]
  },
  {
   "cell_type": "code",
   "execution_count": 127,
   "metadata": {},
   "outputs": [],
   "source": [
    "# sum values to get total value for that coord\n",
    "def sum_values(vt0_table, vt1_table, new_table_1, coords):\n",
    "    max_row = len(table)-1\n",
    "    max_col = len(table[0])-1\n",
    "    \n",
    "    \n",
    "    coords1 = coords[1]\n",
    "    vt0_value = vt0[coords1[0]][coords1[1]]\n",
    "    \n",
    "    possible_new_coords = []\n",
    "    if coords1[0] != 0:\n",
    "        possible_new_coords.append([coords1[0]-1, coords1[1]])\n",
    "    if coords1[0] != max_row:    \n",
    "        possible_new_coords.append([coords1[0]+1, coords1[1]])\n",
    "    if coords1[0] != 0:\n",
    "        possible_new_coords.append([coords1[0], coords1[1]-1])\n",
    "    if coords1[0] != max_col:\n",
    "        possible_new_coords.append([coords1[0], coords1[1]+1])\n",
    "        \n",
    "        \n",
    "    value\n",
    "    for x in possible_new_coords:\n",
    "        value += vt_1_1[x[0]][x[1]]\n",
    "    "
   ]
  },
  {
   "cell_type": "code",
   "execution_count": 146,
   "metadata": {},
   "outputs": [
    {
     "data": {
      "text/plain": [
       "[(1, 1), [-1, 1], [0, 2], [0, 0]]"
      ]
     },
     "execution_count": 146,
     "metadata": {},
     "output_type": "execute_result"
    }
   ],
   "source": [
    "coords1 = coords[1]\n",
    "possible_new_coords = []\n",
    "possible_new_coords.append((coords1[0]+1, coords1[1]))\n",
    "possible_new_coords.append([coords1[0]-1, coords1[1]])\n",
    "possible_new_coords.append([coords1[0], coords1[1]+1])\n",
    "possible_new_coords.append([coords1[0], coords1[1]-1])\n",
    "possible_new_coords"
   ]
  },
  {
   "cell_type": "code",
   "execution_count": 134,
   "metadata": {},
   "outputs": [
    {
     "data": {
      "text/plain": [
       "8"
      ]
     },
     "execution_count": 134,
     "metadata": {},
     "output_type": "execute_result"
    }
   ],
   "source": [
    "value = 0\n",
    "for x in possible_new_coords:\n",
    "    value += vt_1_1[x[0]][x[1]]\n",
    "value"
   ]
  },
  {
   "cell_type": "code",
   "execution_count": 135,
   "metadata": {},
   "outputs": [
    {
     "data": {
      "text/plain": [
       "[[0, 0, 2, 2], [2, 3, 4, 3], [3, 4, 4, 2], [2, 3, 2, 0]]"
      ]
     },
     "execution_count": 135,
     "metadata": {},
     "output_type": "execute_result"
    }
   ],
   "source": [
    "\n",
    "def calculate_table_values(new_table):\n",
    "    \n",
    "    max_row = len(new_table)-1\n",
    "    max_col = len(new_table[0])-1\n",
    "    \n",
    "    values_table = copy.deepcopy(new_table)\n",
    "    value = 0\n",
    "    for row in range(len(new_table)):\n",
    "        for col in range(len(new_table[0])):\n",
    "            value = 0\n",
    "            if new_table[row][col] ==\"_\":\n",
    "                value +=1\n",
    "                if row==0:\n",
    "                    pass\n",
    "                elif new_table[row-1][col] == \"_\":\n",
    "                    value += 1\n",
    "\n",
    "                if row==max_row:\n",
    "                    pass\n",
    "                elif new_table[row+1][col] == \"_\":\n",
    "                    value += 1\n",
    "\n",
    "                if col==0:\n",
    "                    pass\n",
    "                elif new_table[row][col-1]  == \"_\":\n",
    "                    value += 1\n",
    "\n",
    "                if col==max_col:\n",
    "                    pass\n",
    "                elif new_table[row][col+1]  == \"_\":\n",
    "                    value += 1\n",
    "            \n",
    "            \n",
    "            values_table[row][col] = value\n",
    "\n",
    "    return values_table\n",
    "\n",
    "vt0 = calculate_table_values(new_table)\n",
    "vt0\n"
   ]
  },
  {
   "cell_type": "code",
   "execution_count": null,
   "metadata": {},
   "outputs": [],
   "source": []
  },
  {
   "cell_type": "code",
   "execution_count": 86,
   "metadata": {},
   "outputs": [],
   "source": [
    "new_table = [['1','_','_','_',],\n",
    "             ['_','_','_','_',],\n",
    "             ['_','_','_','_',],\n",
    "             ['_','_','_','2',]]\n",
    "\n",
    "vt = calculate_table_values(new_table)"
   ]
  },
  {
   "cell_type": "code",
   "execution_count": null,
   "metadata": {},
   "outputs": [],
   "source": []
  },
  {
   "cell_type": "code",
   "execution_count": 89,
   "metadata": {},
   "outputs": [
    {
     "data": {
      "text/plain": [
       "[[0, 2, 3, 2], [2, 4, 4, 3], [3, 4, 4, 2], [2, 3, 2, 0]]"
      ]
     },
     "execution_count": 89,
     "metadata": {},
     "output_type": "execute_result"
    }
   ],
   "source": [
    "new_table = [['1','_','_','_',],\n",
    "             ['_','_','_','_',],\n",
    "             ['_','_','_','_',],\n",
    "             ['_','_','_','2',]]\n",
    "\n",
    "# step 1 create values table\n",
    "vt0 = calculate_table_values(new_table)\n",
    "\n",
    "# step 2 change input table (randomly iterate through choices)\n",
    "\n",
    "# find choices\n",
    "find_coords\n",
    "\n",
    "# change input table\n",
    "new_input_table1_1 = [['X','1','_','_',],\n",
    "             ['_','_','_','_',],\n",
    "             ['_','_','_','_',],\n",
    "             ['_','_','_','2',]]\n",
    "\n",
    "# create values table for choice 1\n",
    "vt1_1 = calculate_table_values(new_input_table1_1)\n",
    "\n",
    "\n",
    "value for that choice = (that choice) 2 + (sum of new_options) (2 + 3)\n",
    "\n",
    "vt1_1_sum = vt0[row][col] + vt1_1[row][col+1]  + vt1_1[row][col-1]  + vt1_1[row+1][col]  + vt1_1[row-1][col]\n",
    "\n",
    "\n",
    "# repeat for other choice (going down)\n",
    "new_input_table1_2 = [['X','_','_','_',],\n",
    "             ['1','_','_','_',],\n",
    "             ['_','_','_','_',],\n",
    "             ['_','_','_','2',]]\n",
    "\n",
    "# create values table for choice 1\n",
    "vt1_2 = calculate_table_values(new_input_table1_2)\n",
    "\n",
    "\n",
    "value for that choice = (that choice) 2 + (sum of new_options) (3 + 2)\n",
    "\n",
    "vt1_2_sum = vt0[row][col] + vt1_2[row][col+1]  + vt1_2[row][col-1]  + vt1_2[row+1][col]  + vt1_2[row-1][col]\n",
    "\n",
    "\n",
    "\n"
   ]
  },
  {
   "cell_type": "code",
   "execution_count": 90,
   "metadata": {},
   "outputs": [
    {
     "data": {
      "text/plain": [
       "[[0, 0, 2, 2], [2, 3, 4, 3], [3, 4, 4, 2], [2, 3, 2, 0]]"
      ]
     },
     "execution_count": 90,
     "metadata": {},
     "output_type": "execute_result"
    }
   ],
   "source": [
    "vt1_1"
   ]
  },
  {
   "cell_type": "code",
   "execution_count": null,
   "metadata": {},
   "outputs": [],
   "source": [
    "new_table = [['1','_','_','_',],\n",
    "             ['_','_','_','_',],\n",
    "             ['_','_','_','_',],\n",
    "             ['_','_','_','2',]]"
   ]
  },
  {
   "cell_type": "code",
   "execution_count": 114,
   "metadata": {},
   "outputs": [],
   "source": [
    "def find_coords_options(table):\n",
    "    max_row = len(table)-1\n",
    "    max_col = len(table[0])-1\n",
    "    print(max_row,max_col)\n",
    "    coords = []\n",
    "    player_coords = [0,0]\n",
    "    row = player_coords[0]\n",
    "    col = player_coords[1]\n",
    "    if row==0:\n",
    "        pass\n",
    "    elif table[row-1][col] == \"_\":\n",
    "        coords.append([row-1,col])\n",
    "    else:\n",
    "        pass\n",
    "    \n",
    "    if row==max_row:\n",
    "        pass\n",
    "    elif table[row+1][col] == \"_\":\n",
    "        coords.append([row+1,col])\n",
    "    else:\n",
    "        pass\n",
    "    \n",
    "    if col==0:\n",
    "        pass\n",
    "    elif table[row][col-1]  == \"_\":\n",
    "        coords.append([row,col-1])\n",
    "    else:\n",
    "        pass\n",
    "    \n",
    "    if col==max_col:\n",
    "        pass\n",
    "    elif table[row][col+1]  == \"_\":\n",
    "        coords.append([row,col+1])\n",
    "    else:\n",
    "        pass\n",
    "    return coords"
   ]
  },
  {
   "cell_type": "code",
   "execution_count": 115,
   "metadata": {},
   "outputs": [
    {
     "name": "stdout",
     "output_type": "stream",
     "text": [
      "3 3\n"
     ]
    },
    {
     "data": {
      "text/plain": [
       "[[1, 0], [0, 1]]"
      ]
     },
     "execution_count": 115,
     "metadata": {},
     "output_type": "execute_result"
    }
   ],
   "source": [
    "find_coords_of_options(new_table)"
   ]
  },
  {
   "cell_type": "code",
   "execution_count": 97,
   "metadata": {},
   "outputs": [
    {
     "data": {
      "text/plain": [
       "[[1, 1], [1, 2]]"
      ]
     },
     "execution_count": 97,
     "metadata": {},
     "output_type": "execute_result"
    }
   ],
   "source": [
    "coords = []\n",
    "coords.append([1,1])\n",
    "coords.append([1,2])\n",
    "coords"
   ]
  },
  {
   "cell_type": "code",
   "execution_count": null,
   "metadata": {},
   "outputs": [],
   "source": []
  },
  {
   "cell_type": "code",
   "execution_count": null,
   "metadata": {},
   "outputs": [],
   "source": []
  },
  {
   "cell_type": "code",
   "execution_count": null,
   "metadata": {},
   "outputs": [],
   "source": []
  },
  {
   "cell_type": "code",
   "execution_count": null,
   "metadata": {},
   "outputs": [],
   "source": []
  },
  {
   "cell_type": "code",
   "execution_count": null,
   "metadata": {},
   "outputs": [],
   "source": []
  },
  {
   "cell_type": "code",
   "execution_count": 81,
   "metadata": {},
   "outputs": [
    {
     "data": {
      "text/plain": [
       "[[0, 0, 2, 2], [2, 3, 4, 3], [3, 4, 4, 2], [2, 3, 2, 0]]"
      ]
     },
     "execution_count": 81,
     "metadata": {},
     "output_type": "execute_result"
    }
   ],
   "source": [
    "new_table_it1 = [['X','1','_','_',],\n",
    "             ['_','_','_','_',],\n",
    "             ['_','_','_','_',],\n",
    "             ['_','_','_','2',]]\n",
    "\n",
    "calculate_table_values(new_table_it1)"
   ]
  },
  {
   "cell_type": "code",
   "execution_count": 58,
   "metadata": {},
   "outputs": [
    {
     "ename": "AttributeError",
     "evalue": "'builtin_function_or_method' object has no attribute 'deepcopy'",
     "output_type": "error",
     "traceback": [
      "\u001b[1;31m---------------------------------------------------------------------------\u001b[0m",
      "\u001b[1;31mAttributeError\u001b[0m                            Traceback (most recent call last)",
      "\u001b[1;32m~\\AppData\\Local\\Temp/ipykernel_13896/1168455326.py\u001b[0m in \u001b[0;36m<module>\u001b[1;34m\u001b[0m\n\u001b[1;32m----> 1\u001b[1;33m \u001b[0mnew_table1\u001b[0m \u001b[1;33m=\u001b[0m \u001b[0mnew_table\u001b[0m\u001b[1;33m.\u001b[0m\u001b[0mcopy\u001b[0m\u001b[1;33m.\u001b[0m\u001b[0mdeepcopy\u001b[0m\u001b[1;33m(\u001b[0m\u001b[1;33m)\u001b[0m\u001b[1;33m\u001b[0m\u001b[1;33m\u001b[0m\u001b[0m\n\u001b[0m",
      "\u001b[1;31mAttributeError\u001b[0m: 'builtin_function_or_method' object has no attribute 'deepcopy'"
     ]
    }
   ],
   "source": [
    "new_table1 = new_table.copy.deepcopy()"
   ]
  },
  {
   "cell_type": "code",
   "execution_count": 65,
   "metadata": {},
   "outputs": [],
   "source": []
  },
  {
   "cell_type": "code",
   "execution_count": 66,
   "metadata": {},
   "outputs": [],
   "source": [
    "new_table1[0][0] = 1"
   ]
  },
  {
   "cell_type": "code",
   "execution_count": 68,
   "metadata": {},
   "outputs": [
    {
     "data": {
      "text/plain": [
       "[[1, '_', '_', '_'],\n",
       " ['_', '_', '_', '_'],\n",
       " ['_', '_', '_', '_'],\n",
       " ['_', '_', '_', '2']]"
      ]
     },
     "execution_count": 68,
     "metadata": {},
     "output_type": "execute_result"
    }
   ],
   "source": [
    "new_table1"
   ]
  },
  {
   "cell_type": "code",
   "execution_count": 181,
   "metadata": {},
   "outputs": [],
   "source": [
    "# Strategy\n",
    "# search the number of _ it can go on if it takes that route\n",
    "# get to the centre is best strategy\n"
   ]
  },
  {
   "cell_type": "code",
   "execution_count": null,
   "metadata": {},
   "outputs": [],
   "source": []
  },
  {
   "cell_type": "code",
   "execution_count": null,
   "metadata": {},
   "outputs": [],
   "source": []
  },
  {
   "cell_type": "code",
   "execution_count": null,
   "metadata": {},
   "outputs": [],
   "source": []
  },
  {
   "cell_type": "code",
   "execution_count": null,
   "metadata": {},
   "outputs": [],
   "source": []
  },
  {
   "cell_type": "code",
   "execution_count": 32,
   "metadata": {},
   "outputs": [],
   "source": [
    "def create_board(dimension):\n",
    "    assert type(dimension) == int, \"Please input an integer for board size\"\n",
    "    assert dimension > 3, \"Board size must be greater than 3\"\n",
    "\n",
    "    top_row = [\" \",\"_\"] * dimension\n",
    "    top_row.append(\" \")\n",
    "    top_row.append(\"\\n\")\n",
    "\n",
    "    base_row = [\"|\",\"_\",\"|\",\"\\n\"]\n",
    "\n",
    "    for x in range(dimension-1):\n",
    "        base_row.insert(1,'¦')\n",
    "        base_row.insert(1,'_')\n",
    "\n",
    "    table = []\n",
    "    for x in range(dimension+1):\n",
    "        if x ==0:\n",
    "            table.append(top_row.copy())\n",
    "        else:\n",
    "            table.append(base_row.copy())\n",
    "\n",
    "    table = insert_players(table,dimension)\n",
    "\n",
    "    return table"
   ]
  },
  {
   "cell_type": "code",
   "execution_count": 33,
   "metadata": {},
   "outputs": [],
   "source": [
    "def insert_players(table,dimension):\n",
    "# insert players on board (customise character symbols?) add on @ symbol?\n",
    "    table[player1.r_position][player1.c_position] = player1.name\n",
    "    table[player2.r_position][player2.c_position] = player2.name\n",
    "\n",
    "    return table"
   ]
  },
  {
   "cell_type": "code",
   "execution_count": 83,
   "metadata": {},
   "outputs": [],
   "source": [
    "def find_player(table):\n",
    "    for el in range(len(table)):\n",
    "        try:\n",
    "            col = table[el].index('2')\n",
    "            row = el\n",
    "        except ValueError:\n",
    "            pass\n",
    "    return row,col"
   ]
  },
  {
   "cell_type": "code",
   "execution_count": 84,
   "metadata": {},
   "outputs": [],
   "source": [
    "def show(table):\n",
    "    for y in range(len(table)):\n",
    "        for x in table[y]:\n",
    "            print(x, end=\"\")"
   ]
  },
  {
   "cell_type": "code",
   "execution_count": 85,
   "metadata": {},
   "outputs": [
    {
     "ename": "UnboundLocalError",
     "evalue": "local variable 'row' referenced before assignment",
     "output_type": "error",
     "traceback": [
      "\u001b[1;31m---------------------------------------------------------------------------\u001b[0m",
      "\u001b[1;31mUnboundLocalError\u001b[0m                         Traceback (most recent call last)",
      "\u001b[1;32m~\\AppData\\Local\\Temp/ipykernel_31540/987884386.py\u001b[0m in \u001b[0;36m<module>\u001b[1;34m\u001b[0m\n\u001b[0;32m      1\u001b[0m \u001b[0mtable\u001b[0m \u001b[1;33m=\u001b[0m \u001b[0mcreate_board\u001b[0m\u001b[1;33m(\u001b[0m\u001b[1;36m4\u001b[0m\u001b[1;33m)\u001b[0m\u001b[1;33m\u001b[0m\u001b[1;33m\u001b[0m\u001b[0m\n\u001b[1;32m----> 2\u001b[1;33m \u001b[0mfind_player\u001b[0m\u001b[1;33m(\u001b[0m\u001b[0mtable\u001b[0m\u001b[1;33m)\u001b[0m\u001b[1;33m\u001b[0m\u001b[1;33m\u001b[0m\u001b[0m\n\u001b[0m",
      "\u001b[1;32m~\\AppData\\Local\\Temp/ipykernel_31540/4062100641.py\u001b[0m in \u001b[0;36mfind_player\u001b[1;34m(table)\u001b[0m\n\u001b[0;32m      6\u001b[0m         \u001b[1;32mexcept\u001b[0m \u001b[0mValueError\u001b[0m\u001b[1;33m:\u001b[0m\u001b[1;33m\u001b[0m\u001b[1;33m\u001b[0m\u001b[0m\n\u001b[0;32m      7\u001b[0m             \u001b[1;32mpass\u001b[0m\u001b[1;33m\u001b[0m\u001b[1;33m\u001b[0m\u001b[0m\n\u001b[1;32m----> 8\u001b[1;33m     \u001b[1;32mreturn\u001b[0m \u001b[0mrow\u001b[0m\u001b[1;33m,\u001b[0m\u001b[0mcol\u001b[0m\u001b[1;33m\u001b[0m\u001b[1;33m\u001b[0m\u001b[0m\n\u001b[0m",
      "\u001b[1;31mUnboundLocalError\u001b[0m: local variable 'row' referenced before assignment"
     ]
    }
   ],
   "source": [
    "table = create_board(4)\n",
    "find_player(table)"
   ]
  },
  {
   "cell_type": "code",
   "execution_count": 125,
   "metadata": {},
   "outputs": [
    {
     "data": {
      "text/plain": [
       "[['Cell A1', None, None, None, None],\n",
       " ['Cell A1', None, None, None, None],\n",
       " ['Cell A1', None, None, None, None],\n",
       " ['Cell A1', None, None, None, None],\n",
       " ['Cell A1', None, None, None, None]]"
      ]
     },
     "execution_count": 125,
     "metadata": {},
     "output_type": "execute_result"
    }
   ],
   "source": [
    "data = [[None]*5]*5\n",
    "data[0][0] = 'Cell A1'\n",
    "data"
   ]
  },
  {
   "cell_type": "code",
   "execution_count": 129,
   "metadata": {},
   "outputs": [
    {
     "data": {
      "text/plain": [
       "[[None, None, None, None, None],\n",
       " [None, None, None, None, None],\n",
       " [None, None, None, None, None],\n",
       " [None, None, None, None, None],\n",
       " [None, None, None, None, None]]"
      ]
     },
     "execution_count": 129,
     "metadata": {},
     "output_type": "execute_result"
    }
   ],
   "source": [
    "data = [[None]*5 for _ in range(5)]\n",
    "data"
   ]
  },
  {
   "cell_type": "code",
   "execution_count": 142,
   "metadata": {},
   "outputs": [
    {
     "data": {
      "text/plain": [
       "'1'"
      ]
     },
     "execution_count": 142,
     "metadata": {},
     "output_type": "execute_result"
    }
   ],
   "source": [
    "x = '1'\n",
    "x.lower()"
   ]
  },
  {
   "cell_type": "code",
   "execution_count": 136,
   "metadata": {},
   "outputs": [],
   "source": [
    "# To do: continue denumpying the code.\n",
    "#     Remember when you create something from a list, it is a reference and not a copy, so the list itself is an object so can be repeated\n",
    "# make more tidy/efficient"
   ]
  },
  {
   "cell_type": "code",
   "execution_count": null,
   "metadata": {},
   "outputs": [],
   "source": [
    "# Board is not recognised in the player class, so cant use it in the functions\n",
    "# - either move board referencing functions to the board class, or integrate board into player class?\n",
    "\n",
    "# change move function"
   ]
  },
  {
   "cell_type": "code",
   "execution_count": 119,
   "metadata": {},
   "outputs": [
    {
     "ename": "IndexError",
     "evalue": "list index out of range",
     "output_type": "error",
     "traceback": [
      "\u001b[1;31m---------------------------------------------------------------------------\u001b[0m",
      "\u001b[1;31mIndexError\u001b[0m                                Traceback (most recent call last)",
      "\u001b[1;32m~\\AppData\\Local\\Temp/ipykernel_31540/3842735165.py\u001b[0m in \u001b[0;36m<module>\u001b[1;34m\u001b[0m\n\u001b[1;32m----> 1\u001b[1;33m \u001b[0mlst\u001b[0m \u001b[1;33m=\u001b[0m \u001b[1;33m[\u001b[0m\u001b[1;36m1\u001b[0m\u001b[1;33m]\u001b[0m\u001b[1;33m[\u001b[0m\u001b[1;36m1\u001b[0m\u001b[1;33m]\u001b[0m\u001b[1;33m\u001b[0m\u001b[1;33m\u001b[0m\u001b[0m\n\u001b[0m\u001b[0;32m      2\u001b[0m \u001b[1;33m\u001b[0m\u001b[0m\n\u001b[0;32m      3\u001b[0m \u001b[1;31m# table\u001b[0m\u001b[1;33m\u001b[0m\u001b[1;33m\u001b[0m\u001b[0m\n",
      "\u001b[1;31mIndexError\u001b[0m: list index out of range"
     ]
    }
   ],
   "source": [
    "lst = [1][1]\n",
    "\n",
    "table[]"
   ]
  },
  {
   "cell_type": "code",
   "execution_count": null,
   "metadata": {},
   "outputs": [],
   "source": [
    "# create game function\n",
    "def main():\n",
    "\n",
    "    start = input(\"Would you like to play Tron? (y/n)\")\n",
    "    if start.lower() == \"n\":\n",
    "        print(\"Have a nice day\")\n",
    "    elif start.lower() == \"y\":\n",
    "        \n",
    "        correct_input = True\n",
    "        while correct_input:\n",
    "            game_type = input('What game version would yo like to play?: \\n a. Consecutive turns? \\n b. Simultaneous turns? \\n (Choose a or b) \\n').lower()\n",
    "        \n",
    "            if game_type in (\"a\",\"b\"):\n",
    "                break\n",
    "            else:\n",
    "                print(\"I didn't quite get that, (type a or b):\")\n",
    "            \n",
    "\n",
    "        correct_input = 0\n",
    "        while correct_input == 0:\n",
    "            try:\n",
    "                dimension = int(input('Please insert board size (minimum 4).'))\n",
    "                if dimension >= 4:\n",
    "                    correct_input = 1\n",
    "                else:\n",
    "                    print(\"(Board size minimum is 4)\")\n",
    "            except:\n",
    "                print(\"I didn't quite get that, please input an number\")\n",
    "                \n",
    "            \n",
    "            \n",
    "            \n",
    "        \n",
    "        game = Board(dimension)\n",
    "        \n",
    "        \n",
    "        \n",
    "\n",
    "if __name__ == '__main__':\n",
    "\n",
    "    a = Board(7)\n",
    "    a.__main__()\n",
    "    \n",
    "\n",
    "    \n"
   ]
  }
 ],
 "metadata": {
  "kernelspec": {
   "display_name": "Python 3 (ipykernel)",
   "language": "python",
   "name": "python3"
  },
  "language_info": {
   "codemirror_mode": {
    "name": "ipython",
    "version": 3
   },
   "file_extension": ".py",
   "mimetype": "text/x-python",
   "name": "python",
   "nbconvert_exporter": "python",
   "pygments_lexer": "ipython3",
   "version": "3.9.7"
  }
 },
 "nbformat": 4,
 "nbformat_minor": 4
}
