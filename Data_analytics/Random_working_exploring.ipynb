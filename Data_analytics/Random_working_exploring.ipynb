{
 "cells": [
  {
   "cell_type": "code",
   "execution_count": 1,
   "id": "bbd2f4b6",
   "metadata": {},
   "outputs": [],
   "source": [
    "import requests\n",
    "import tweepy"
   ]
  },
  {
   "cell_type": "code",
   "execution_count": 2,
   "id": "87f81225",
   "metadata": {},
   "outputs": [],
   "source": [
    "APP_ID = \"22591708\"\n",
    "App_name = \"alexanderfarqu2\"\n",
    "API_key = \"ON4SJ0U3Sb0ODjUk6ZquERxiv\"\n",
    "API_key_secret = \"g5JoHVL4uxCoFXLvEYTSojaEBPODyYmiI0bMeuvHYQt5JsyVE6\"\n",
    "bearer_token = \"AAAAAAAAAAAAAAAAAAAAANy4WAEAAAAAlTukwlSz2gZnDi9xKeo3lp471qM%3DxU6od5cFrnKdcLHZHXx2I6cp99WT6QnKOpirCWfm75U42yXth2\"\n",
    "access_token = \"1463912691429527556-rZ1rFU6GgR3a4xYcWdTbvsomCn5shl\"\n",
    "access_token_secret = \"qqU34qYcJ0B8iEZC82DZ6OZqzrYy8IBJ51UGNsLdXvKZh\""
   ]
  },
  {
   "cell_type": "code",
   "execution_count": 3,
   "id": "4772c275",
   "metadata": {},
   "outputs": [],
   "source": [
    "# a: get data from twitter - all data for a cerain theme.\n",
    "client = tweepy.Client(bearer_token = bearer_token)"
   ]
  },
  {
   "cell_type": "code",
   "execution_count": 23,
   "id": "783ebb38",
   "metadata": {},
   "outputs": [],
   "source": [
    "query = 'paragliding'\n",
    "\n",
    "tweets = client.search_recent_tweets(query=query, tweet_fields = \"public_metrics\", max_results = 5, expansions = )"
   ]
  },
  {
   "cell_type": "code",
   "execution_count": 24,
   "id": "4df80bbc",
   "metadata": {},
   "outputs": [
    {
     "name": "stdout",
     "output_type": "stream",
     "text": [
      "From paragliding to hydrospeeding and climbing to cycling the top 15 summer activities in the Southern French Alps https://t.co/r6BURJagGR\n",
      "#France #FrenchAlps #paragliding #hydrospeeding #climbing #cycling #AdventuresEveryday @FrenchMountains https://t.co/gYJDaEpisM\n",
      "====\n",
      "@charliebird49 Hi Charlie - My name is Paul Hogan &amp; I know you to see, you live around the corner from me. I am a paragliding pilot &amp; a group of fellow pilots want to take part in the hike of Croagh Patrick with the intention to fly from the summit. I’d love to talk to you about it please! 🙏\n",
      "====\n",
      "RT @cetinkayakoc: 2- Olaganin &amp; asil amaca goturenin disinda bir yol belirdiginde babam: \"Ne Gerek Var\" derdi. \n",
      "Aninda konusma bicak gibi b…\n",
      "====\n",
      "RT @ArtofAdventure: A new photo from the AofA Tribe.\n",
      "\n",
      "#ArtofAdventure #Adventure #Hiking #Outdoors #Photography #Travel #Climbing #Cycling…\n",
      "====\n",
      "RT @ArtofAdventure: A new photo from the AofA Tribe.\n",
      "\n",
      "#ArtofAdventure #Adventure #Hiking #Outdoors #Photography #Travel #Climbing #Cycling…\n",
      "====\n",
      "A new photo from the AofA Tribe.\n",
      "\n",
      "#ArtofAdventure #Adventure #Hiking #Outdoors #Photography #Travel #Climbing #Cycling #Scuba #Backpacking #MTB #Surfing #Camping #Windsurfing #Skiing #Snowboarding #Paragliding #SUP #Diving #DareDevil #Soaring #Motocross #Gliders #Success https://t.co/DDjwnvW231\n",
      "====\n",
      "The draft #NASP 2022 covers sports such as aerobatics, aeromodelling, ballooning, drones, gliding, hang gliding, paragliding, and skydiving.\n",
      "\n",
      "#aviation #AirSports\n",
      "https://t.co/LgzzEWhosN\n",
      "====\n",
      "RT @jigglllypufff: Activity to-do list of 2021 ✌🏻\n",
      "\n",
      "- Hot air balloon ride\n",
      "- Paragliding in Hatta\n",
      "- Paramotor desert adventure\n",
      "- Toroverde J…\n",
      "====\n",
      "@cnni Was she paragliding?\n",
      "\n",
      "For reference see Netflix\n",
      "\n",
      "\"Crash Landings On You\"\n",
      "====\n",
      "RT @ChefScott_: Paragliding in Cape Town ✅ https://t.co/89W856uIQg\n",
      "====\n"
     ]
    }
   ],
   "source": [
    "for tweet in tweets.data:\n",
    "    print(tweet)\n",
    "    print('====')"
   ]
  },
  {
   "cell_type": "code",
   "execution_count": 30,
   "id": "e85e08b8",
   "metadata": {},
   "outputs": [
    {
     "data": {
      "text/plain": [
       "[<Tweet id=1477674307174162442 text=From paragliding to hydrospeeding and climbing to cycling the top 15 summer activities in the Southern French Alps https://t.co/r6BURJagGR\n",
       " #France #FrenchAlps #paragliding #hydrospeeding #climbing #cycling #AdventuresEveryday @FrenchMountains https://t.co/gYJDaEpisM>,\n",
       " <Tweet id=1477672593306136581 text=@charliebird49 Hi Charlie - My name is Paul Hogan &amp; I know you to see, you live around the corner from me. I am a paragliding pilot &amp; a group of fellow pilots want to take part in the hike of Croagh Patrick with the intention to fly from the summit. I’d love to talk to you about it please! 🙏>,\n",
       " <Tweet id=1477668409135575045 text=RT @cetinkayakoc: 2- Olaganin &amp; asil amaca goturenin disinda bir yol belirdiginde babam: \"Ne Gerek Var\" derdi. \n",
       " Aninda konusma bicak gibi b…>,\n",
       " <Tweet id=1477665997486186501 text=RT @ArtofAdventure: A new photo from the AofA Tribe.\n",
       " \n",
       " #ArtofAdventure #Adventure #Hiking #Outdoors #Photography #Travel #Climbing #Cycling…>,\n",
       " <Tweet id=1477665838375317504 text=RT @ArtofAdventure: A new photo from the AofA Tribe.\n",
       " \n",
       " #ArtofAdventure #Adventure #Hiking #Outdoors #Photography #Travel #Climbing #Cycling…>,\n",
       " <Tweet id=1477662788139069448 text=A new photo from the AofA Tribe.\n",
       " \n",
       " #ArtofAdventure #Adventure #Hiking #Outdoors #Photography #Travel #Climbing #Cycling #Scuba #Backpacking #MTB #Surfing #Camping #Windsurfing #Skiing #Snowboarding #Paragliding #SUP #Diving #DareDevil #Soaring #Motocross #Gliders #Success https://t.co/DDjwnvW231>,\n",
       " <Tweet id=1477660677179281408 text=The draft #NASP 2022 covers sports such as aerobatics, aeromodelling, ballooning, drones, gliding, hang gliding, paragliding, and skydiving.\n",
       " \n",
       " #aviation #AirSports\n",
       " https://t.co/LgzzEWhosN>,\n",
       " <Tweet id=1477649248577540096 text=RT @jigglllypufff: Activity to-do list of 2021 ✌🏻\n",
       " \n",
       " - Hot air balloon ride\n",
       " - Paragliding in Hatta\n",
       " - Paramotor desert adventure\n",
       " - Toroverde J…>,\n",
       " <Tweet id=1477644237550276608 text=@cnni Was she paragliding?\n",
       " \n",
       " For reference see Netflix\n",
       " \n",
       " \"Crash Landings On You\">,\n",
       " <Tweet id=1477643091171581956 text=RT @ChefScott_: Paragliding in Cape Town ✅ https://t.co/89W856uIQg>]"
      ]
     },
     "execution_count": 30,
     "metadata": {},
     "output_type": "execute_result"
    }
   ],
   "source": [
    "tweets.data"
   ]
  },
  {
   "cell_type": "markdown",
   "id": "291ac821",
   "metadata": {},
   "source": [
    "# Exploring the tweet_fields argument"
   ]
  },
  {
   "cell_type": "code",
   "execution_count": 174,
   "id": "5d9ef93d",
   "metadata": {},
   "outputs": [],
   "source": [
    "client = tweepy.Client(bearer_token = bearer_token)\n",
    "\n",
    "query = 'paragliding'\n",
    "all_tweet_fields = ['attachments','author_id','context_annotations','conversation_id','created_at','entities','geo','id','in_reply_to_user_id','lang','non_public_metrics','organic_metrics','possibly_sensitive','promoted_metrics','public_metrics','referenced_tweets','reply_settings','source','text','withheld']\n",
    "tweet_fields=['attachments','author_id','context_annotations', 'created_at','public_metrics']\n",
    "\n",
    "failed_fields = ['non_public_metrics', 'organic_metrics', 'promoted_metrics','possibly_sensitive']\n",
    "\n",
    "\n",
    "new_tweet_fields = ['conversation_id', 'entities', 'geo', 'id', 'in_reply_to_user_id','lang', 'referenced_tweets','reply_settings','source','withheld']\n",
    "tweet_fields = tweet_fields + new_tweet_fields\n",
    "\n",
    "tweets = []\n",
    "for tweet in tweepy.Paginator(client.search_recent_tweets, \n",
    "                              query=query,\n",
    "                          tweet_fields=tweet_fields,\n",
    "                          max_results=10).flatten(limit=15):\n",
    "    tweets.append(tweet)\n",
    "    \n"
   ]
  },
  {
   "cell_type": "code",
   "execution_count": null,
   "id": "0ece7048",
   "metadata": {},
   "outputs": [],
   "source": [
    "context_annotations,\n",
    "public_metrics, - retweets, likes, replpy, quotes\n",
    "entities, - entities that have been passed out of tweet text, like hashtags, urls, symbols, user_mentions, polls, media"
   ]
  },
  {
   "cell_type": "code",
   "execution_count": 222,
   "id": "1de35758",
   "metadata": {},
   "outputs": [
    {
     "data": {
      "text/plain": [
       "['__slots__',\n",
       " '__str__',\n",
       " '__subclasshook__',\n",
       " '_abc_impl',\n",
       " 'attachments',\n",
       " 'author_id',\n",
       " 'context_annotations',\n",
       " 'conversation_id',\n",
       " 'created_at',\n",
       " 'data',\n",
       " 'entities',\n",
       " 'geo',\n",
       " 'get',\n",
       " 'id',\n",
       " 'in_reply_to_user_id',\n",
       " 'items',\n",
       " 'keys',\n",
       " 'lang',\n",
       " 'non_public_metrics',\n",
       " 'organic_metrics',\n",
       " 'possibly_sensitive',\n",
       " 'promoted_metrics',\n",
       " 'public_metrics',\n",
       " 'referenced_tweets',\n",
       " 'reply_settings',\n",
       " 'source',\n",
       " 'text',\n",
       " 'values',\n",
       " 'withheld']"
      ]
     },
     "execution_count": 222,
     "metadata": {},
     "output_type": "execute_result"
    }
   ],
   "source": [
    "dir(tweets[0])[30:]"
   ]
  },
  {
   "cell_type": "code",
   "execution_count": 227,
   "id": "613816ff",
   "metadata": {},
   "outputs": [
    {
     "name": "stdout",
     "output_type": "stream",
     "text": [
      "{'lang': 'en', 'text': 'RT @haverkamp_wiebe: Exciting paragliding  over mountains in New Zealand🪂 https://t.co/I4cDhS1R2J', 'attachments': {'media_keys': ['7_1477703545654849542']}, 'author_id': '136927374', 'referenced_tweets': [{'type': 'retweeted', 'id': '1477703632254611458'}], 'conversation_id': '1477715352209571842', 'created_at': '2022-01-02T18:56:09.000Z', 'entities': {'urls': [{'start': 74, 'end': 97, 'url': 'https://t.co/I4cDhS1R2J', 'expanded_url': 'https://twitter.com/haverkamp_wiebe/status/1477703632254611458/video/1', 'display_url': 'pic.twitter.com/I4cDhS1R2J'}], 'annotations': [{'start': 61, 'end': 73, 'probability': 0.4001, 'type': 'Place', 'normalized_text': 'New Zealand🪂'}], 'mentions': [{'start': 3, 'end': 19, 'username': 'haverkamp_wiebe', 'id': '1415726706820792329'}]}, 'id': '1477715352209571842', 'source': 'Twitter Web App', 'reply_settings': 'everyone', 'public_metrics': {'retweet_count': 5, 'reply_count': 0, 'like_count': 0, 'quote_count': 0}}\n",
      "{'lang': 'en', 'text': 'spectacular view from paragliding watching the mountain ranges of Colombia  #Adventure #LeisureActivities #Person #Human #Helmet #Clothing #Apparel #Bungee #Rope #Darling #Height #Adrenalin https://t.co/cNjLhjPHgx', 'author_id': '1329945729205489665', 'context_annotations': [{'domain': {'id': '65', 'name': 'Interests and Hobbies Vertical', 'description': 'Top level interests and hobbies groupings, like Food or Travel'}, 'entity': {'id': '1256236649253449729', 'name': 'Fashion & beauty'}}, {'domain': {'id': '67', 'name': 'Interests and Hobbies', 'description': 'Interests, opinions, and behaviors of individuals, groups, or cultures; like Speciality Cooking or Theme Parks'}, 'entity': {'id': '839543390668673024', 'name': 'Fashion'}}, {'domain': {'id': '65', 'name': 'Interests and Hobbies Vertical', 'description': 'Top level interests and hobbies groupings, like Food or Travel'}, 'entity': {'id': '844603730221707264', 'name': 'Fashion', 'description': 'Fashion'}}, {'domain': {'id': '66', 'name': 'Interests and Hobbies Category', 'description': 'A grouping of interests and hobbies entities, like Novelty Food or Destinations'}, 'entity': {'id': '845326060757512192', 'name': 'Fashion Novelty', 'description': 'Fashion Novelty'}}, {'domain': {'id': '67', 'name': 'Interests and Hobbies', 'description': 'Interests, opinions, and behaviors of individuals, groups, or cultures; like Speciality Cooking or Theme Parks'}, 'entity': {'id': '845327283774640128', 'name': 'Fashion Tags', 'description': 'Fashion Blogging'}}], 'conversation_id': '1477706922254024714', 'created_at': '2022-01-02T18:22:39.000Z', 'entities': {'urls': [{'start': 190, 'end': 213, 'url': 'https://t.co/cNjLhjPHgx', 'expanded_url': 'https://www.clickasnap.com/i/00egjhsw4mpoaaw6', 'display_url': 'clickasnap.com/i/00egjhsw4mpo…', 'images': [{'url': 'https://pbs.twimg.com/news_img/1475575354194632709/XM9MN77G?format=jpg&name=orig', 'width': 1080, 'height': 810}, {'url': 'https://pbs.twimg.com/news_img/1475575354194632709/XM9MN77G?format=jpg&name=150x150', 'width': 150, 'height': 150}], 'status': 200, 'title': 'ClickASnap', 'description': 'spectacular view from paragliding watching the mountain ranges of Colombia', 'unwound_url': 'https://www.clickasnap.com/i/00egjhsw4mpoaaw6'}], 'hashtags': [{'start': 76, 'end': 86, 'tag': 'Adventure'}, {'start': 87, 'end': 105, 'tag': 'LeisureActivities'}, {'start': 106, 'end': 113, 'tag': 'Person'}, {'start': 114, 'end': 120, 'tag': 'Human'}, {'start': 121, 'end': 128, 'tag': 'Helmet'}, {'start': 129, 'end': 138, 'tag': 'Clothing'}, {'start': 139, 'end': 147, 'tag': 'Apparel'}, {'start': 148, 'end': 155, 'tag': 'Bungee'}, {'start': 156, 'end': 161, 'tag': 'Rope'}, {'start': 162, 'end': 170, 'tag': 'Darling'}, {'start': 171, 'end': 178, 'tag': 'Height'}, {'start': 179, 'end': 189, 'tag': 'Adrenalin'}], 'annotations': [{'start': 66, 'end': 73, 'probability': 0.9477, 'type': 'Place', 'normalized_text': 'Colombia'}]}, 'id': '1477706922254024714', 'source': 'Clickasnap', 'reply_settings': 'everyone', 'public_metrics': {'retweet_count': 0, 'reply_count': 0, 'like_count': 0, 'quote_count': 0}}\n",
      "{'lang': 'en', 'text': 'RT @haverkamp_wiebe: Exciting paragliding  over mountains in New Zealand🪂 https://t.co/I4cDhS1R2J', 'attachments': {'media_keys': ['7_1477703545654849542']}, 'author_id': '1907915342', 'referenced_tweets': [{'type': 'retweeted', 'id': '1477703632254611458'}], 'conversation_id': '1477705114886545415', 'created_at': '2022-01-02T18:15:28.000Z', 'entities': {'urls': [{'start': 74, 'end': 97, 'url': 'https://t.co/I4cDhS1R2J', 'expanded_url': 'https://twitter.com/haverkamp_wiebe/status/1477703632254611458/video/1', 'display_url': 'pic.twitter.com/I4cDhS1R2J'}], 'annotations': [{'start': 61, 'end': 73, 'probability': 0.4001, 'type': 'Place', 'normalized_text': 'New Zealand🪂'}], 'mentions': [{'start': 3, 'end': 19, 'username': 'haverkamp_wiebe', 'id': '1415726706820792329'}]}, 'id': '1477705114886545415', 'source': 'Twitter for iPad', 'reply_settings': 'everyone', 'public_metrics': {'retweet_count': 5, 'reply_count': 0, 'like_count': 0, 'quote_count': 0}}\n",
      "{'lang': 'en', 'text': 'RT @haverkamp_wiebe: Exciting paragliding  over mountains in New Zealand🪂 https://t.co/I4cDhS1R2J', 'attachments': {'media_keys': ['7_1477703545654849542']}, 'author_id': '1190240594691387392', 'referenced_tweets': [{'type': 'retweeted', 'id': '1477703632254611458'}], 'conversation_id': '1477705111556145153', 'created_at': '2022-01-02T18:15:27.000Z', 'entities': {'urls': [{'start': 74, 'end': 97, 'url': 'https://t.co/I4cDhS1R2J', 'expanded_url': 'https://twitter.com/haverkamp_wiebe/status/1477703632254611458/video/1', 'display_url': 'pic.twitter.com/I4cDhS1R2J'}], 'annotations': [{'start': 61, 'end': 73, 'probability': 0.4001, 'type': 'Place', 'normalized_text': 'New Zealand🪂'}], 'mentions': [{'start': 3, 'end': 19, 'username': 'haverkamp_wiebe', 'id': '1415726706820792329'}]}, 'id': '1477705111556145153', 'source': 'Twitter Web App', 'reply_settings': 'everyone', 'public_metrics': {'retweet_count': 5, 'reply_count': 0, 'like_count': 0, 'quote_count': 0}}\n",
      "{'lang': 'en', 'text': 'RT @haverkamp_wiebe: Exciting paragliding  over mountains in New Zealand🪂 https://t.co/I4cDhS1R2J', 'attachments': {'media_keys': ['7_1477703545654849542']}, 'author_id': '970234827646447617', 'referenced_tweets': [{'type': 'retweeted', 'id': '1477703632254611458'}], 'conversation_id': '1477704463112617986', 'created_at': '2022-01-02T18:12:53.000Z', 'entities': {'urls': [{'start': 74, 'end': 97, 'url': 'https://t.co/I4cDhS1R2J', 'expanded_url': 'https://twitter.com/haverkamp_wiebe/status/1477703632254611458/video/1', 'display_url': 'pic.twitter.com/I4cDhS1R2J'}], 'annotations': [{'start': 61, 'end': 73, 'probability': 0.4001, 'type': 'Place', 'normalized_text': 'New Zealand🪂'}], 'mentions': [{'start': 3, 'end': 19, 'username': 'haverkamp_wiebe', 'id': '1415726706820792329'}]}, 'id': '1477704463112617986', 'source': 'Twitter Web App', 'reply_settings': 'everyone', 'public_metrics': {'retweet_count': 5, 'reply_count': 0, 'like_count': 0, 'quote_count': 0}}\n",
      "{'lang': 'en', 'text': 'RT @haverkamp_wiebe: Exciting paragliding  over mountains in New Zealand🪂 https://t.co/I4cDhS1R2J', 'attachments': {'media_keys': ['7_1477703545654849542']}, 'author_id': '1427724196705185796', 'referenced_tweets': [{'type': 'retweeted', 'id': '1477703632254611458'}], 'conversation_id': '1477704314399375368', 'created_at': '2022-01-02T18:12:17.000Z', 'entities': {'urls': [{'start': 74, 'end': 97, 'url': 'https://t.co/I4cDhS1R2J', 'expanded_url': 'https://twitter.com/haverkamp_wiebe/status/1477703632254611458/video/1', 'display_url': 'pic.twitter.com/I4cDhS1R2J'}], 'annotations': [{'start': 61, 'end': 73, 'probability': 0.4001, 'type': 'Place', 'normalized_text': 'New Zealand🪂'}], 'mentions': [{'start': 3, 'end': 19, 'username': 'haverkamp_wiebe', 'id': '1415726706820792329'}]}, 'id': '1477704314399375368', 'source': 'Twitter Web App', 'reply_settings': 'everyone', 'public_metrics': {'retweet_count': 5, 'reply_count': 0, 'like_count': 0, 'quote_count': 0}}\n",
      "{'lang': 'en', 'text': 'Exciting paragliding  over mountains in New Zealand🪂 https://t.co/I4cDhS1R2J', 'attachments': {'media_keys': ['7_1477703545654849542']}, 'author_id': '1415726706820792329', 'conversation_id': '1477703632254611458', 'created_at': '2022-01-02T18:09:34.000Z', 'entities': {'urls': [{'start': 53, 'end': 76, 'url': 'https://t.co/I4cDhS1R2J', 'expanded_url': 'https://twitter.com/haverkamp_wiebe/status/1477703632254611458/video/1', 'display_url': 'pic.twitter.com/I4cDhS1R2J'}]}, 'id': '1477703632254611458', 'source': 'Twitter for Android', 'reply_settings': 'everyone', 'public_metrics': {'retweet_count': 5, 'reply_count': 2, 'like_count': 28, 'quote_count': 3}}\n",
      "{'lang': 'tr', 'text': 'RT @cetinkayakoc: 2- Olaganin &amp; asil amaca goturenin disinda bir yol belirdiginde babam: \"Ne Gerek Var\" derdi. \\nAninda konusma bicak gibi b…', 'author_id': '107109988', 'referenced_tweets': [{'type': 'retweeted', 'id': '1477503249556983816'}], 'conversation_id': '1477697818143907852', 'created_at': '2022-01-02T17:46:28.000Z', 'id': '1477697818143907852', 'source': 'Twitter for Android', 'reply_settings': 'everyone', 'public_metrics': {'retweet_count': 9, 'reply_count': 0, 'like_count': 0, 'quote_count': 0}, 'entities': {'mentions': [{'start': 3, 'end': 16, 'username': 'cetinkayakoc', 'id': '1127910304292134912'}]}}\n",
      "{'lang': 'en', 'text': '@StellaNoxEclair I spend hours playing BOTW long after the main objective has been done. Just wander around, paragliding off stuff, defeat some enemies, just playing.', 'author_id': '927784437382832128', 'referenced_tweets': [{'type': 'replied_to', 'id': '1477510210856136707'}], 'context_annotations': [{'domain': {'id': '65', 'name': 'Interests and Hobbies Vertical', 'description': 'Top level interests and hobbies groupings, like Food or Travel'}, 'entity': {'id': '847868745150119936', 'name': 'Home & family', 'description': 'Hobbies and interests'}}, {'domain': {'id': '30', 'name': 'Entities [Entity Service]', 'description': 'Entity Service top level domain, every item that is in Entity Service should be in this domain'}, 'entity': {'id': '847527946864607232', 'name': 'Mobile gaming', 'description': 'Mobile gaming'}}, {'domain': {'id': '71', 'name': 'Video Game', 'description': 'A video game like Overwatch'}, 'entity': {'id': '10048750440', 'name': 'Zelda: Breath of the Wild', 'description': 'Zelda: Breath of the Wild'}}, {'domain': {'id': '71', 'name': 'Video Game', 'description': 'A video game like Overwatch'}, 'entity': {'id': '855303327088640000', 'name': 'The Legend of Zelda', 'description': 'This entity includes all conversation about the franchise, as well as any individual installments in the series, if applicable.\\t\\t\\t'}}, {'domain': {'id': '65', 'name': 'Interests and Hobbies Vertical', 'description': 'Top level interests and hobbies groupings, like Food or Travel'}, 'entity': {'id': '847868745150119936', 'name': 'Home & family', 'description': 'Hobbies and interests'}}, {'domain': {'id': '30', 'name': 'Entities [Entity Service]', 'description': 'Entity Service top level domain, every item that is in Entity Service should be in this domain'}, 'entity': {'id': '847527946864607232', 'name': 'Mobile gaming', 'description': 'Mobile gaming'}}, {'domain': {'id': '71', 'name': 'Video Game', 'description': 'A video game like Overwatch'}, 'entity': {'id': '855303327088640000', 'name': 'The Legend of Zelda', 'description': 'This entity includes all conversation about the franchise, as well as any individual installments in the series, if applicable.\\t\\t\\t'}}], 'conversation_id': '1477510210856136707', 'created_at': '2022-01-02T17:30:35.000Z', 'in_reply_to_user_id': '1278325874107076608', 'id': '1477693820536041480', 'source': 'Twitter for Android', 'reply_settings': 'everyone', 'public_metrics': {'retweet_count': 0, 'reply_count': 0, 'like_count': 0, 'quote_count': 0}, 'entities': {'mentions': [{'start': 0, 'end': 16, 'username': 'StellaNoxEclair', 'id': '1278325874107076608'}]}}\n",
      "{'lang': 'en', 'text': 'RT @drunkgeek_: Paragliding Ticked from bucket list on Birthday 🔥✅\\nAj Maut ko Chuke Tak se wapas aya Apun 🤣😝\\n#Birbiling https://t.co/3ejysf…', 'author_id': '2505025987', 'referenced_tweets': [{'type': 'retweeted', 'id': '1477688652692033536'}], 'conversation_id': '1477692600505278469', 'created_at': '2022-01-02T17:25:44.000Z', 'entities': {'hashtags': [{'start': 109, 'end': 119, 'tag': 'Birbiling'}], 'mentions': [{'start': 3, 'end': 14, 'username': 'drunkgeek_', 'id': '2200534047'}]}, 'id': '1477692600505278469', 'source': 'Twitter for iPhone', 'reply_settings': 'everyone', 'public_metrics': {'retweet_count': 1, 'reply_count': 0, 'like_count': 0, 'quote_count': 0}}\n",
      "{'lang': 'en', 'created_at': '2022-01-02T17:23:40.000Z', 'id': '1477692077152559104', 'text': 'Just saw a video demo of some acoustic guitar amp, and to show you, they play the guitar while paragliding. I think the millennial adventure thing is getting out of hand if that’s how you have to sell and amp now. People just drive around with kayaks on car roofs now', 'author_id': '109315335', 'context_annotations': [{'domain': {'id': '65', 'name': 'Interests and Hobbies Vertical', 'description': 'Top level interests and hobbies groupings, like Food or Travel'}, 'entity': {'id': '839159814991167489', 'name': 'Travel', 'description': 'Travel'}}, {'domain': {'id': '65', 'name': 'Interests and Hobbies Vertical', 'description': 'Top level interests and hobbies groupings, like Food or Travel'}, 'entity': {'id': '847868745150119936', 'name': 'Home & family', 'description': 'Hobbies and interests'}}, {'domain': {'id': '66', 'name': 'Interests and Hobbies Category', 'description': 'A grouping of interests and hobbies entities, like Novelty Food or Destinations'}, 'entity': {'id': '1277995430236680192', 'name': 'Outdoors'}}, {'domain': {'id': '67', 'name': 'Interests and Hobbies', 'description': 'Interests, opinions, and behaviors of individuals, groups, or cultures; like Speciality Cooking or Theme Parks'}, 'entity': {'id': '847900911385010176', 'name': 'Canoeing & kayaking', 'description': 'Canoeing and kayaking'}}, {'domain': {'id': '67', 'name': 'Interests and Hobbies', 'description': 'Interests, opinions, and behaviors of individuals, groups, or cultures; like Speciality Cooking or Theme Parks'}, 'entity': {'id': '849076092111536128', 'name': 'Adventure travel', 'description': 'Adventure travel'}}], 'public_metrics': {'retweet_count': 0, 'reply_count': 0, 'like_count': 0, 'quote_count': 0}, 'source': 'Twitter for iPhone', 'reply_settings': 'everyone', 'conversation_id': '1477692077152559104'}\n",
      "{'lang': 'en', 'created_at': '2022-01-02T17:15:51.000Z', 'id': '1477690112465149953', 'text': 'RT @TravelGumbo: #Paragliding Over #Oahu #ttot\\n\\nTravelGumbo archives\\nBy Travelers, For Travelers\\n\\nhttps://t.co/dgCbo5C6uU https://t.co/7hJI…', 'author_id': '774408049', 'entities': {'urls': [{'start': 98, 'end': 121, 'url': 'https://t.co/dgCbo5C6uU', 'expanded_url': 'https://travelgumbo.com/blog/paragliding-over-oahu', 'display_url': 'travelgumbo.com/blog/paraglidi…', 'unwound_url': 'https://www.travelgumbo.com/blog/paragliding-over-oahu'}], 'hashtags': [{'start': 17, 'end': 29, 'tag': 'Paragliding'}, {'start': 35, 'end': 40, 'tag': 'Oahu'}, {'start': 41, 'end': 46, 'tag': 'ttot'}], 'mentions': [{'start': 3, 'end': 15, 'username': 'TravelGumbo', 'id': '1342860806'}]}, 'context_annotations': [{'domain': {'id': '65', 'name': 'Interests and Hobbies Vertical', 'description': 'Top level interests and hobbies groupings, like Food or Travel'}, 'entity': {'id': '839159814991167489', 'name': 'Travel', 'description': 'Travel'}}, {'domain': {'id': '66', 'name': 'Interests and Hobbies Category', 'description': 'A grouping of interests and hobbies entities, like Novelty Food or Destinations'}, 'entity': {'id': '857603051657482241', 'name': 'Destinations', 'description': 'Destinations'}}, {'domain': {'id': '65', 'name': 'Interests and Hobbies Vertical', 'description': 'Top level interests and hobbies groupings, like Food or Travel'}, 'entity': {'id': '839159814991167489', 'name': 'Travel', 'description': 'Travel'}}, {'domain': {'id': '66', 'name': 'Interests and Hobbies Category', 'description': 'A grouping of interests and hobbies entities, like Novelty Food or Destinations'}, 'entity': {'id': '842061030951809024', 'name': 'Travel novelty', 'description': 'Travel novelty'}}, {'domain': {'id': '67', 'name': 'Interests and Hobbies', 'description': 'Interests, opinions, and behaviors of individuals, groups, or cultures; like Speciality Cooking or Theme Parks'}, 'entity': {'id': '842062634019037184', 'name': 'Travel media', 'description': 'This entity includes conversations about any digital media related to traveling such as travel blogs and travel social media.'}}], 'public_metrics': {'retweet_count': 1, 'reply_count': 0, 'like_count': 0, 'quote_count': 0}, 'source': 'RTBOT123456789098', 'reply_settings': 'everyone', 'referenced_tweets': [{'type': 'retweeted', 'id': '1477688387142397954'}], 'conversation_id': '1477690112465149953'}\n",
      "{'lang': 'en', 'created_at': '2022-01-02T17:10:03.000Z', 'id': '1477688652692033536', 'text': 'Paragliding Ticked from bucket list on Birthday 🔥✅\\nAj Maut ko Chuke Tak se wapas aya Apun 🤣😝\\n#Birbiling https://t.co/3ejysfgVjQ', 'author_id': '2200534047', 'attachments': {'media_keys': ['3_1477688640226545665', '3_1477688640222347266', '3_1477688640234942465']}, 'entities': {'urls': [{'start': 104, 'end': 127, 'url': 'https://t.co/3ejysfgVjQ', 'expanded_url': 'https://twitter.com/drunkgeek_/status/1477688652692033536/photo/1', 'display_url': 'pic.twitter.com/3ejysfgVjQ'}, {'start': 104, 'end': 127, 'url': 'https://t.co/3ejysfgVjQ', 'expanded_url': 'https://twitter.com/drunkgeek_/status/1477688652692033536/photo/1', 'display_url': 'pic.twitter.com/3ejysfgVjQ'}, {'start': 104, 'end': 127, 'url': 'https://t.co/3ejysfgVjQ', 'expanded_url': 'https://twitter.com/drunkgeek_/status/1477688652692033536/photo/1', 'display_url': 'pic.twitter.com/3ejysfgVjQ'}], 'hashtags': [{'start': 93, 'end': 103, 'tag': 'Birbiling'}]}, 'public_metrics': {'retweet_count': 1, 'reply_count': 6, 'like_count': 16, 'quote_count': 0}, 'source': 'Twitter for iPhone', 'reply_settings': 'everyone', 'conversation_id': '1477688652692033536'}\n",
      "{'lang': 'en', 'created_at': '2022-01-02T17:09:00.000Z', 'id': '1477688387142397954', 'text': '#Paragliding Over #Oahu #ttot\\n\\nTravelGumbo archives\\nBy Travelers, For Travelers\\n\\nhttps://t.co/dgCbo5C6uU https://t.co/7hJIUFLhtO', 'author_id': '1342860806', 'attachments': {'media_keys': ['3_1426253288777953281']}, 'entities': {'urls': [{'start': 81, 'end': 104, 'url': 'https://t.co/dgCbo5C6uU', 'expanded_url': 'https://travelgumbo.com/blog/paragliding-over-oahu', 'display_url': 'travelgumbo.com/blog/paraglidi…', 'unwound_url': 'https://www.travelgumbo.com/blog/paragliding-over-oahu'}, {'start': 105, 'end': 128, 'url': 'https://t.co/7hJIUFLhtO', 'expanded_url': 'https://twitter.com/TravelGumbo/status/1477688387142397954/photo/1', 'display_url': 'pic.twitter.com/7hJIUFLhtO'}], 'hashtags': [{'start': 0, 'end': 12, 'tag': 'Paragliding'}, {'start': 18, 'end': 23, 'tag': 'Oahu'}, {'start': 24, 'end': 29, 'tag': 'ttot'}]}, 'context_annotations': [{'domain': {'id': '65', 'name': 'Interests and Hobbies Vertical', 'description': 'Top level interests and hobbies groupings, like Food or Travel'}, 'entity': {'id': '839159814991167489', 'name': 'Travel', 'description': 'Travel'}}, {'domain': {'id': '66', 'name': 'Interests and Hobbies Category', 'description': 'A grouping of interests and hobbies entities, like Novelty Food or Destinations'}, 'entity': {'id': '857603051657482241', 'name': 'Destinations', 'description': 'Destinations'}}, {'domain': {'id': '65', 'name': 'Interests and Hobbies Vertical', 'description': 'Top level interests and hobbies groupings, like Food or Travel'}, 'entity': {'id': '839159814991167489', 'name': 'Travel', 'description': 'Travel'}}, {'domain': {'id': '66', 'name': 'Interests and Hobbies Category', 'description': 'A grouping of interests and hobbies entities, like Novelty Food or Destinations'}, 'entity': {'id': '842061030951809024', 'name': 'Travel novelty', 'description': 'Travel novelty'}}, {'domain': {'id': '67', 'name': 'Interests and Hobbies', 'description': 'Interests, opinions, and behaviors of individuals, groups, or cultures; like Speciality Cooking or Theme Parks'}, 'entity': {'id': '842062634019037184', 'name': 'Travel media', 'description': 'This entity includes conversations about any digital media related to traveling such as travel blogs and travel social media.'}}], 'public_metrics': {'retweet_count': 1, 'reply_count': 0, 'like_count': 0, 'quote_count': 0}, 'source': 'TweetDeck', 'reply_settings': 'everyone', 'conversation_id': '1477688387142397954'}\n",
      "{'entities': {'annotations': [{'start': 1, 'end': 24, 'probability': 0.8757, 'type': 'Organization', 'normalized_text': '️Civil Aviation Ministry'}], 'urls': [{'start': 267, 'end': 290, 'url': 'https://t.co/LDz7ucJX65', 'expanded_url': 'https://twitter.com/DDOdiaNews/status/1477686288446734336/photo/1', 'display_url': 'pic.twitter.com/LDz7ucJX65'}]}, 'lang': 'en', 'created_at': '2022-01-02T17:00:39.000Z', 'id': '1477686288446734336', 'text': '➡️Civil Aviation Ministry has released draft National Air Sports Policy for public feedback on the website of the Ministry\\n\\n➡️Policy covers sports like aerobatics, ballooning, drones, gliding and paragliding,  microlighting, paramotoring, skydiving, vintage aircraft https://t.co/LDz7ucJX65', 'author_id': '1162310156241104896', 'attachments': {'media_keys': ['3_1477685688132767745']}, 'context_annotations': [{'domain': {'id': '11', 'name': 'Sport', 'description': 'Types of sports, like soccer and basketball'}, 'entity': {'id': '1282738451628953601', 'name': 'Extreme sports'}}, {'domain': {'id': '11', 'name': 'Sport', 'description': 'Types of sports, like soccer and basketball'}, 'entity': {'id': '1284177062966648832', 'name': 'Skydiving'}}, {'domain': {'id': '45', 'name': 'Brand Vertical', 'description': 'Top level entities that describe a Brands industry'}, 'entity': {'id': '781974597302226944', 'name': 'Transportation'}}, {'domain': {'id': '65', 'name': 'Interests and Hobbies Vertical', 'description': 'Top level interests and hobbies groupings, like Food or Travel'}, 'entity': {'id': '848920371311001600', 'name': 'Technology', 'description': 'Technology and computing'}}, {'domain': {'id': '66', 'name': 'Interests and Hobbies Category', 'description': 'A grouping of interests and hobbies entities, like Novelty Food or Destinations'}, 'entity': {'id': '1129034928895586306', 'name': 'Drones'}}], 'public_metrics': {'retweet_count': 0, 'reply_count': 0, 'like_count': 0, 'quote_count': 0}, 'source': 'Twitter Web App', 'reply_settings': 'everyone', 'conversation_id': '1477686288446734336'}\n"
     ]
    }
   ],
   "source": [
    "n= 0 \n",
    "# att = \n",
    "for tweet  in tweets:\n",
    "    print(tweet.data)"
   ]
  },
  {
   "cell_type": "code",
   "execution_count": 74,
   "id": "eba6c29f",
   "metadata": {},
   "outputs": [
    {
     "data": {
      "text/plain": [
       "<Tweet id=1477690112465149953 text=RT @TravelGumbo: #Paragliding Over #Oahu #ttot\n",
       "\n",
       "TravelGumbo archives\n",
       "By Travelers, For Travelers\n",
       "\n",
       "https://t.co/dgCbo5C6uU https://t.co/7hJI…>"
      ]
     },
     "execution_count": 74,
     "metadata": {},
     "output_type": "execute_result"
    }
   ],
   "source": [
    "tweets[0]"
   ]
  },
  {
   "cell_type": "code",
   "execution_count": 187,
   "id": "1933d388",
   "metadata": {},
   "outputs": [],
   "source": [
    "import pandas as pd\n",
    "tweet_df = pd.DataFrame()\n",
    "tweet_df['text']= [tweet.text for tweet in tweets]\n",
    "tweet_df['created_at']= [tweet.created_at for tweet in tweets]\n",
    "tweet_df['ret_count']= [tweet.public_metrics['retweet_count'] for tweet in tweets]\n",
    "tweet_df['reply_count']= [tweet.public_metrics['reply_count']for tweet in tweets]\n",
    "tweet_df['like_count']= [tweet.public_metrics['like_count']for tweet in tweets]\n",
    "tweet_df['quote_count']= [tweet.public_metrics['quote_count']for tweet in tweets]\n",
    "\n",
    "tweet_df['source']= [tweet.source for tweet in tweets]\n",
    "tweet_df['attachments']= [tweet.attachments for tweet in tweets]\n",
    "tweet_df['conversation_id']= [tweet.conversation_id for tweet in tweets]\n",
    "\n",
    "tweet_df['geo']= [tweet.geo for tweet in tweets]\n",
    "tweet_df['id']= [tweet.id for tweet in tweets]\n",
    "tweet_df['attachments']= [tweet.attachments for tweet in tweets]\n",
    "tweet_df['in_reply_to_user_id']= [tweet.in_reply_to_user_id for tweet in tweets]\n",
    "tweet_df['lang']= [tweet.lang for tweet in tweets]\n",
    "tweet_df['referenced_tweets']= [tweet.referenced_tweets for tweet in tweets]\n",
    "tweet_df['reply_settings']= [tweet.reply_settings for tweet in tweets]\n",
    "tweet_df['withheld']= [tweet.withheld for tweet in tweets]\n",
    "\n",
    "tweet_df['author_id']= [tweet.author_id for tweet in tweets]\n",
    "tweet_df['entities']= [tweet.entities for tweet in tweets]\n",
    "tweet_df['context_annotations']= [tweet.context_annotations for tweet in tweets]\n"
   ]
  },
  {
   "cell_type": "code",
   "execution_count": 213,
   "id": "5d000853",
   "metadata": {},
   "outputs": [
    {
     "data": {
      "text/html": [
       "<div>\n",
       "<style scoped>\n",
       "    .dataframe tbody tr th:only-of-type {\n",
       "        vertical-align: middle;\n",
       "    }\n",
       "\n",
       "    .dataframe tbody tr th {\n",
       "        vertical-align: top;\n",
       "    }\n",
       "\n",
       "    .dataframe thead th {\n",
       "        text-align: right;\n",
       "    }\n",
       "</style>\n",
       "<table border=\"1\" class=\"dataframe\">\n",
       "  <thead>\n",
       "    <tr style=\"text-align: right;\">\n",
       "      <th></th>\n",
       "      <th>text</th>\n",
       "      <th>created_at</th>\n",
       "      <th>ret_count</th>\n",
       "      <th>reply_count</th>\n",
       "      <th>like_count</th>\n",
       "      <th>quote_count</th>\n",
       "      <th>source</th>\n",
       "      <th>attachments</th>\n",
       "      <th>conversation_id</th>\n",
       "      <th>geo</th>\n",
       "      <th>id</th>\n",
       "      <th>in_reply_to_user_id</th>\n",
       "      <th>lang</th>\n",
       "      <th>referenced_tweets</th>\n",
       "      <th>reply_settings</th>\n",
       "      <th>withheld</th>\n",
       "      <th>author_id</th>\n",
       "      <th>entities</th>\n",
       "      <th>context_annotations</th>\n",
       "    </tr>\n",
       "  </thead>\n",
       "  <tbody>\n",
       "    <tr>\n",
       "      <th>0</th>\n",
       "      <td>RT @haverkamp_wiebe: Exciting paragliding  ove...</td>\n",
       "      <td>2022-01-02 18:56:09+00:00</td>\n",
       "      <td>5</td>\n",
       "      <td>0</td>\n",
       "      <td>0</td>\n",
       "      <td>0</td>\n",
       "      <td>Twitter Web App</td>\n",
       "      <td>{'media_keys': ['7_1477703545654849542']}</td>\n",
       "      <td>1477715352209571842</td>\n",
       "      <td>None</td>\n",
       "      <td>1477715352209571842</td>\n",
       "      <td>NaN</td>\n",
       "      <td>en</td>\n",
       "      <td>[(type, id)]</td>\n",
       "      <td>everyone</td>\n",
       "      <td>None</td>\n",
       "      <td>136927374</td>\n",
       "      <td>{'urls': [{'start': 74, 'end': 97, 'url': 'htt...</td>\n",
       "      <td>[]</td>\n",
       "    </tr>\n",
       "    <tr>\n",
       "      <th>1</th>\n",
       "      <td>spectacular view from paragliding watching the...</td>\n",
       "      <td>2022-01-02 18:22:39+00:00</td>\n",
       "      <td>0</td>\n",
       "      <td>0</td>\n",
       "      <td>0</td>\n",
       "      <td>0</td>\n",
       "      <td>Clickasnap</td>\n",
       "      <td>None</td>\n",
       "      <td>1477706922254024714</td>\n",
       "      <td>None</td>\n",
       "      <td>1477706922254024714</td>\n",
       "      <td>NaN</td>\n",
       "      <td>en</td>\n",
       "      <td>None</td>\n",
       "      <td>everyone</td>\n",
       "      <td>None</td>\n",
       "      <td>1329945729205489665</td>\n",
       "      <td>{'urls': [{'start': 190, 'end': 213, 'url': 'h...</td>\n",
       "      <td>[{'domain': {'id': '65', 'name': 'Interests an...</td>\n",
       "    </tr>\n",
       "    <tr>\n",
       "      <th>2</th>\n",
       "      <td>RT @haverkamp_wiebe: Exciting paragliding  ove...</td>\n",
       "      <td>2022-01-02 18:15:28+00:00</td>\n",
       "      <td>5</td>\n",
       "      <td>0</td>\n",
       "      <td>0</td>\n",
       "      <td>0</td>\n",
       "      <td>Twitter for iPad</td>\n",
       "      <td>{'media_keys': ['7_1477703545654849542']}</td>\n",
       "      <td>1477705114886545415</td>\n",
       "      <td>None</td>\n",
       "      <td>1477705114886545415</td>\n",
       "      <td>NaN</td>\n",
       "      <td>en</td>\n",
       "      <td>[(type, id)]</td>\n",
       "      <td>everyone</td>\n",
       "      <td>None</td>\n",
       "      <td>1907915342</td>\n",
       "      <td>{'urls': [{'start': 74, 'end': 97, 'url': 'htt...</td>\n",
       "      <td>[]</td>\n",
       "    </tr>\n",
       "    <tr>\n",
       "      <th>3</th>\n",
       "      <td>RT @haverkamp_wiebe: Exciting paragliding  ove...</td>\n",
       "      <td>2022-01-02 18:15:27+00:00</td>\n",
       "      <td>5</td>\n",
       "      <td>0</td>\n",
       "      <td>0</td>\n",
       "      <td>0</td>\n",
       "      <td>Twitter Web App</td>\n",
       "      <td>{'media_keys': ['7_1477703545654849542']}</td>\n",
       "      <td>1477705111556145153</td>\n",
       "      <td>None</td>\n",
       "      <td>1477705111556145153</td>\n",
       "      <td>NaN</td>\n",
       "      <td>en</td>\n",
       "      <td>[(type, id)]</td>\n",
       "      <td>everyone</td>\n",
       "      <td>None</td>\n",
       "      <td>1190240594691387392</td>\n",
       "      <td>{'urls': [{'start': 74, 'end': 97, 'url': 'htt...</td>\n",
       "      <td>[]</td>\n",
       "    </tr>\n",
       "    <tr>\n",
       "      <th>4</th>\n",
       "      <td>RT @haverkamp_wiebe: Exciting paragliding  ove...</td>\n",
       "      <td>2022-01-02 18:12:53+00:00</td>\n",
       "      <td>5</td>\n",
       "      <td>0</td>\n",
       "      <td>0</td>\n",
       "      <td>0</td>\n",
       "      <td>Twitter Web App</td>\n",
       "      <td>{'media_keys': ['7_1477703545654849542']}</td>\n",
       "      <td>1477704463112617986</td>\n",
       "      <td>None</td>\n",
       "      <td>1477704463112617986</td>\n",
       "      <td>NaN</td>\n",
       "      <td>en</td>\n",
       "      <td>[(type, id)]</td>\n",
       "      <td>everyone</td>\n",
       "      <td>None</td>\n",
       "      <td>970234827646447617</td>\n",
       "      <td>{'urls': [{'start': 74, 'end': 97, 'url': 'htt...</td>\n",
       "      <td>[]</td>\n",
       "    </tr>\n",
       "  </tbody>\n",
       "</table>\n",
       "</div>"
      ],
      "text/plain": [
       "                                                text  \\\n",
       "0  RT @haverkamp_wiebe: Exciting paragliding  ove...   \n",
       "1  spectacular view from paragliding watching the...   \n",
       "2  RT @haverkamp_wiebe: Exciting paragliding  ove...   \n",
       "3  RT @haverkamp_wiebe: Exciting paragliding  ove...   \n",
       "4  RT @haverkamp_wiebe: Exciting paragliding  ove...   \n",
       "\n",
       "                 created_at  ret_count  reply_count  like_count  quote_count  \\\n",
       "0 2022-01-02 18:56:09+00:00          5            0           0            0   \n",
       "1 2022-01-02 18:22:39+00:00          0            0           0            0   \n",
       "2 2022-01-02 18:15:28+00:00          5            0           0            0   \n",
       "3 2022-01-02 18:15:27+00:00          5            0           0            0   \n",
       "4 2022-01-02 18:12:53+00:00          5            0           0            0   \n",
       "\n",
       "             source                                attachments  \\\n",
       "0   Twitter Web App  {'media_keys': ['7_1477703545654849542']}   \n",
       "1        Clickasnap                                       None   \n",
       "2  Twitter for iPad  {'media_keys': ['7_1477703545654849542']}   \n",
       "3   Twitter Web App  {'media_keys': ['7_1477703545654849542']}   \n",
       "4   Twitter Web App  {'media_keys': ['7_1477703545654849542']}   \n",
       "\n",
       "       conversation_id   geo                   id  in_reply_to_user_id lang  \\\n",
       "0  1477715352209571842  None  1477715352209571842                  NaN   en   \n",
       "1  1477706922254024714  None  1477706922254024714                  NaN   en   \n",
       "2  1477705114886545415  None  1477705114886545415                  NaN   en   \n",
       "3  1477705111556145153  None  1477705111556145153                  NaN   en   \n",
       "4  1477704463112617986  None  1477704463112617986                  NaN   en   \n",
       "\n",
       "  referenced_tweets reply_settings withheld            author_id  \\\n",
       "0      [(type, id)]       everyone     None            136927374   \n",
       "1              None       everyone     None  1329945729205489665   \n",
       "2      [(type, id)]       everyone     None           1907915342   \n",
       "3      [(type, id)]       everyone     None  1190240594691387392   \n",
       "4      [(type, id)]       everyone     None   970234827646447617   \n",
       "\n",
       "                                            entities  \\\n",
       "0  {'urls': [{'start': 74, 'end': 97, 'url': 'htt...   \n",
       "1  {'urls': [{'start': 190, 'end': 213, 'url': 'h...   \n",
       "2  {'urls': [{'start': 74, 'end': 97, 'url': 'htt...   \n",
       "3  {'urls': [{'start': 74, 'end': 97, 'url': 'htt...   \n",
       "4  {'urls': [{'start': 74, 'end': 97, 'url': 'htt...   \n",
       "\n",
       "                                 context_annotations  \n",
       "0                                                 []  \n",
       "1  [{'domain': {'id': '65', 'name': 'Interests an...  \n",
       "2                                                 []  \n",
       "3                                                 []  \n",
       "4                                                 []  "
      ]
     },
     "execution_count": 213,
     "metadata": {},
     "output_type": "execute_result"
    }
   ],
   "source": [
    "tweet_df.head()"
   ]
  },
  {
   "cell_type": "code",
   "execution_count": 229,
   "id": "7a82a873",
   "metadata": {},
   "outputs": [
    {
     "data": {
      "text/plain": [
       "{'urls': [{'start': 74,\n",
       "   'end': 97,\n",
       "   'url': 'https://t.co/I4cDhS1R2J',\n",
       "   'expanded_url': 'https://twitter.com/haverkamp_wiebe/status/1477703632254611458/video/1',\n",
       "   'display_url': 'pic.twitter.com/I4cDhS1R2J'}],\n",
       " 'annotations': [{'start': 61,\n",
       "   'end': 73,\n",
       "   'probability': 0.4001,\n",
       "   'type': 'Place',\n",
       "   'normalized_text': 'New Zealand🪂'}],\n",
       " 'mentions': [{'start': 3,\n",
       "   'end': 19,\n",
       "   'username': 'haverkamp_wiebe',\n",
       "   'id': '1415726706820792329'}]}"
      ]
     },
     "execution_count": 229,
     "metadata": {},
     "output_type": "execute_result"
    }
   ],
   "source": [
    "tweet_df['entities'][0]"
   ]
  },
  {
   "cell_type": "code",
   "execution_count": null,
   "id": "6de3d86c",
   "metadata": {},
   "outputs": [],
   "source": []
  },
  {
   "cell_type": "code",
   "execution_count": null,
   "id": "08aa8bf8",
   "metadata": {},
   "outputs": [],
   "source": []
  },
  {
   "cell_type": "code",
   "execution_count": null,
   "id": "f685e352",
   "metadata": {},
   "outputs": [],
   "source": [
    "Possible questions: Do hshtags promote visibility o fthe tweet?\n",
    "    (We are looking at only oublic tweets might have an affect on hashtags, and might be other correlations, people that use hashtags usually have moer followers)\n",
    "    "
   ]
  },
  {
   "cell_type": "code",
   "execution_count": null,
   "id": "17adf13f",
   "metadata": {},
   "outputs": [],
   "source": []
  },
  {
   "cell_type": "code",
   "execution_count": null,
   "id": "a38cf763",
   "metadata": {},
   "outputs": [],
   "source": []
  },
  {
   "cell_type": "code",
   "execution_count": null,
   "id": "46f44571",
   "metadata": {},
   "outputs": [],
   "source": []
  },
  {
   "cell_type": "code",
   "execution_count": null,
   "id": "dd5c6172",
   "metadata": {},
   "outputs": [],
   "source": []
  },
  {
   "cell_type": "code",
   "execution_count": null,
   "id": "42866145",
   "metadata": {},
   "outputs": [],
   "source": []
  },
  {
   "cell_type": "code",
   "execution_count": null,
   "id": "58660c3b",
   "metadata": {},
   "outputs": [],
   "source": []
  },
  {
   "cell_type": "markdown",
   "id": "e6a92772",
   "metadata": {},
   "source": [
    "# WORLD BANK DATA"
   ]
  },
  {
   "cell_type": "code",
   "execution_count": 168,
   "id": "961f19b6",
   "metadata": {},
   "outputs": [],
   "source": [
    "import requests\n",
    "import pandas as pd\n",
    "\n",
    "# https://datahelpdesk.worldbank.org/knowledgebase/articles/898581-api-basic-call-structure\n",
    "\n",
    "# https://data.worldbank.org/indicator/SP.RUR.TOTL\n",
    "# https://data.worldbank.org/indicator/SP.RUR.TOTL?locations=CH\n",
    "\n",
    "\n",
    "# extract rural indicators, total,\n",
    "url = 'http://api.worldbank.org/v2/countries/br;cn;us;de/indicators/SP.POP.TOTL/?format=json&per_page=1000'\n",
    "\n",
    "r = requests.get(url)\n",
    "df = pd.DataFrame(r.json()[1]).sort_values(\"date\")"
   ]
  },
  {
   "cell_type": "code",
   "execution_count": 169,
   "id": "2387d8bc",
   "metadata": {},
   "outputs": [
    {
     "data": {
      "text/html": [
       "<div>\n",
       "<style scoped>\n",
       "    .dataframe tbody tr th:only-of-type {\n",
       "        vertical-align: middle;\n",
       "    }\n",
       "\n",
       "    .dataframe tbody tr th {\n",
       "        vertical-align: top;\n",
       "    }\n",
       "\n",
       "    .dataframe thead th {\n",
       "        text-align: right;\n",
       "    }\n",
       "</style>\n",
       "<table border=\"1\" class=\"dataframe\">\n",
       "  <thead>\n",
       "    <tr style=\"text-align: right;\">\n",
       "      <th></th>\n",
       "      <th>indicator</th>\n",
       "      <th>country</th>\n",
       "      <th>countryiso3code</th>\n",
       "      <th>date</th>\n",
       "      <th>value</th>\n",
       "      <th>unit</th>\n",
       "      <th>obs_status</th>\n",
       "      <th>decimal</th>\n",
       "    </tr>\n",
       "  </thead>\n",
       "  <tbody>\n",
       "    <tr>\n",
       "      <th>121</th>\n",
       "      <td>{'id': 'SP.POP.TOTL', 'value': 'Population, to...</td>\n",
       "      <td>{'id': 'CN', 'value': 'China'}</td>\n",
       "      <td>CHN</td>\n",
       "      <td>1960</td>\n",
       "      <td>667070000</td>\n",
       "      <td></td>\n",
       "      <td></td>\n",
       "      <td>0</td>\n",
       "    </tr>\n",
       "    <tr>\n",
       "      <th>182</th>\n",
       "      <td>{'id': 'SP.POP.TOTL', 'value': 'Population, to...</td>\n",
       "      <td>{'id': 'DE', 'value': 'Germany'}</td>\n",
       "      <td>DEU</td>\n",
       "      <td>1960</td>\n",
       "      <td>72814900</td>\n",
       "      <td></td>\n",
       "      <td></td>\n",
       "      <td>0</td>\n",
       "    </tr>\n",
       "    <tr>\n",
       "      <th>60</th>\n",
       "      <td>{'id': 'SP.POP.TOTL', 'value': 'Population, to...</td>\n",
       "      <td>{'id': 'BR', 'value': 'Brazil'}</td>\n",
       "      <td>BRA</td>\n",
       "      <td>1960</td>\n",
       "      <td>72179235</td>\n",
       "      <td></td>\n",
       "      <td></td>\n",
       "      <td>0</td>\n",
       "    </tr>\n",
       "    <tr>\n",
       "      <th>243</th>\n",
       "      <td>{'id': 'SP.POP.TOTL', 'value': 'Population, to...</td>\n",
       "      <td>{'id': 'US', 'value': 'United States'}</td>\n",
       "      <td>USA</td>\n",
       "      <td>1960</td>\n",
       "      <td>180671000</td>\n",
       "      <td></td>\n",
       "      <td></td>\n",
       "      <td>0</td>\n",
       "    </tr>\n",
       "    <tr>\n",
       "      <th>59</th>\n",
       "      <td>{'id': 'SP.POP.TOTL', 'value': 'Population, to...</td>\n",
       "      <td>{'id': 'BR', 'value': 'Brazil'}</td>\n",
       "      <td>BRA</td>\n",
       "      <td>1961</td>\n",
       "      <td>74311338</td>\n",
       "      <td></td>\n",
       "      <td></td>\n",
       "      <td>0</td>\n",
       "    </tr>\n",
       "    <tr>\n",
       "      <th>...</th>\n",
       "      <td>...</td>\n",
       "      <td>...</td>\n",
       "      <td>...</td>\n",
       "      <td>...</td>\n",
       "      <td>...</td>\n",
       "      <td>...</td>\n",
       "      <td>...</td>\n",
       "      <td>...</td>\n",
       "    </tr>\n",
       "    <tr>\n",
       "      <th>184</th>\n",
       "      <td>{'id': 'SP.POP.TOTL', 'value': 'Population, to...</td>\n",
       "      <td>{'id': 'US', 'value': 'United States'}</td>\n",
       "      <td>USA</td>\n",
       "      <td>2019</td>\n",
       "      <td>328329953</td>\n",
       "      <td></td>\n",
       "      <td></td>\n",
       "      <td>0</td>\n",
       "    </tr>\n",
       "    <tr>\n",
       "      <th>183</th>\n",
       "      <td>{'id': 'SP.POP.TOTL', 'value': 'Population, to...</td>\n",
       "      <td>{'id': 'US', 'value': 'United States'}</td>\n",
       "      <td>USA</td>\n",
       "      <td>2020</td>\n",
       "      <td>329484123</td>\n",
       "      <td></td>\n",
       "      <td></td>\n",
       "      <td>0</td>\n",
       "    </tr>\n",
       "    <tr>\n",
       "      <th>122</th>\n",
       "      <td>{'id': 'SP.POP.TOTL', 'value': 'Population, to...</td>\n",
       "      <td>{'id': 'DE', 'value': 'Germany'}</td>\n",
       "      <td>DEU</td>\n",
       "      <td>2020</td>\n",
       "      <td>83240525</td>\n",
       "      <td></td>\n",
       "      <td></td>\n",
       "      <td>0</td>\n",
       "    </tr>\n",
       "    <tr>\n",
       "      <th>61</th>\n",
       "      <td>{'id': 'SP.POP.TOTL', 'value': 'Population, to...</td>\n",
       "      <td>{'id': 'CN', 'value': 'China'}</td>\n",
       "      <td>CHN</td>\n",
       "      <td>2020</td>\n",
       "      <td>1410929362</td>\n",
       "      <td></td>\n",
       "      <td></td>\n",
       "      <td>0</td>\n",
       "    </tr>\n",
       "    <tr>\n",
       "      <th>0</th>\n",
       "      <td>{'id': 'SP.POP.TOTL', 'value': 'Population, to...</td>\n",
       "      <td>{'id': 'BR', 'value': 'Brazil'}</td>\n",
       "      <td>BRA</td>\n",
       "      <td>2020</td>\n",
       "      <td>212559409</td>\n",
       "      <td></td>\n",
       "      <td></td>\n",
       "      <td>0</td>\n",
       "    </tr>\n",
       "  </tbody>\n",
       "</table>\n",
       "<p>244 rows × 8 columns</p>\n",
       "</div>"
      ],
      "text/plain": [
       "                                             indicator  \\\n",
       "121  {'id': 'SP.POP.TOTL', 'value': 'Population, to...   \n",
       "182  {'id': 'SP.POP.TOTL', 'value': 'Population, to...   \n",
       "60   {'id': 'SP.POP.TOTL', 'value': 'Population, to...   \n",
       "243  {'id': 'SP.POP.TOTL', 'value': 'Population, to...   \n",
       "59   {'id': 'SP.POP.TOTL', 'value': 'Population, to...   \n",
       "..                                                 ...   \n",
       "184  {'id': 'SP.POP.TOTL', 'value': 'Population, to...   \n",
       "183  {'id': 'SP.POP.TOTL', 'value': 'Population, to...   \n",
       "122  {'id': 'SP.POP.TOTL', 'value': 'Population, to...   \n",
       "61   {'id': 'SP.POP.TOTL', 'value': 'Population, to...   \n",
       "0    {'id': 'SP.POP.TOTL', 'value': 'Population, to...   \n",
       "\n",
       "                                    country countryiso3code  date       value  \\\n",
       "121          {'id': 'CN', 'value': 'China'}             CHN  1960   667070000   \n",
       "182        {'id': 'DE', 'value': 'Germany'}             DEU  1960    72814900   \n",
       "60          {'id': 'BR', 'value': 'Brazil'}             BRA  1960    72179235   \n",
       "243  {'id': 'US', 'value': 'United States'}             USA  1960   180671000   \n",
       "59          {'id': 'BR', 'value': 'Brazil'}             BRA  1961    74311338   \n",
       "..                                      ...             ...   ...         ...   \n",
       "184  {'id': 'US', 'value': 'United States'}             USA  2019   328329953   \n",
       "183  {'id': 'US', 'value': 'United States'}             USA  2020   329484123   \n",
       "122        {'id': 'DE', 'value': 'Germany'}             DEU  2020    83240525   \n",
       "61           {'id': 'CN', 'value': 'China'}             CHN  2020  1410929362   \n",
       "0           {'id': 'BR', 'value': 'Brazil'}             BRA  2020   212559409   \n",
       "\n",
       "    unit obs_status  decimal  \n",
       "121                        0  \n",
       "182                        0  \n",
       "60                         0  \n",
       "243                        0  \n",
       "59                         0  \n",
       "..   ...        ...      ...  \n",
       "184                        0  \n",
       "183                        0  \n",
       "122                        0  \n",
       "61                         0  \n",
       "0                          0  \n",
       "\n",
       "[244 rows x 8 columns]"
      ]
     },
     "execution_count": 169,
     "metadata": {},
     "output_type": "execute_result"
    }
   ],
   "source": [
    "df"
   ]
  },
  {
   "cell_type": "markdown",
   "id": "6e0f872d",
   "metadata": {},
   "source": [
    "# Exploring the expansions argument"
   ]
  },
  {
   "cell_type": "code",
   "execution_count": 253,
   "id": "704b9666",
   "metadata": {},
   "outputs": [],
   "source": [
    "client = tweepy.Client(bearer_token = bearer_token)\n",
    "\n",
    "query = 'paragliding'\n",
    "tweet_fields=['attachments','author_id','context_annotations', 'created_at','public_metrics']\n",
    "\n",
    "#expansions = [author_id,referenced_tweets.id,referenced_tweets.id.author_id,entities.mentions.username,attachments.poll_ids,attachments.media_keys,in_reply_to_user_id,geo.place_id]\n",
    "\n",
    "expansions = ['author_id']\n",
    "\n",
    "tweets = client.search_recent_tweets(query=query, tweet_fields = tweet_fields, max_results = 10, expansions = expansions)"
   ]
  },
  {
   "cell_type": "code",
   "execution_count": 256,
   "id": "2876f2f7",
   "metadata": {},
   "outputs": [],
   "source": [
    "query = 'from:suhemparack -is:retweet'\n",
    "\n",
    "tweets = client.search_recent_tweets(query=query, tweet_fields=['context_annotations', 'created_at'], max_results=10)\n"
   ]
  },
  {
   "cell_type": "code",
   "execution_count": 258,
   "id": "2420e2d4",
   "metadata": {},
   "outputs": [
    {
     "data": {
      "text/plain": [
       "Response(data=[<Tweet id=1477342382190313474 text=Took an international trip after a long time and @emirates was definitely the right choice ✈️ https://t.co/uANxQNrRd2>], includes={}, errors=[], meta={'newest_id': '1477342382190313474', 'oldest_id': '1477342382190313474', 'result_count': 1})"
      ]
     },
     "execution_count": 258,
     "metadata": {},
     "output_type": "execute_result"
    }
   ],
   "source": [
    "tweets"
   ]
  },
  {
   "cell_type": "code",
   "execution_count": 260,
   "id": "416481e1",
   "metadata": {},
   "outputs": [
    {
     "name": "stdout",
     "output_type": "stream",
     "text": [
      "[{'domain': {'id': '45', 'name': 'Brand Vertical', 'description': 'Top level entities that describe a Brands industry'}, 'entity': {'id': '781974597302226944', 'name': 'Transportation'}}, {'domain': {'id': '46', 'name': 'Brand Category', 'description': 'Categories within Brand Verticals that narrow down the scope of Brands'}, 'entity': {'id': '781974596144668673', 'name': 'Airline'}}, {'domain': {'id': '47', 'name': 'Brand', 'description': 'Brands and Companies'}, 'entity': {'id': '10042996485', 'name': 'Emirates Airline'}}, {'domain': {'id': '65', 'name': 'Interests and Hobbies Vertical', 'description': 'Top level interests and hobbies groupings, like Food or Travel'}, 'entity': {'id': '839159814991167489', 'name': 'Travel', 'description': 'Travel'}}, {'domain': {'id': '66', 'name': 'Interests and Hobbies Category', 'description': 'A grouping of interests and hobbies entities, like Novelty Food or Destinations'}, 'entity': {'id': '839160129752686593', 'name': 'General Travel', 'description': 'General Travel'}}, {'domain': {'id': '67', 'name': 'Interests and Hobbies', 'description': 'Interests, opinions, and behaviors of individuals, groups, or cultures; like Speciality Cooking or Theme Parks'}, 'entity': {'id': '849076200261603328', 'name': 'Air travel', 'description': 'Air travel'}}]\n"
     ]
    }
   ],
   "source": [
    "for tweet in tweets.data:\n",
    "#     print(tweet.text)\n",
    "    if len(tweet.context_annotations)>0:\n",
    "        print(tweet.context_annotations)"
   ]
  },
  {
   "cell_type": "code",
   "execution_count": null,
   "id": "4140e7f6",
   "metadata": {},
   "outputs": [],
   "source": [
    "import pandas as pd\n",
    "tweet_df = pd.DataFrame()\n",
    "tweet_df['text']= [tweet.text for tweet in tweets]\n",
    "tweet_df['created_at']= [tweet.created_at for tweet in tweets]\n",
    "tweet_df['ret_count']= [tweet.public_metrics['retweet_count'] for tweet in tweets]\n",
    "tweet_df['reply_count']= [tweet.public_metrics['reply_count']for tweet in tweets]"
   ]
  },
  {
   "cell_type": "code",
   "execution_count": 244,
   "id": "1c141760",
   "metadata": {},
   "outputs": [
    {
     "ename": "AttributeError",
     "evalue": "'Response' object has no attribute 'json'",
     "output_type": "error",
     "traceback": [
      "\u001b[1;31m---------------------------------------------------------------------------\u001b[0m",
      "\u001b[1;31mAttributeError\u001b[0m                            Traceback (most recent call last)",
      "\u001b[1;32m~\\AppData\\Local\\Temp/ipykernel_43712/776403741.py\u001b[0m in \u001b[0;36m<module>\u001b[1;34m\u001b[0m\n\u001b[1;32m----> 1\u001b[1;33m \u001b[0mtweets\u001b[0m\u001b[1;33m.\u001b[0m\u001b[0mjson\u001b[0m\u001b[1;33m(\u001b[0m\u001b[1;33m)\u001b[0m\u001b[1;33m\u001b[0m\u001b[1;33m\u001b[0m\u001b[0m\n\u001b[0m",
      "\u001b[1;31mAttributeError\u001b[0m: 'Response' object has no attribute 'json'"
     ]
    }
   ],
   "source": [
    "tweets.json()"
   ]
  },
  {
   "cell_type": "code",
   "execution_count": null,
   "id": "ef4a05f0",
   "metadata": {},
   "outputs": [],
   "source": [
    "Exploring query\n",
    "\n",
    "or, \" \" means and logic, \n",
    "    - negates anything: e.g. -snow -is:nullcast\n",
    "    has: media\n",
    "    -has:retweet\n",
    "    (a b) or (c has:images)\n",
    "    place_country:GB\n",
    "    lang:en\n",
    "\n",
    "query = \"covid OR covid19\"\n",
    "quer = \"covid covid19"
   ]
  },
  {
   "cell_type": "code",
   "execution_count": null,
   "id": "3a3549f7",
   "metadata": {},
   "outputs": [],
   "source": [
    "curl https://api.twitter.com/2/tweets/search/recent?query=cat%20has%3Amedia%20-grumpy&tweet.fields=created_at&max_results=100 -H \"Authorization: Bearer $BEARER_TOKEN\""
   ]
  },
  {
   "cell_type": "code",
   "execution_count": null,
   "id": "35c7881f",
   "metadata": {},
   "outputs": [],
   "source": []
  },
  {
   "cell_type": "code",
   "execution_count": 285,
   "id": "26f70a70",
   "metadata": {},
   "outputs": [],
   "source": [
    "client = tweepy.Client(bearer_token = bearer_token)\n",
    "\n",
    "query = 'paragliding'# is:media'\n",
    "tweet_fields=['author_id', 'created_at','public_metrics']\n",
    "\n",
    "#expansions = [author_id,referenced_tweets.id,referenced_tweets.id.author_id,entities.mentions.username,attachments.poll_ids,attachments.media_keys,in_reply_to_user_id,geo.place_id]\n",
    "\n",
    "expansions = ['author_id']\n",
    "\n",
    "tweets = client.search_recent_tweets(query=query, tweet_fields = tweet_fields, user_fields = ['profile_image_url'],max_results = 10,expansions = expansions)\n",
    "\n",
    "users = {u['id']: u for u in tweets.includes['users']}\n",
    "\n",
    "for tweet in tweets.data:\n",
    "    if users[tweet.author_id]:\n",
    "        user = users[tweet.author_id]\n",
    "        print(tweet.id)\n",
    "        print(user.username)\n",
    "        print(user.profile_image_url)"
   ]
  },
  {
   "cell_type": "code",
   "execution_count": 286,
   "id": "af153d64",
   "metadata": {},
   "outputs": [],
   "source": []
  },
  {
   "cell_type": "code",
   "execution_count": 287,
   "id": "f3eb6f5e",
   "metadata": {},
   "outputs": [
    {
     "name": "stdout",
     "output_type": "stream",
     "text": [
      "1477934732205645826\n",
      "mudit_sahu\n",
      "https://pbs.twimg.com/profile_images/1214097202454253568/eFa0r7b5_normal.jpg\n",
      "1477932346276212738\n",
      "sky_climber73\n",
      "https://pbs.twimg.com/profile_images/1443049610751053827/08d1Ucw7_normal.jpg\n",
      "1477930092156305410\n",
      "jonathanmullett\n",
      "https://pbs.twimg.com/profile_images/1061576413264916480/-acXwhgf_normal.jpg\n",
      "1477920166369452035\n",
      "squawk7kdotnet\n",
      "https://pbs.twimg.com/profile_images/1355468379541409795/ouAP4CWv_normal.jpg\n",
      "1477920034592677894\n",
      "KKMtweet\n",
      "https://pbs.twimg.com/profile_images/1032284535298318336/hnpvqGQv_normal.jpg\n",
      "1477915994924281857\n",
      "amztlshhda\n",
      "https://pbs.twimg.com/profile_images/1421194166009094146/AL73ZlUS_normal.jpg\n",
      "1477914502565810177\n",
      "maharashtra\n",
      "https://pbs.twimg.com/profile_images/956458175540076544/_fl_vAhA_normal.jpg\n",
      "1477914303508279297\n",
      "BbfanCapricorn\n",
      "https://pbs.twimg.com/profile_images/1475696261235761152/TDh-WSzX_normal.jpg\n",
      "1477912485684551682\n",
      "ifiwasthesnow\n",
      "https://pbs.twimg.com/profile_images/1413313458687381505/H6jl1ZBk_normal.jpg\n",
      "1477910299160170500\n",
      "ratikantranjit\n",
      "https://pbs.twimg.com/profile_images/1477874318172295168/M-57q8RV_normal.jpg\n"
     ]
    }
   ],
   "source": []
  },
  {
   "cell_type": "code",
   "execution_count": 281,
   "id": "73e36e9e",
   "metadata": {},
   "outputs": [
    {
     "data": {
      "text/plain": [
       "{4064003413: <User id=4064003413 name=カワナミ🌤パラグライダーインストラクター🕶 username=sky_climber73>,\n",
       " 1356361224: <User id=1356361224 name=jonathan mullett username=jonathanmullett>,\n",
       " 1079913051678216193: <User id=1079913051678216193 name=squawk7000.net username=squawk7kdotnet>,\n",
       " 1022847109848915968: <User id=1022847109848915968 name=KK Mishra username=KKMtweet>,\n",
       " 331508959: <User id=331508959 name=💚 username=amztlshhda>,\n",
       " 16263847: <User id=16263847 name=Maharashtra🇮🇳 username=maharashtra>,\n",
       " 1311503591807438848: <User id=1311503591807438848 name=Self Love is Everything username=BbfanCapricorn>,\n",
       " 1384228358767079426: <User id=1384228358767079426 name=sj username=ifiwasthesnow>,\n",
       " 725797926: <User id=725797926 name=Ratikant Ranjit username=ratikantranjit>,\n",
       " 528980438: <User id=528980438 name=ThamesValleyRASP username=ThamesValleyRAS>}"
      ]
     },
     "execution_count": 281,
     "metadata": {},
     "output_type": "execute_result"
    }
   ],
   "source": [
    "users"
   ]
  },
  {
   "cell_type": "code",
   "execution_count": 282,
   "id": "621d06d3",
   "metadata": {},
   "outputs": [
    {
     "data": {
      "text/plain": [
       "<User id=4064003413 name=カワナミ🌤パラグライダーインストラクター🕶 username=sky_climber73>"
      ]
     },
     "execution_count": 282,
     "metadata": {},
     "output_type": "execute_result"
    }
   ],
   "source": [
    "x = tweets.data[0].author_id\n",
    "users[x]"
   ]
  },
  {
   "cell_type": "code",
   "execution_count": 265,
   "id": "d6c91429",
   "metadata": {},
   "outputs": [
    {
     "data": {
      "text/plain": [
       "{'users': [<User id=4064003413 name=カワナミ🌤パラグライダーインストラクター🕶 username=sky_climber73>,\n",
       "  <User id=1356361224 name=jonathan mullett username=jonathanmullett>,\n",
       "  <User id=1079913051678216193 name=squawk7000.net username=squawk7kdotnet>,\n",
       "  <User id=1022847109848915968 name=KK Mishra username=KKMtweet>,\n",
       "  <User id=331508959 name=💚 username=amztlshhda>,\n",
       "  <User id=16263847 name=Maharashtra🇮🇳 username=maharashtra>,\n",
       "  <User id=1311503591807438848 name=Self Love is Everything username=BbfanCapricorn>,\n",
       "  <User id=1384228358767079426 name=sj username=ifiwasthesnow>,\n",
       "  <User id=725797926 name=Ratikant Ranjit username=ratikantranjit>,\n",
       "  <User id=528980438 name=ThamesValleyRASP username=ThamesValleyRAS>]}"
      ]
     },
     "execution_count": 265,
     "metadata": {},
     "output_type": "execute_result"
    }
   ],
   "source": [
    "tweets.includes"
   ]
  },
  {
   "cell_type": "code",
   "execution_count": null,
   "id": "f1483dfd",
   "metadata": {},
   "outputs": [],
   "source": []
  },
  {
   "cell_type": "code",
   "execution_count": 295,
   "id": "fe555b58",
   "metadata": {},
   "outputs": [],
   "source": [
    "# get tweet counts\n",
    "\n",
    "client = tweepy.Client(bearer_token = bearer_token)\n",
    "\n",
    "query = 'paragliding'\n",
    "tweet_fields=['author_id', 'created_at','public_metrics']\n",
    "\n",
    "\n",
    "counts = client.get_recent_tweets_count(query=query, granularity = 'day')"
   ]
  },
  {
   "cell_type": "code",
   "execution_count": 296,
   "id": "085a4871",
   "metadata": {},
   "outputs": [
    {
     "name": "stdout",
     "output_type": "stream",
     "text": [
      "[{'end': '2021-12-28T00:00:00.000Z', 'start': '2021-12-27T09:41:54.000Z', 'tweet_count': 59}, {'end': '2021-12-29T00:00:00.000Z', 'start': '2021-12-28T00:00:00.000Z', 'tweet_count': 207}, {'end': '2021-12-30T00:00:00.000Z', 'start': '2021-12-29T00:00:00.000Z', 'tweet_count': 167}, {'end': '2021-12-31T00:00:00.000Z', 'start': '2021-12-30T00:00:00.000Z', 'tweet_count': 109}, {'end': '2022-01-01T00:00:00.000Z', 'start': '2021-12-31T00:00:00.000Z', 'tweet_count': 135}, {'end': '2022-01-02T00:00:00.000Z', 'start': '2022-01-01T00:00:00.000Z', 'tweet_count': 108}, {'end': '2022-01-03T00:00:00.000Z', 'start': '2022-01-02T00:00:00.000Z', 'tweet_count': 134}, {'end': '2022-01-03T09:41:54.000Z', 'start': '2022-01-03T00:00:00.000Z', 'tweet_count': 53}]\n",
      "{}\n",
      "[]\n",
      "{'total_tweet_count': 972}\n"
     ]
    }
   ],
   "source": [
    "for count in counts:\n",
    "    print(count)"
   ]
  },
  {
   "cell_type": "code",
   "execution_count": null,
   "id": "6192cedc",
   "metadata": {},
   "outputs": [],
   "source": []
  },
  {
   "cell_type": "code",
   "execution_count": 297,
   "id": "8c83b729",
   "metadata": {},
   "outputs": [],
   "source": [
    "# get user id\n",
    "\n",
    "client = tweepy.Client(bearer_token = bearer_token)\n",
    "\n",
    "query = 'paragliding'\n",
    "tweet_fields=['author_id', 'created_at','public_metrics']\n",
    "\n",
    "\n",
    "users = client.get_users(usernames = ['twitterdev'])"
   ]
  },
  {
   "cell_type": "code",
   "execution_count": 305,
   "id": "2c11ba2d",
   "metadata": {},
   "outputs": [],
   "source": [
    "user_id = str(users.data[0]['id'])"
   ]
  },
  {
   "cell_type": "code",
   "execution_count": 307,
   "id": "c16a847c",
   "metadata": {},
   "outputs": [
    {
     "name": "stdout",
     "output_type": "stream",
     "text": [
      "en\n",
      "1477938360165539841\n",
      "en\n",
      "1477929048693256192\n",
      "en\n",
      "1477927873474301956\n",
      "en\n",
      "1477927831233572869\n",
      "en\n",
      "1477927799520473089\n",
      "en\n",
      "1477927769841537032\n",
      "en\n",
      "1477927735691513861\n",
      "und\n",
      "1477922435995508739\n",
      "en\n",
      "1477911360033853440\n",
      "en\n",
      "1477911330782728194\n"
     ]
    }
   ],
   "source": [
    "# get users timeline or mentions (could so similar with get_liking_users (pass in tweet_id), get_retweeters (pass in tweet_id))\n",
    "tweets = client.get_users_mentions(id = user_id, tweet_fields = ['lang'])\n",
    "\n",
    "for tweet in tweets.data:\n",
    "    print(tweet.lang)\n",
    "    print(tweet.id)"
   ]
  },
  {
   "cell_type": "code",
   "execution_count": 309,
   "id": "ed12129e",
   "metadata": {},
   "outputs": [
    {
     "name": "stdout",
     "output_type": "stream",
     "text": [
      "jessicagarson\n",
      "bitcoincoreorg\n",
      "Punkaboo\n",
      "coraF256\n",
      "ashevat\n",
      "TheSherylKlein\n",
      "mongeliliana\n",
      "JulieMendoza206\n",
      "rahul_pushkarna\n",
      "maxfwinter\n",
      "jason_in_japan\n",
      "jenkpowers\n",
      "Si_ximujin\n",
      "FindingMeeemo\n",
      "jpodnos\n",
      "HoranMikeS\n",
      "ericmartinyc\n",
      "haimvat\n",
      "briankahrs\n",
      "vincethecoder\n",
      "HackerScorer\n",
      "sunscreenpapi\n",
      "khammami\n",
      "miss_mixtape\n",
      "imaria20_\n",
      "twum_jnr\n",
      "Sprinklr\n",
      "ryanjgallag\n",
      "JohnSpall247\n",
      "selynnasun\n",
      "RainaMerchant\n",
      "SyasCode\n",
      "nahidofficialbd\n",
      "mjzitek\n",
      "JaimeOtraVez\n",
      "Antoinedroid\n",
      "Mistermatt007\n",
      "PennMedCDH\n",
      "roycehaynes\n",
      "deevirga\n",
      "KellyAyo\n",
      "JamesLoduca\n",
      "Derella\n",
      "RebeccaW\n",
      "ChelseaHipwood\n",
      "andyantos\n",
      "_mirels_\n",
      "arisirenita\n",
      "mauropiano\n",
      "anniehanannie\n",
      "mattjbones\n",
      "artxbel\n",
      "farez\n",
      "thedavecarroll\n",
      "Sr__Half\n",
      "vice_elisabete\n",
      "_luisf02\n",
      "GibbyBlogger\n",
      "Sanji4579094169\n",
      "evanholt\n",
      "not_stin\n",
      "Chopra_Shagun\n",
      "tianz_zzz\n",
      "bolaboss\n",
      "WoojuGG\n",
      "replylord\n",
      "laur_tray\n",
      "AmberAlBrown\n",
      "kdspaul\n",
      "twitpane\n",
      "duraidabdul\n",
      "ramiro__nd\n",
      "amyleebenn\n",
      "NiklasBuelow\n",
      "mddanishyusuf\n",
      "boris_holzer\n",
      "benoitsan\n",
      "migueloiro\n",
      "ivnnapna\n",
      "ChrisTeso\n",
      "joemasilotti\n",
      "JoshWComeau\n",
      "matiNotFound\n",
      "gshaheen\n",
      "akihturs\n",
      "IgnacioChiazzo\n",
      "raia_alvin\n",
      "sunnermatt\n",
      "KenzSmutz\n",
      "ralphbrooks\n",
      "seunoyebode\n",
      "1amarvind\n",
      "WDUK\n",
      "sebastianroming\n",
      "jannik_schwade\n",
      "_7aso0on\n",
      "DarylOwenJ\n",
      "edisdev\n",
      "ikirker\n",
      "jolaurin24\n"
     ]
    }
   ],
   "source": [
    "# get_users_following or get_sers_followers\n",
    "users = client.get_users_following(id = user_id, user_fields = ['profile_image_url'])\n",
    "\n",
    "for user in users.data:\n",
    "    print(user.username)"
   ]
  },
  {
   "cell_type": "code",
   "execution_count": 110,
   "id": "45d34fc3",
   "metadata": {},
   "outputs": [],
   "source": [
    "client = tweepy.Client(bearer_token = bearer_token)\n",
    "\n",
    "query = 'paragliding'# is:media'\n",
    "tweet_fields=['author_id', 'created_at','public_metrics']\n",
    "\n",
    "#expansions = [author_id,referenced_tweets.id,referenced_tweets.id.author_id,entities.mentions.username,attachments.poll_ids,attachments.media_keys,in_reply_to_user_id,geo.place_id]\n",
    "user_fields = ['created_at','description','entities','id','location','name','pinned_tweet_id','profile_image_url','protected','public_metrics','url','username','verified','withheld']\n",
    "\n",
    "\n",
    "expansions = ['author_id', 'geo.place_id']\n",
    "\n",
    "tweets = client.search_recent_tweets(query=query, tweet_fields = tweet_fields, user_fields = user_fields ,max_results = 10, expansions = expansions)\n",
    "\n",
    "users = {u['id']: u for u in tweets.includes['users']}\n",
    "\n",
    "# for tweet in tweets.data:\n",
    "#     if users[tweet.author_id]:\n",
    "#         user = users[tweet.author_id]\n",
    "#         print(tweet.id)\n",
    "#         print(user.username)\n",
    "#         print(user.profile_image_url)"
   ]
  },
  {
   "cell_type": "code",
   "execution_count": 111,
   "id": "7d9c2f02",
   "metadata": {},
   "outputs": [
    {
     "name": "stdout",
     "output_type": "stream",
     "text": [
      "1477985338006007808\n",
      "1477985338006007808\n",
      "beingvick\n",
      "https://pbs.twimg.com/profile_images/1290628443177025537/snzdn9VK_normal.jpg\n",
      "1477984898992328707\n",
      "1477984898992328707\n",
      "sabluru\n",
      "https://pbs.twimg.com/profile_images/1068384719568437248/q_ivssQ4_normal.jpg\n",
      "1477982082391412744\n",
      "1477982082391412744\n",
      "Krystlaw\n",
      "https://pbs.twimg.com/profile_images/1477870068008505344/x4VXgO3V_normal.jpg\n",
      "1477981831148441600\n",
      "1477981831148441600\n",
      "binjinsupremacy\n",
      "https://pbs.twimg.com/profile_images/1477839999597178883/t4qTrlii_normal.jpg\n",
      "1477981727662301185\n",
      "1477981727662301185\n",
      "ChandraNandi3\n",
      "https://pbs.twimg.com/profile_images/1433098769596256258/BCw3p8Zq_normal.jpg\n",
      "1477981146302410755\n",
      "1477981146302410755\n",
      "swordofmaga\n",
      "https://pbs.twimg.com/profile_images/1477293589885452289/UgDsJgg__normal.jpg\n",
      "1477978776625565698\n",
      "1477978776625565698\n",
      "loveyejinhand\n",
      "https://pbs.twimg.com/profile_images/1477271058801917956/J-uc8KVg_normal.jpg\n",
      "1477978676595609600\n",
      "1477978676595609600\n",
      "v_lovez\n",
      "https://pbs.twimg.com/profile_images/1452955820610650114/Q5mmTk_B_normal.jpg\n",
      "1477978015350935552\n",
      "1477978015350935552\n",
      "cloysauce\n",
      "https://pbs.twimg.com/profile_images/1474924830848069634/1fphII8Y_normal.jpg\n",
      "1477977164230193159\n",
      "1477977164230193159\n",
      "ShriRamJayam\n",
      "https://pbs.twimg.com/profile_images/1131988724017913856/X5iOufHH_normal.jpg\n"
     ]
    }
   ],
   "source": [
    "users = {u['id']: u for u in tweets.includes['users']}\n",
    "\n",
    "for tweet in tweets.data:\n",
    "    if users[tweet.author_id]:\n",
    "        user = users[tweet.author_id]\n",
    "        print(tweet.id)\n",
    "        print(tweet.)\n",
    "        print(user.username)\n",
    "        print(user.profile_image_url)"
   ]
  },
  {
   "cell_type": "code",
   "execution_count": 351,
   "id": "b44bfb90",
   "metadata": {},
   "outputs": [
    {
     "name": "stdout",
     "output_type": "stream",
     "text": [
      "users\n",
      "places\n"
     ]
    }
   ],
   "source": [
    "for tweet in tweets.includes:\n",
    "    print(tweet)"
   ]
  },
  {
   "cell_type": "code",
   "execution_count": null,
   "id": "5e967d0d",
   "metadata": {},
   "outputs": [],
   "source": []
  },
  {
   "cell_type": "code",
   "execution_count": 97,
   "id": "6f37151b",
   "metadata": {},
   "outputs": [],
   "source": [
    "# exploring user object\n",
    "\n",
    "client = tweepy.Client(bearer_token = bearer_token)\n",
    "\n",
    "query = 'paragliding'# is:media'\n",
    "tweet_fields=['author_id', 'created_at','public_metrics']\n",
    "\n",
    "#expansions = [author_id,referenced_tweets.id,referenced_tweets.id.author_id,entities.mentions.username,attachments.poll_ids,attachments.media_keys,in_reply_to_user_id,geo.place_id]\n",
    "user_fields = ['created_at','description','entities','id','location','name','pinned_tweet_id','profile_image_url','protected','public_metrics','url','username','verified','withheld']\n",
    "\n",
    "\n",
    "expansions = ['author_id']\n",
    "\n",
    "tweets = client.search_recent_tweets(query=query, tweet_fields = tweet_fields, user_fields = user_fields, max_results = 15, expansions = expansions)"
   ]
  },
  {
   "cell_type": "code",
   "execution_count": 100,
   "id": "acf8669f",
   "metadata": {},
   "outputs": [],
   "source": [
    "users = {u['id']: u for u in tweets.includes['users']}"
   ]
  },
  {
   "cell_type": "code",
   "execution_count": 109,
   "id": "7c0ef797",
   "metadata": {},
   "outputs": [
    {
     "name": "stdout",
     "output_type": "stream",
     "text": [
      "nineteen - 🇵🇭\n",
      "LET'S BE MOOTS || ye-jin son supremacy | dooly couple | support 39 🔜\n",
      "2021-10-27 09:23:33+00:00\n",
      "False\n",
      "====\n",
      "None\n",
      "| ʙɪɴᴊɪɴ (ʜʏᴜɴʙɪɴ + ꜱᴏɴ ʏᴇᴊɪɴ) • ᴊɪꜱᴏᴏ - ʙʟᴀᴄᴋᴘɪɴᴋ ♥️| “𝒯𝒽𝒾𝓃𝓀 𝒷𝑒𝒻𝑜𝓇𝑒 𝓎𝑜𝓊 𝒶𝒸𝓉,𝓉𝒽𝒾𝓃𝓀 𝓉𝓌𝒾𝒸𝑒 𝒷𝑒𝒻𝑜𝓇𝑒 𝓎𝑜𝓊 𝓈𝓅𝑒𝒶𝓀” ✌🏻|\n",
      "2017-02-17 05:00:35+00:00\n",
      "False\n",
      "====\n",
      "None\n",
      "💖사랑의 불시착💖┃둘리 • 현빈 • 손예진 • 빈진┃✍ #serihawky & swiss stakes ┃🔍 crumb seeker┃📃 cloy masterpiece pdf compiler┃🏁 fan events organizer @cloyfanhub┃👤 @clockways\n",
      "2020-05-26 02:29:45+00:00\n",
      "False\n",
      "{'hashtags': [{'start': 31, 'end': 41, 'tag': 'serihawky'}], 'mentions': [{'start': 128, 'end': 139, 'username': 'cloyfanhub'}, {'start': 142, 'end': 152, 'username': 'clockways'}]}\n",
      "====\n",
      "None\n",
      "i am proud Hindu & i am not secular but unfortunately in my nation many stupid so called self intellectual infected  Secular HIV Positive n fool other innocent\n",
      "2019-05-24 18:19:16+00:00\n",
      "False\n",
      "====\n",
      "None\n",
      "नंदलला हम आएंगे, \n",
      "मंदिर वही बनायेगे\n",
      "2013-09-20 05:37:58+00:00\n",
      "False\n",
      "====\n",
      "Himachal \n",
      "Bharatvasi\n",
      "2016-05-03 19:48:34+00:00\n",
      "False\n",
      "====\n",
      "India\n",
      "A big tent for liberal right of centre discourse that reaches out, engages and caters to the new India\n",
      "2014-04-18 14:51:38+00:00\n",
      "True\n",
      "====\n",
      "None\n",
      "A platform publishing news, commentaries, ground reports, dashboard, videos,interviews, policy intelligence briefings,newsletters across various infra sectors\n",
      "2020-01-29 06:37:40+00:00\n",
      "False\n",
      "====\n",
      "Spain\n",
      "Agitador de ideas. Disruptor apoyándose sobre la tradición para llegar a las profundidades del Ser humano. Tweets en español, francais and american english\n",
      "2016-09-14 12:21:55+00:00\n",
      "False\n",
      "====\n",
      "None\n",
      "\n",
      "2021-06-07 13:21:29+00:00\n",
      "False\n",
      "====\n",
      "None\n",
      "\n",
      "2021-12-27 12:27:58+00:00\n",
      "False\n",
      "====\n",
      "None\n",
      "“dude you’re a fucking monster” yea ik\n",
      "2019-11-03 03:39:00+00:00\n",
      "False\n",
      "====\n",
      "Durban, Umhlanga\n",
      "\n",
      "2011-07-07 19:58:37+00:00\n",
      "False\n",
      "====\n",
      "None\n",
      "\n",
      "2014-10-24 12:27:41+00:00\n",
      "False\n",
      "====\n",
      "Jaipur, India\n",
      "👨‍💻🎨🎤🎮🎥👨‍🎓📊🏋️\n",
      "2021-05-19 17:22:19+00:00\n",
      "False\n",
      "====\n"
     ]
    }
   ],
   "source": [
    "for tweet in tweets.data:\n",
    "    \n",
    "    if users[tweet.author_id]:\n",
    "        user = users[tweet.author_id]\n",
    "#         print(tweet.id)\n",
    "#         print(user.username)\n",
    "#         print(user.verified)\n",
    "#         print(user.location)\n",
    "        print(user.location)\n",
    "        print(user.description)\n",
    "        print(user.created_at)\n",
    "        print(user.verified)\n",
    "        if user.entities != None:\n",
    "            try:\n",
    "                if user.entities['description']:\n",
    "                    print(user.entities['description'])\n",
    "            except:\n",
    "                pass\n",
    "        print('====')"
   ]
  },
  {
   "cell_type": "code",
   "execution_count": 314,
   "id": "9d3dbd63",
   "metadata": {},
   "outputs": [
    {
     "ename": "AttributeError",
     "evalue": "",
     "output_type": "error",
     "traceback": [
      "\u001b[1;31m---------------------------------------------------------------------------\u001b[0m",
      "\u001b[1;31mAttributeError\u001b[0m                            Traceback (most recent call last)",
      "\u001b[1;32m~\\AppData\\Local\\Temp/ipykernel_43712/3628297889.py\u001b[0m in \u001b[0;36m<module>\u001b[1;34m\u001b[0m\n\u001b[0;32m      1\u001b[0m \u001b[1;32mfor\u001b[0m \u001b[0mtweet\u001b[0m \u001b[1;32min\u001b[0m \u001b[0mtweets\u001b[0m\u001b[1;33m.\u001b[0m\u001b[0mdata\u001b[0m\u001b[1;33m:\u001b[0m\u001b[1;33m\u001b[0m\u001b[1;33m\u001b[0m\u001b[0m\n\u001b[1;32m----> 2\u001b[1;33m     \u001b[0mprint\u001b[0m\u001b[1;33m(\u001b[0m\u001b[0mtweet\u001b[0m\u001b[1;33m.\u001b[0m\u001b[0mprofile_image_url\u001b[0m\u001b[1;33m)\u001b[0m\u001b[1;33m\u001b[0m\u001b[1;33m\u001b[0m\u001b[0m\n\u001b[0m",
      "\u001b[1;32m~\\anaconda3\\lib\\site-packages\\tweepy\\mixins.py\u001b[0m in \u001b[0;36m__getattr__\u001b[1;34m(self, name)\u001b[0m\n\u001b[0;32m     30\u001b[0m             \u001b[1;32mreturn\u001b[0m \u001b[0mself\u001b[0m\u001b[1;33m.\u001b[0m\u001b[0mdata\u001b[0m\u001b[1;33m[\u001b[0m\u001b[0mname\u001b[0m\u001b[1;33m]\u001b[0m\u001b[1;33m\u001b[0m\u001b[1;33m\u001b[0m\u001b[0m\n\u001b[0;32m     31\u001b[0m         \u001b[1;32mexcept\u001b[0m \u001b[0mKeyError\u001b[0m\u001b[1;33m:\u001b[0m\u001b[1;33m\u001b[0m\u001b[1;33m\u001b[0m\u001b[0m\n\u001b[1;32m---> 32\u001b[1;33m             \u001b[1;32mraise\u001b[0m \u001b[0mAttributeError\u001b[0m \u001b[1;32mfrom\u001b[0m \u001b[1;32mNone\u001b[0m\u001b[1;33m\u001b[0m\u001b[1;33m\u001b[0m\u001b[0m\n\u001b[0m\u001b[0;32m     33\u001b[0m \u001b[1;33m\u001b[0m\u001b[0m\n\u001b[0;32m     34\u001b[0m     \u001b[1;32mdef\u001b[0m \u001b[0m__getitem__\u001b[0m\u001b[1;33m(\u001b[0m\u001b[0mself\u001b[0m\u001b[1;33m,\u001b[0m \u001b[0mkey\u001b[0m\u001b[1;33m)\u001b[0m\u001b[1;33m:\u001b[0m\u001b[1;33m\u001b[0m\u001b[1;33m\u001b[0m\u001b[0m\n",
      "\u001b[1;31mAttributeError\u001b[0m: "
     ]
    }
   ],
   "source": [
    "for tweet in tweets.data:\n",
    "    print(tweet.profile_image_url)"
   ]
  },
  {
   "cell_type": "code",
   "execution_count": 115,
   "id": "058e12df",
   "metadata": {},
   "outputs": [],
   "source": [
    "# exploring media object\n",
    "\n",
    "client = tweepy.Client(bearer_token = bearer_token)\n",
    "\n",
    "query = 'paragliding has:media'\n",
    "tweet_fields=['author_id', 'created_at','public_metrics','attachments']\n",
    "\n",
    "#expansions = [author_id,referenced_tweets.id,referenced_tweets.id.author_id,entities.mentions.username,attachments.poll_ids,attachments.media_keys,in_reply_to_user_id,geo.place_id]\n",
    "\n",
    "media_fields = ['duration_ms','height','public_metrics','non_public_metrics','organic_metrics','preview_image_url','promoted_metrics','width']\n",
    "expansions = ['attachments.media_keys']\n",
    "\n",
    "tweets = client.search_recent_tweets(query=query, tweet_fields = tweet_fields, media_fields = media_fields, max_results = 50, expansions = expansions)"
   ]
  },
  {
   "cell_type": "code",
   "execution_count": 119,
   "id": "50794fc0",
   "metadata": {},
   "outputs": [],
   "source": [
    "medias = {m['media_key']: m for m in tweets.includes['media']}"
   ]
  },
  {
   "cell_type": "code",
   "execution_count": 136,
   "id": "7cae1359",
   "metadata": {},
   "outputs": [
    {
     "name": "stdout",
     "output_type": "stream",
     "text": [
      "None\n",
      "None\n",
      "None\n",
      "{'media_keys': ['3_1477978009894219776']}\n",
      "photo\n",
      "None\n",
      "None\n",
      "None\n",
      "{'media_keys': ['3_1477960715637952513']}\n",
      "photo\n",
      "None\n",
      "{'media_keys': ['3_1477948202158473216', '3_1477948211473960960']}\n",
      "photo\n",
      "None\n",
      "{'media_keys': ['3_1477934722554556417', '3_1477934722562940929', '3_1477934722286161920', '3_1477934722281979905']}\n",
      "photo\n",
      "None\n",
      "{'media_keys': ['3_1477932341691830275']}\n",
      "photo\n",
      "None\n",
      "None\n",
      "None\n",
      "{'media_keys': ['3_1477892416648716294']}\n",
      "photo\n",
      "None\n",
      "None\n",
      "{'media_keys': ['7_1475813151266512896']}\n",
      "None\n",
      "{'media_keys': ['7_1475813151266512896']}\n",
      "{'media_keys': ['7_1477866023969693696']}\n",
      "None\n",
      "None\n",
      "{'media_keys': ['7_1423880277726728194']}\n",
      "None\n",
      "{'media_keys': ['3_1477846020235345920', '3_1477846020252135424', '3_1477846020549918723', '3_1477846020809961472']}\n",
      "photo\n",
      "None\n",
      "{'media_keys': ['3_1477842196288217089']}\n",
      "photo\n",
      "None\n",
      "None\n",
      "None\n",
      "None\n",
      "{'media_keys': ['3_1477809098242539524']}\n",
      "photo\n",
      "None\n",
      "None\n",
      "None\n",
      "None\n",
      "{'media_keys': ['3_1477790045373231106', '3_1477790237879255042']}\n",
      "photo\n",
      "None\n",
      "None\n",
      "{'media_keys': ['7_1477785800087638017']}\n",
      "None\n",
      "{'media_keys': ['3_1477764900286078978']}\n",
      "photo\n",
      "None\n",
      "{'media_keys': ['3_1477763825457848320']}\n",
      "photo\n",
      "None\n",
      "{'media_keys': ['7_1475813151266512896']}\n",
      "{'media_keys': ['7_1477703545654849542']}\n",
      "None\n",
      "{'media_keys': ['3_1477725357138747395']}\n",
      "photo\n",
      "None\n",
      "None\n",
      "{'media_keys': ['3_1477725357138747395']}\n",
      "photo\n",
      "None\n",
      "None\n",
      "None\n",
      "None\n",
      "None\n",
      "None\n",
      "None\n",
      "{'media_keys': ['7_1477703545654849542']}\n"
     ]
    }
   ],
   "source": [
    "for tweet in tweets.data:\n",
    "    print(tweet.attachments)\n",
    "    if tweet.attachments !=None:\n",
    "#         for k in tweet.attachments['media_keys']:\n",
    "        try:\n",
    "            media = medias[tweet.attachments['media_keys'][0]]\n",
    "            print(media.type)\n",
    "            print(media.public_metrics)\n",
    "        except:\n",
    "            pass"
   ]
  },
  {
   "cell_type": "code",
   "execution_count": 60,
   "id": "fbaaba79",
   "metadata": {},
   "outputs": [
    {
     "data": {
      "text/plain": [
       "{'3_1477960715637952513': <Media media_key=3_1477960715637952513 type=photo>,\n",
       " '3_1477948202158473216': <Media media_key=3_1477948202158473216 type=photo>,\n",
       " '3_1477948211473960960': <Media media_key=3_1477948211473960960 type=photo>,\n",
       " '3_1477934722554556417': <Media media_key=3_1477934722554556417 type=photo>,\n",
       " '3_1477934722562940929': <Media media_key=3_1477934722562940929 type=photo>,\n",
       " '3_1477934722286161920': <Media media_key=3_1477934722286161920 type=photo>,\n",
       " '3_1477934722281979905': <Media media_key=3_1477934722281979905 type=photo>,\n",
       " '3_1477932341691830275': <Media media_key=3_1477932341691830275 type=photo>,\n",
       " '3_1477892416648716294': <Media media_key=3_1477892416648716294 type=photo>,\n",
       " '7_1475813151266512896': <Media media_key=7_1475813151266512896 type=video>,\n",
       " '7_1477866023969693696': <Media media_key=7_1477866023969693696 type=video>}"
      ]
     },
     "execution_count": 60,
     "metadata": {},
     "output_type": "execute_result"
    }
   ],
   "source": [
    "media"
   ]
  },
  {
   "cell_type": "code",
   "execution_count": 66,
   "id": "2170d9b2",
   "metadata": {},
   "outputs": [
    {
     "name": "stdout",
     "output_type": "stream",
     "text": [
      "['3_1477960715637952513']\n",
      "['3_1477948202158473216', '3_1477948211473960960']\n",
      "['3_1477934722554556417', '3_1477934722562940929', '3_1477934722286161920', '3_1477934722281979905']\n",
      "['3_1477932341691830275']\n",
      "['3_1477892416648716294']\n",
      "['7_1475813151266512896']\n",
      "['7_1475813151266512896']\n",
      "['7_1477866023969693696']\n"
     ]
    }
   ],
   "source": [
    "for tweet in tweets.data:\n",
    "    if tweet.attachments != None:\n",
    "        print(tweet.attachments['media_keys'])"
   ]
  },
  {
   "cell_type": "code",
   "execution_count": null,
   "id": "662ecc1f",
   "metadata": {},
   "outputs": [],
   "source": []
  },
  {
   "cell_type": "code",
   "execution_count": null,
   "id": "bb3aa0b1",
   "metadata": {},
   "outputs": [],
   "source": []
  },
  {
   "cell_type": "code",
   "execution_count": null,
   "id": "09081e83",
   "metadata": {},
   "outputs": [],
   "source": []
  },
  {
   "cell_type": "code",
   "execution_count": null,
   "id": "9ed86a2d",
   "metadata": {},
   "outputs": [],
   "source": [
    "# another qu.: does hashtag in profile gave a tendency for hashtag in recent tweets - link to profile created?"
   ]
  },
  {
   "cell_type": "code",
   "execution_count": null,
   "id": "26672975",
   "metadata": {},
   "outputs": [],
   "source": []
  }
 ],
 "metadata": {
  "kernelspec": {
   "display_name": "Python 3 (ipykernel)",
   "language": "python",
   "name": "python3"
  },
  "language_info": {
   "codemirror_mode": {
    "name": "ipython",
    "version": 3
   },
   "file_extension": ".py",
   "mimetype": "text/x-python",
   "name": "python",
   "nbconvert_exporter": "python",
   "pygments_lexer": "ipython3",
   "version": "3.9.7"
  }
 },
 "nbformat": 4,
 "nbformat_minor": 5
}
