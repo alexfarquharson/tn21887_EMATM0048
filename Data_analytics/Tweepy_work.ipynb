{
 "cells": [
  {
   "cell_type": "code",
   "execution_count": 1,
   "id": "07c270ce",
   "metadata": {},
   "outputs": [],
   "source": [
    "# Alexander Farquharson, data analytics, notebook for creating twitter data, preprocessing/cleaning data, exploring and answering questions abut the data"
   ]
  },
  {
   "cell_type": "markdown",
   "id": "b9770978",
   "metadata": {},
   "source": [
    "# Twitter data analytics"
   ]
  },
  {
   "cell_type": "markdown",
   "id": "d5758f63",
   "metadata": {},
   "source": [
    "### Running instructions:\n",
    "    1. Run setup cells\n",
    "    2. For reproducible results, do not run section 1: (for pulling the data from tweepy).\n",
    "    3. Run all cells from section 2.1 onwards"
   ]
  },
  {
   "cell_type": "markdown",
   "id": "28cde1a6",
   "metadata": {},
   "source": [
    "## Setup"
   ]
  },
  {
   "cell_type": "code",
   "execution_count": 3,
   "id": "079c4d64",
   "metadata": {},
   "outputs": [],
   "source": [
    "# Import modules\n",
    "import requests\n",
    "import tweepy\n",
    "import pandas as pd\n",
    "import numpy as np\n",
    "import matplotlib.pyplot as plt\n",
    "import seaborn as sns\n",
    "import statsmodels.api as sm\n",
    "from scipy import stats\n",
    "from sklearn.linear_model import LinearRegression\n",
    "from sklearn.metrics import r2_score"
   ]
  },
  {
   "cell_type": "code",
   "execution_count": 4,
   "id": "00cf0c96",
   "metadata": {},
   "outputs": [],
   "source": [
    "# define parameters\n",
    "raw_data = \"twitter_raw_data.csv\"\n",
    "processed_data = \"twitter_processed_data.csv\"\n",
    "sns.set_style(style = 'darkgrid')\n",
    "recreate_data = False"
   ]
  },
  {
   "cell_type": "markdown",
   "id": "697ac384",
   "metadata": {},
   "source": [
    "# 1. Pulling data from Twitter using tweepy"
   ]
  },
  {
   "cell_type": "markdown",
   "id": "307e1221",
   "metadata": {},
   "source": [
    "# DO NOT RE RUN SECTION 1"
   ]
  },
  {
   "cell_type": "code",
   "execution_count": 490,
   "id": "ce4b7a63",
   "metadata": {},
   "outputs": [],
   "source": [
    "# Overview of twitter data fields I have tested/experimented/explored with\n",
    "# info here used in determining which fields to pull and use\n",
    "\n",
    "# Tweet objects:\n",
    "#     text - (tweet text)\n",
    "#     attachments - (media_key to join media object)\n",
    "#     author_id - (author_id to join user object)\n",
    "#     context_annotations - (domain and entity pairs, (with id, name and description) - hard to use for project (text based analytics required))\n",
    "#     created_at - tweet created datetime\n",
    "#     public_metrics - (RT, reply, like, quote counts)\n",
    "#     conversation_id - (key for..)\n",
    "#     entities - (info on position and value of: url, hashtags, symbols, user_mentions, polls, media in tweet)\n",
    "#     geo - (cant really use with essential access)\n",
    "#     id - (tweet id)\n",
    "#     in_reply_to_user_id - (id of user tweet is in reply to)\n",
    "#     lang - (language)\n",
    "#     referenced_tweets - (type,id of original tweet -e.g. if a retweet)\n",
    "#     reply_settings - (who can reply)\n",
    "#     source - (how accessed twitter, e.g. twitter for android)\n",
    "#     withheld - (withheld information, not very helpful)\n",
    "#     others - (not available or not useful with essential access)\n",
    "\n",
    "# User objects:\n",
    "#     id - (user id)\n",
    "#     created_at - (datetime profile created)\n",
    "#     description - (profile bio text)\n",
    "#     entities - (info on position and value of: url, hashtags, symbols, user_mentions, media in description bio)\n",
    "#     location - (place user created profile) frequently null or wrong\n",
    "#     pinned_tweet_id - (tweet id of pinned tweet)\n",
    "#     profile_image_url - (url of profile pic)\n",
    "#     protected - (if user is private or not - should always be False for me (No following))\n",
    "#     public_metrics - (followers_count, following_count, tweet_count, listed_count)\n",
    "#     url - (url in bio)\n",
    "#     username - (username)\n",
    "#     verified - (is user if verified as that person or not (think this is for big public figures only))\n",
    "#     withheld - (withheld information) \n",
    "    \n",
    "# Media objects:\n",
    "#     type - (type of media e.g. video/pic)\n",
    "#     height\n",
    "#     width\n",
    "#     duration_ms - (ms duration, only for video)\n",
    "#     public_metrics - (view count, only for video)\n",
    "#     preview_image_url - (image url)\n",
    "#     #the below three need user authentication\n",
    "#     non_public_metrics - (playback times/quartiled)\n",
    "#     organic_metrics - (playback times/quartiled tracked on organic basis)\n",
    "#     promoted_metrics - (playback times/quartiled on promoted basis)\n",
    "    \n",
    "# Space objects: (live streaming objects, not available after ended) - not useful for this project\n",
    "# Poll objects: not useful for this project\n",
    "# Place objects: (most of the other info to do with place is unavailable/hard to use with essential access)"
   ]
  },
  {
   "cell_type": "code",
   "execution_count": 521,
   "id": "b7dc4790",
   "metadata": {},
   "outputs": [],
   "source": [
    "# Get all accessible data deemed appropriate\n",
    "APP_ID = \"22591708\"\n",
    "App_name = \"alexanderfarqu2\"\n",
    "API_key = \"ON4SJ0U3Sb0ODjUk6ZquERxiv\"\n",
    "API_key_secret = \"g5JoHVL4uxCoFXLvEYTSojaEBPODyYmiI0bMeuvHYQt5JsyVE6\"\n",
    "bearer_token = \"AAAAAAAAAAAAAAAAAAAAANy4WAEAAAAAlTukwlSz2gZnDi9xKeo3lp471qM%3DxU6od5cFrnKdcLHZHXx2I6cp99WT6QnKOpirCWfm75U42yXth2\"\n",
    "access_token = \"1463912691429527556-rZ1rFU6GgR3a4xYcWdTbvsomCn5shl\"\n",
    "access_token_secret = \"qqU34qYcJ0B8iEZC82DZ6OZqzrYy8IBJ51UGNsLdXvKZh\"\n",
    "\n",
    "client = tweepy.Client(bearer_token = bearer_token)"
   ]
  },
  {
   "cell_type": "code",
   "execution_count": 529,
   "id": "1ef432bb",
   "metadata": {},
   "outputs": [],
   "source": [
    "# query data (through trial and error of testing what tweets I want)\n",
    "'''\n",
    "querying notes:\n",
    "    default is and logic (otherwise put or between words)\n",
    "    some useful filters: is:, has:, lang: (not all available with essential access like place_country:)\n",
    "        e.g. is:retweet lang:en has:images\n",
    "    - negates anything:\n",
    "        e.g. -snow -is:nullcast\n",
    "    group and/or logic with brackets:\n",
    "        e.g. (a b) or (c has:images)\n",
    "'''\n",
    "\n",
    "query = '(tennis lang:en -is:retweet)' #has:media remove as not enough tweets"
   ]
  },
  {
   "cell_type": "code",
   "execution_count": 530,
   "id": "7cdeec05",
   "metadata": {},
   "outputs": [],
   "source": [
    "# tweet fields chosen from above\n",
    "tweet_fields=['attachments', 'author_id', 'created_at', 'public_metrics', 'conversation_id', 'entities', 'geo', 'id', 'in_reply_to_user_id','lang', 'referenced_tweets','reply_settings','source']"
   ]
  },
  {
   "cell_type": "code",
   "execution_count": 531,
   "id": "28d4f85b",
   "metadata": {},
   "outputs": [],
   "source": [
    "# just using expansions to get additional media and author info\n",
    "expansions = ['author_id', 'attachments.media_keys']"
   ]
  },
  {
   "cell_type": "code",
   "execution_count": 532,
   "id": "9cd8e180",
   "metadata": {},
   "outputs": [],
   "source": [
    "# user fields chosen from above\n",
    "user_fields = ['created_at','entities','id','profile_image_url','public_metrics','username','verified']"
   ]
  },
  {
   "cell_type": "code",
   "execution_count": 533,
   "id": "b2a1c81f",
   "metadata": {},
   "outputs": [],
   "source": [
    "# user fields chosen from above\n",
    "media_fields = ['height','width','public_metrics']"
   ]
  },
  {
   "cell_type": "code",
   "execution_count": 535,
   "id": "cdb16218",
   "metadata": {},
   "outputs": [],
   "source": [
    "# extract data (not flattening as that would loose expansions data)\n",
    "# 50000 is around the limit I can pull in one query\n",
    "tweets = []\n",
    "expan = []\n",
    "for tweet in tweepy.Paginator(client.search_recent_tweets,\n",
    "                          query=query, \n",
    "                          tweet_fields = tweet_fields, \n",
    "                          user_fields = user_fields, \n",
    "                          max_results = 100, \n",
    "                          expansions = expansions,\n",
    "                          limit=500):\n",
    "    tweets.append(tweet[0])\n",
    "    try:\n",
    "        expan.append(tweet[1])\n",
    "    except:\n",
    "        pass"
   ]
  },
  {
   "cell_type": "code",
   "execution_count": 536,
   "id": "0488c94d",
   "metadata": {},
   "outputs": [],
   "source": [
    "# 1 dimensionalise tweets data\n",
    "tweets = [tweet for sub in tweets for tweet in sub]"
   ]
  },
  {
   "cell_type": "code",
   "execution_count": 537,
   "id": "66c04118",
   "metadata": {},
   "outputs": [],
   "source": [
    "# extract user information\n",
    "users = []\n",
    "for el in expan:\n",
    "    users.append(el['users'])\n",
    "    \n",
    "# flatten\n",
    "users = [user for sub in users for user in sub]    "
   ]
  },
  {
   "cell_type": "code",
   "execution_count": 538,
   "id": "55d175af",
   "metadata": {},
   "outputs": [],
   "source": [
    "# extract media information\n",
    "medias = []\n",
    "for el in expan:\n",
    "    medias.append(el['media'])\n",
    "    \n",
    "# flatten\n",
    "medias = [media for sub in medias for media in sub]    "
   ]
  },
  {
   "cell_type": "code",
   "execution_count": 539,
   "id": "d966dcac",
   "metadata": {},
   "outputs": [
    {
     "name": "stdout",
     "output_type": "stream",
     "text": [
      "44850\n",
      "41679\n",
      "9269\n"
     ]
    }
   ],
   "source": [
    "for x in (tweets, users, medias):\n",
    "    print(len(x))"
   ]
  },
  {
   "cell_type": "code",
   "execution_count": 540,
   "id": "ee50f3ad",
   "metadata": {},
   "outputs": [],
   "source": [
    "# create tweet_df\n",
    "tweet_df = pd.DataFrame()\n",
    "# keys\n",
    "tweet_df['author_id']= [tweet.author_id for tweet in tweets]\n",
    "tweet_df['tweet_id']= [tweet.id for tweet in tweets]\n",
    "tweet_df['attachments']= [tweet.attachments for tweet in tweets]\n",
    "tweet_df['in_reply_to_user_id']= [tweet.in_reply_to_user_id for tweet in tweets] #drop?\n",
    "tweet_df['referenced_tweets']= [tweet.referenced_tweets for tweet in tweets] #drop?\n",
    "\n",
    "# cat variables\n",
    "tweet_df['text']= [tweet.text for tweet in tweets]\n",
    "tweet_df['lang']= [tweet.lang for tweet in tweets]\n",
    "tweet_df['source']= [tweet.source for tweet in tweets]\n",
    "tweet_df['reply_settings']= [tweet.reply_settings for tweet in tweets] # drop?\n",
    "tweet_df['entities']= [tweet.entities for tweet in tweets]\n",
    "\n",
    "\n",
    "# num variables\n",
    "tweet_df['ret_count']= [tweet.public_metrics['retweet_count'] for tweet in tweets]\n",
    "tweet_df['reply_count']= [tweet.public_metrics['reply_count']for tweet in tweets]\n",
    "tweet_df['like_count']= [tweet.public_metrics['like_count']for tweet in tweets]\n",
    "tweet_df['quote_count']= [tweet.public_metrics['quote_count']for tweet in tweets]\n",
    "\n",
    "#date variables\n",
    "tweet_df['created_at']= [tweet.created_at for tweet in tweets]"
   ]
  },
  {
   "cell_type": "code",
   "execution_count": 542,
   "id": "8e97e7c4",
   "metadata": {},
   "outputs": [
    {
     "data": {
      "text/plain": [
       "0"
      ]
     },
     "execution_count": 542,
     "metadata": {},
     "output_type": "execute_result"
    }
   ],
   "source": [
    "# get first media_key only from attachments column. Set to 0 if missing\n",
    "x = {'media_keys':[0]}\n",
    "tweet_df['attachments'] = np.where(~tweet_df['attachments'].isna(),tweet_df['attachments'],x)\n",
    "# assure none missing\n",
    "tweet_df['attachments'].isna().sum()"
   ]
  },
  {
   "cell_type": "code",
   "execution_count": 543,
   "id": "0fb281d2",
   "metadata": {},
   "outputs": [],
   "source": [
    "media_keys = []\n",
    "for el in tweet_df['attachments']:\n",
    "    for v in el.values():\n",
    "        media_keys.append(v[0])\n",
    "        \n",
    "tweet_df['media_key'] = media_keys\n",
    "tweet_df.drop(['attachments'], inplace = True, axis = 1)"
   ]
  },
  {
   "cell_type": "code",
   "execution_count": 545,
   "id": "a7d51c02",
   "metadata": {},
   "outputs": [],
   "source": [
    "# create users_df\n",
    "users_df = pd.DataFrame()\n",
    "# keys\n",
    "users_df['author_id']= [user.id for user in users]\n",
    "\n",
    "# num vars\n",
    "users_df['profile_created_at']= [user.created_at for user in users]\n",
    "users_df['followers_count']= [user.public_metrics['followers_count'] for user in users]\n",
    "users_df['following_count']= [user.public_metrics['following_count'] for user in users]\n",
    "users_df['user_tweet_count']= [user.public_metrics['tweet_count'] for user in users]\n",
    "\n",
    "# cat vars\n",
    "users_df['profile_entities']= [user.entities for user in users]\n",
    "users_df['username']= [user.username for user in users]\n",
    "users_df['verified']= [user.verified for user in users]\n",
    "\n",
    "# deduplicated (could have multiple tweets by same person in search but at differnt point - ensure when join, not multiple rows for same tweet)\n",
    "users_df = users_df[users_df['author_id'].duplicated() == False]"
   ]
  },
  {
   "cell_type": "code",
   "execution_count": 546,
   "id": "8dbc59b5",
   "metadata": {},
   "outputs": [],
   "source": [
    "# create media_df\n",
    "media_df = pd.DataFrame()\n",
    "# keys\n",
    "media_df['media_key']= [media.media_key for media in medias]\n",
    "\n",
    "# cat vars\n",
    "media_df['media_type']= [media.type for media in medias]\n",
    "\n",
    "#deduplicate (precautionary measure - theoretically none should be removed)\n",
    "media_df = media_df[media_df['media_key'].duplicated() == False]"
   ]
  },
  {
   "cell_type": "code",
   "execution_count": 547,
   "id": "21958214",
   "metadata": {},
   "outputs": [],
   "source": [
    "# join data frames on relevant keys\n",
    "master_df = tweet_df.merge(right = users_df, how = 'left', on = 'author_id').merge(right = media_df, how = 'left', on = 'media_key')\n",
    "# master_df_copy = master_df.copy()"
   ]
  },
  {
   "cell_type": "code",
   "execution_count": 548,
   "id": "10f755a4",
   "metadata": {},
   "outputs": [],
   "source": [
    "# save raw dataframe\n",
    "if recreate_date == True:\n",
    "    master_df.to_csv(raw_data, index = False)"
   ]
  },
  {
   "cell_type": "markdown",
   "id": "b78eff4a",
   "metadata": {},
   "source": [
    "# 2. Data preprocessing\n",
    "## 2.1 Preliminary data checks and filtering"
   ]
  },
  {
   "cell_type": "markdown",
   "id": "f5920b5a",
   "metadata": {},
   "source": [
    "## RUN FROM HERE"
   ]
  },
  {
   "cell_type": "code",
   "execution_count": 5,
   "id": "3bda5bfb",
   "metadata": {},
   "outputs": [],
   "source": [
    "# load raw df\n",
    "master_df = pd.read_csv(raw_data, parse_dates = ['created_at','profile_created_at'])"
   ]
  },
  {
   "cell_type": "code",
   "execution_count": 6,
   "id": "94517544",
   "metadata": {},
   "outputs": [
    {
     "name": "stdout",
     "output_type": "stream",
     "text": [
      "(44850, 23)\n"
     ]
    }
   ],
   "source": [
    "# should be same length as tweet_df\n",
    "# print(tweet_df.shape)\n",
    "print(master_df.shape)"
   ]
  },
  {
   "cell_type": "markdown",
   "id": "fd05b3ea",
   "metadata": {},
   "source": [
    "Good - is same length as tweet_df (no dupes)"
   ]
  },
  {
   "cell_type": "code",
   "execution_count": 7,
   "id": "1284849e",
   "metadata": {},
   "outputs": [
    {
     "name": "stdout",
     "output_type": "stream",
     "text": [
      "(20, 23)\n"
     ]
    }
   ],
   "source": [
    "# ensure no tweets are a RT\n",
    "print(master_df[master_df['text'].str.startswith('RT')].shape)\n",
    "# remove retweets\n",
    "master_df = master_df[~master_df['text'].str.startswith('RT')]"
   ]
  },
  {
   "cell_type": "markdown",
   "id": "b32b4525",
   "metadata": {},
   "source": [
    "Enure no retweets in sample"
   ]
  },
  {
   "cell_type": "code",
   "execution_count": 8,
   "id": "e6289d6e",
   "metadata": {},
   "outputs": [
    {
     "name": "stdout",
     "output_type": "stream",
     "text": [
      "everyone          44624\n",
      "following           111\n",
      "mentionedUsers       95\n",
      "Name: reply_settings, dtype: int64\n"
     ]
    }
   ],
   "source": [
    "# ensure all have same value for reply_settings, (needed to be fair when looking at visibility metrics)\n",
    "print(master_df['reply_settings'].value_counts())\n",
    "master_df = master_df[master_df['reply_settings'] =='everyone']"
   ]
  },
  {
   "cell_type": "code",
   "execution_count": 9,
   "id": "be1e80af",
   "metadata": {},
   "outputs": [
    {
     "data": {
      "text/plain": [
       "Index(['author_id', 'tweet_id', 'in_reply_to_user_id', 'referenced_tweets',\n",
       "       'text', 'lang', 'source', 'reply_settings', 'entities', 'ret_count',\n",
       "       'reply_count', 'like_count', 'quote_count', 'created_at', 'media_key',\n",
       "       'profile_created_at', 'followers_count', 'following_count',\n",
       "       'user_tweet_count', 'profile_entities', 'username', 'verified',\n",
       "       'media_type'],\n",
       "      dtype='object')"
      ]
     },
     "execution_count": 9,
     "metadata": {},
     "output_type": "execute_result"
    }
   ],
   "source": [
    "master_df.columns"
   ]
  },
  {
   "cell_type": "code",
   "execution_count": 10,
   "id": "10414489",
   "metadata": {},
   "outputs": [],
   "source": [
    "# Get list of cols to drop - determine which ones may not be needed for analysis\n",
    "# metrics:\n",
    "#     if referenced a tweet\n",
    "#     if in reply to a tweet\n",
    "#     tweet text\n",
    "#     tweet language\n",
    "#     tweet app source\n",
    "#     reply_settings\n",
    "#     entities - (use if hashtag)\n",
    "#     num retweets, replies, likes, quotes\n",
    "#     when_created\n",
    "#     when profile_created\n",
    "#     profile_entities - if hashtag\n",
    "#     followers, following, no. tweets count\n",
    "#     verified\n",
    "#     media type (if any)"
   ]
  },
  {
   "cell_type": "code",
   "execution_count": 11,
   "id": "7e0c6f4a",
   "metadata": {},
   "outputs": [
    {
     "data": {
      "text/plain": [
       "Index(['author_id', 'tweet_id', 'source', 'entities', 'ret_count',\n",
       "       'reply_count', 'like_count', 'quote_count', 'created_at', 'media_key',\n",
       "       'profile_created_at', 'followers_count', 'following_count',\n",
       "       'user_tweet_count', 'profile_entities', 'verified', 'media_type'],\n",
       "      dtype='object')"
      ]
     },
     "execution_count": 11,
     "metadata": {},
     "output_type": "execute_result"
    }
   ],
   "source": [
    "cols_to_drop = ['in_reply_to_user_id','referenced_tweets','text','lang','username','reply_settings']\n",
    "master_df.drop(cols_to_drop, axis = 1, inplace = True)\n",
    "# list of remaining columns\n",
    "master_df.columns"
   ]
  },
  {
   "cell_type": "code",
   "execution_count": 12,
   "id": "438985a2",
   "metadata": {},
   "outputs": [
    {
     "data": {
      "text/html": [
       "<div>\n",
       "<style scoped>\n",
       "    .dataframe tbody tr th:only-of-type {\n",
       "        vertical-align: middle;\n",
       "    }\n",
       "\n",
       "    .dataframe tbody tr th {\n",
       "        vertical-align: top;\n",
       "    }\n",
       "\n",
       "    .dataframe thead th {\n",
       "        text-align: right;\n",
       "    }\n",
       "</style>\n",
       "<table border=\"1\" class=\"dataframe\">\n",
       "  <thead>\n",
       "    <tr style=\"text-align: right;\">\n",
       "      <th></th>\n",
       "      <th>ret_count</th>\n",
       "      <th>reply_count</th>\n",
       "      <th>like_count</th>\n",
       "      <th>quote_count</th>\n",
       "      <th>followers_count</th>\n",
       "      <th>following_count</th>\n",
       "      <th>user_tweet_count</th>\n",
       "    </tr>\n",
       "  </thead>\n",
       "  <tbody>\n",
       "    <tr>\n",
       "      <th>count</th>\n",
       "      <td>44624.000000</td>\n",
       "      <td>44624.000000</td>\n",
       "      <td>44624.000000</td>\n",
       "      <td>44624.000000</td>\n",
       "      <td>4.462400e+04</td>\n",
       "      <td>44624.000000</td>\n",
       "      <td>4.462400e+04</td>\n",
       "    </tr>\n",
       "    <tr>\n",
       "      <th>mean</th>\n",
       "      <td>1.839974</td>\n",
       "      <td>0.737899</td>\n",
       "      <td>12.588159</td>\n",
       "      <td>0.201282</td>\n",
       "      <td>2.462324e+04</td>\n",
       "      <td>1256.467596</td>\n",
       "      <td>5.529016e+04</td>\n",
       "    </tr>\n",
       "    <tr>\n",
       "      <th>std</th>\n",
       "      <td>137.725204</td>\n",
       "      <td>7.463816</td>\n",
       "      <td>719.720908</td>\n",
       "      <td>6.748776</td>\n",
       "      <td>5.250473e+05</td>\n",
       "      <td>5150.710178</td>\n",
       "      <td>1.803147e+05</td>\n",
       "    </tr>\n",
       "    <tr>\n",
       "      <th>min</th>\n",
       "      <td>0.000000</td>\n",
       "      <td>0.000000</td>\n",
       "      <td>0.000000</td>\n",
       "      <td>0.000000</td>\n",
       "      <td>0.000000e+00</td>\n",
       "      <td>0.000000</td>\n",
       "      <td>1.000000e+00</td>\n",
       "    </tr>\n",
       "    <tr>\n",
       "      <th>25%</th>\n",
       "      <td>0.000000</td>\n",
       "      <td>0.000000</td>\n",
       "      <td>0.000000</td>\n",
       "      <td>0.000000</td>\n",
       "      <td>6.600000e+01</td>\n",
       "      <td>101.000000</td>\n",
       "      <td>2.234000e+03</td>\n",
       "    </tr>\n",
       "    <tr>\n",
       "      <th>50%</th>\n",
       "      <td>0.000000</td>\n",
       "      <td>0.000000</td>\n",
       "      <td>0.000000</td>\n",
       "      <td>0.000000</td>\n",
       "      <td>3.670000e+02</td>\n",
       "      <td>389.000000</td>\n",
       "      <td>1.059200e+04</td>\n",
       "    </tr>\n",
       "    <tr>\n",
       "      <th>75%</th>\n",
       "      <td>0.000000</td>\n",
       "      <td>1.000000</td>\n",
       "      <td>2.000000</td>\n",
       "      <td>0.000000</td>\n",
       "      <td>1.515250e+03</td>\n",
       "      <td>1065.250000</td>\n",
       "      <td>4.119025e+04</td>\n",
       "    </tr>\n",
       "    <tr>\n",
       "      <th>max</th>\n",
       "      <td>28382.000000</td>\n",
       "      <td>1053.000000</td>\n",
       "      <td>146812.000000</td>\n",
       "      <td>1276.000000</td>\n",
       "      <td>5.577544e+07</td>\n",
       "      <td>370881.000000</td>\n",
       "      <td>3.659432e+06</td>\n",
       "    </tr>\n",
       "  </tbody>\n",
       "</table>\n",
       "</div>"
      ],
      "text/plain": [
       "          ret_count   reply_count     like_count   quote_count  \\\n",
       "count  44624.000000  44624.000000   44624.000000  44624.000000   \n",
       "mean       1.839974      0.737899      12.588159      0.201282   \n",
       "std      137.725204      7.463816     719.720908      6.748776   \n",
       "min        0.000000      0.000000       0.000000      0.000000   \n",
       "25%        0.000000      0.000000       0.000000      0.000000   \n",
       "50%        0.000000      0.000000       0.000000      0.000000   \n",
       "75%        0.000000      1.000000       2.000000      0.000000   \n",
       "max    28382.000000   1053.000000  146812.000000   1276.000000   \n",
       "\n",
       "       followers_count  following_count  user_tweet_count  \n",
       "count     4.462400e+04     44624.000000      4.462400e+04  \n",
       "mean      2.462324e+04      1256.467596      5.529016e+04  \n",
       "std       5.250473e+05      5150.710178      1.803147e+05  \n",
       "min       0.000000e+00         0.000000      1.000000e+00  \n",
       "25%       6.600000e+01       101.000000      2.234000e+03  \n",
       "50%       3.670000e+02       389.000000      1.059200e+04  \n",
       "75%       1.515250e+03      1065.250000      4.119025e+04  \n",
       "max       5.577544e+07    370881.000000      3.659432e+06  "
      ]
     },
     "execution_count": 12,
     "metadata": {},
     "output_type": "execute_result"
    }
   ],
   "source": [
    "# Filtering outliers\n",
    "num_stats = master_df.drop(['author_id','tweet_id'],axis=1).describe()\n",
    "num_stats"
   ]
  },
  {
   "cell_type": "code",
   "execution_count": 13,
   "id": "c85c1f06",
   "metadata": {},
   "outputs": [
    {
     "name": "stdout",
     "output_type": "stream",
     "text": [
      "44624 : cols before filtering\n",
      "44352 : cols after filtering\n"
     ]
    }
   ],
   "source": [
    "# Remove outlier rows with extremely high values ()\n",
    "print(master_df.shape[0], ': cols before filtering')\n",
    "for var in list(num_stats.columns):\n",
    "    outlier_min = num_stats[var]['mean'] + 10*num_stats[var]['std']\n",
    "    master_df = master_df[master_df[var] <= outlier_min]\n",
    "    \n",
    "print(master_df.shape[0], ': cols after filtering')"
   ]
  },
  {
   "cell_type": "markdown",
   "id": "93be9496",
   "metadata": {},
   "source": [
    "## 2.2 Column manipulation processing"
   ]
  },
  {
   "cell_type": "code",
   "execution_count": 14,
   "id": "f7b51b34",
   "metadata": {},
   "outputs": [
    {
     "name": "stdout",
     "output_type": "stream",
     "text": [
      "<class 'pandas.core.frame.DataFrame'>\n",
      "Int64Index: 44352 entries, 0 to 44849\n",
      "Data columns (total 17 columns):\n",
      " #   Column              Non-Null Count  Dtype              \n",
      "---  ------              --------------  -----              \n",
      " 0   author_id           44352 non-null  int64              \n",
      " 1   tweet_id            44352 non-null  int64              \n",
      " 2   source              44352 non-null  object             \n",
      " 3   entities            40227 non-null  object             \n",
      " 4   ret_count           44352 non-null  int64              \n",
      " 5   reply_count         44352 non-null  int64              \n",
      " 6   like_count          44352 non-null  int64              \n",
      " 7   quote_count         44352 non-null  int64              \n",
      " 8   created_at          44352 non-null  datetime64[ns, UTC]\n",
      " 9   media_key           44352 non-null  object             \n",
      " 10  profile_created_at  44352 non-null  datetime64[ns, UTC]\n",
      " 11  followers_count     44352 non-null  int64              \n",
      " 12  following_count     44352 non-null  int64              \n",
      " 13  user_tweet_count    44352 non-null  int64              \n",
      " 14  profile_entities    22581 non-null  object             \n",
      " 15  verified            44352 non-null  bool               \n",
      " 16  media_type          7616 non-null   object             \n",
      "dtypes: bool(1), datetime64[ns, UTC](2), int64(9), object(5)\n",
      "memory usage: 5.8+ MB\n"
     ]
    }
   ],
   "source": [
    "master_df.info()"
   ]
  },
  {
   "cell_type": "code",
   "execution_count": 15,
   "id": "6d978954",
   "metadata": {},
   "outputs": [],
   "source": [
    "# Combine keys for ease and drop originals\n",
    "master_df['tweet_id'] = master_df['tweet_id'].astype(str)\n",
    "master_df['author_id'] = master_df['author_id'].astype(str)\n",
    "master_df['media_key'] = master_df['media_key'].astype(str)\n",
    "master_df['id'] = master_df['tweet_id'] + \"-\" + master_df['author_id']  + \"-\" + master_df['media_key']\n",
    "keys = ['media_key', 'author_id', 'tweet_id']\n",
    "master_df.drop(keys, inplace = True, axis = 1)\n",
    "\n",
    "# reset index to something meaningful\n",
    "master_df.set_index('id', inplace = True)"
   ]
  },
  {
   "cell_type": "code",
   "execution_count": 16,
   "id": "1e3b32a1",
   "metadata": {},
   "outputs": [
    {
     "name": "stdout",
     "output_type": "stream",
     "text": [
      "False    42339\n",
      "True      2013\n",
      "Name: verified, dtype: int64\n",
      "====\n",
      "0    42339\n",
      "1     2013\n",
      "Name: verified, dtype: int64\n"
     ]
    }
   ],
   "source": [
    "# categorise boolean verified column\n",
    "print(master_df['verified'].value_counts())\n",
    "master_df['verified'] = pd.get_dummies(master_df['verified'], drop_first = True)\n",
    "master_df['verified'] = master_df['verified'].astype(str)\n",
    "print('====')\n",
    "print(master_df['verified'].value_counts())"
   ]
  },
  {
   "cell_type": "markdown",
   "id": "38d0d010",
   "metadata": {},
   "source": [
    "Verified can be used as an explanatory variable - need to put into integer format for data analysis"
   ]
  },
  {
   "cell_type": "code",
   "execution_count": 17,
   "id": "07458842",
   "metadata": {},
   "outputs": [
    {
     "name": "stdout",
     "output_type": "stream",
     "text": [
      "Twitter for iPhone         14095\n",
      "Twitter for Android         9125\n",
      "Twitter Web App             8796\n",
      "WordPress.com               1744\n",
      "dlvr.it                     1509\n",
      "Twitter for iPad            1357\n",
      "TweetDeck                   1022\n",
      "Twitter                      777\n",
      "Cheap Bots, Done Quick!      665\n",
      "IFTTT                        357\n",
      "Name: source, dtype: int64\n"
     ]
    }
   ],
   "source": [
    "# source variable\n",
    "print(master_df['source'].value_counts()[:10])"
   ]
  },
  {
   "cell_type": "markdown",
   "id": "8ddc188c",
   "metadata": {},
   "source": [
    "group source values if not in top 3 known values"
   ]
  },
  {
   "cell_type": "code",
   "execution_count": 18,
   "id": "a9549fdb",
   "metadata": {},
   "outputs": [
    {
     "name": "stdout",
     "output_type": "stream",
     "text": [
      "Twitter for iPhone     14095\n",
      "other                  12336\n",
      "Twitter for Android     9125\n",
      "Twitter Web App         8796\n",
      "Name: source, dtype: int64\n"
     ]
    }
   ],
   "source": [
    "sources = ['Twitter for Android','Twitter for iPhone','Twitter Web App']\n",
    "master_df['source'] = np.where(master_df['source'].apply(lambda x: x in sources), master_df['source'], 'other')\n",
    "print(master_df['source'].value_counts())"
   ]
  },
  {
   "cell_type": "markdown",
   "id": "bfb7150a",
   "metadata": {},
   "source": [
    "A form of rare level grouping into 4 groups for ease of analysis"
   ]
  },
  {
   "cell_type": "code",
   "execution_count": 19,
   "id": "f2564f9e",
   "metadata": {},
   "outputs": [],
   "source": [
    "# get profile and tweet hashtag flags from entities and drop entities columns\n",
    "master_df['profile_entities'] = master_df['profile_entities'].astype(str)\n",
    "master_df['entities'] = master_df['entities'].astype(str)\n",
    "\n",
    "master_df['profile_ht'] = np.where(master_df['profile_entities'].str.contains('hashtags'),\"1\",\"0\")\n",
    "master_df['tweet_ht'] = np.where(master_df['entities'].str.contains('hashtags'),\"1\",\"0\")\n",
    "\n",
    "master_df.drop(['profile_entities','entities'], axis = 1, inplace = True)"
   ]
  },
  {
   "cell_type": "code",
   "execution_count": 20,
   "id": "1f2853d8",
   "metadata": {},
   "outputs": [],
   "source": [
    "# time columns\n",
    "\n",
    "# get tweet age in minutes\n",
    "import pytz #needed to set a timezone value to UTC (to make comptabile with current date columns)\n",
    "import datetime\n",
    "master_df['today_date'] = datetime.datetime.now(tz = pytz.UTC)\n",
    "master_df['tweet_age_mins'] =  master_df['today_date'] - master_df['created_at']\n",
    "master_df['tweet_age_mins'] = master_df['tweet_age_mins'].apply(lambda x: x.seconds//60)"
   ]
  },
  {
   "cell_type": "code",
   "execution_count": 21,
   "id": "4897b570",
   "metadata": {},
   "outputs": [],
   "source": [
    "# create time from profile created to tweet created in days\n",
    "master_df['profile_tweet_diff'] = master_df['created_at']  - master_df['profile_created_at']\n",
    "master_df['profile_tweet_diff'] = master_df['profile_tweet_diff'].apply(lambda x: x.days)"
   ]
  },
  {
   "cell_type": "code",
   "execution_count": 22,
   "id": "e0ccc40f",
   "metadata": {},
   "outputs": [],
   "source": [
    "# drop now unneeded time columns\n",
    "master_df.drop(['created_at','profile_created_at','today_date'], axis = 1, inplace = True)"
   ]
  },
  {
   "cell_type": "code",
   "execution_count": 23,
   "id": "b0a61f09",
   "metadata": {},
   "outputs": [],
   "source": [
    "cat_vars = ['source', 'verified','media_type','profile_ht','tweet_ht']\n",
    "num_vars = ['ret_count', 'reply_count','like_count','quote_count','followers_count','following_count','user_tweet_count','tweet_age_mins','profile_tweet_diff']"
   ]
  },
  {
   "cell_type": "code",
   "execution_count": 24,
   "id": "eb775a39",
   "metadata": {},
   "outputs": [
    {
     "name": "stdout",
     "output_type": "stream",
     "text": [
      "ret_count False\n",
      "reply_count False\n",
      "like_count False\n",
      "quote_count False\n",
      "followers_count False\n",
      "following_count False\n",
      "user_tweet_count False\n",
      "tweet_age_mins False\n",
      "profile_tweet_diff False\n",
      "source False\n",
      "verified False\n",
      "media_type True\n",
      "profile_ht False\n",
      "tweet_ht False\n"
     ]
    }
   ],
   "source": [
    "# view if any column has missings\n",
    "for x in num_vars + cat_vars:\n",
    "    print(x, master_df[x].isna().any())"
   ]
  },
  {
   "cell_type": "markdown",
   "id": "0498be65",
   "metadata": {},
   "source": [
    "Deal with media_type missings - this will be because no media in tweet (text)"
   ]
  },
  {
   "cell_type": "code",
   "execution_count": 25,
   "id": "dcb17c1c",
   "metadata": {},
   "outputs": [
    {
     "data": {
      "text/plain": [
       "None            36736\n",
       "photo            6280\n",
       "animated_gif      692\n",
       "video             644\n",
       "Name: media_type, dtype: int64"
      ]
     },
     "execution_count": 25,
     "metadata": {},
     "output_type": "execute_result"
    }
   ],
   "source": [
    "master_df['media_type'] = np.where(~master_df['media_type'].isna(), master_df['media_type'], 'None')\n",
    "master_df['media_type'].value_counts(dropna=False)"
   ]
  },
  {
   "cell_type": "code",
   "execution_count": 26,
   "id": "27b0cbb1",
   "metadata": {},
   "outputs": [
    {
     "name": "stdout",
     "output_type": "stream",
     "text": [
      "<class 'pandas.core.frame.DataFrame'>\n",
      "Index: 44352 entries, 1478348463746138112-872997918-0 to 1475813536421105666-1466025361716781060-3_1475813505270005768\n",
      "Data columns (total 14 columns):\n",
      " #   Column              Non-Null Count  Dtype \n",
      "---  ------              --------------  ----- \n",
      " 0   source              44352 non-null  object\n",
      " 1   ret_count           44352 non-null  int64 \n",
      " 2   reply_count         44352 non-null  int64 \n",
      " 3   like_count          44352 non-null  int64 \n",
      " 4   quote_count         44352 non-null  int64 \n",
      " 5   followers_count     44352 non-null  int64 \n",
      " 6   following_count     44352 non-null  int64 \n",
      " 7   user_tweet_count    44352 non-null  int64 \n",
      " 8   verified            44352 non-null  object\n",
      " 9   media_type          44352 non-null  object\n",
      " 10  profile_ht          44352 non-null  object\n",
      " 11  tweet_ht            44352 non-null  object\n",
      " 12  tweet_age_mins      44352 non-null  int64 \n",
      " 13  profile_tweet_diff  44352 non-null  int64 \n",
      "dtypes: int64(9), object(5)\n",
      "memory usage: 5.1+ MB\n"
     ]
    }
   ],
   "source": [
    "master_df.info()"
   ]
  },
  {
   "cell_type": "markdown",
   "id": "1b0da896",
   "metadata": {},
   "source": [
    "all variables are in appropriate formats, no nulls"
   ]
  },
  {
   "cell_type": "markdown",
   "id": "769cdc31",
   "metadata": {},
   "source": [
    "# 3. Data exploration\n",
    "\n",
    "## 3.1 General"
   ]
  },
  {
   "cell_type": "markdown",
   "id": "a5e139ea",
   "metadata": {},
   "source": [
    "### Categorical vars"
   ]
  },
  {
   "cell_type": "code",
   "execution_count": 27,
   "id": "704675a5",
   "metadata": {},
   "outputs": [
    {
     "data": {
      "image/png": "[encoded data removed]",
      "text/plain": [
       "<Figure size 1152x360 with 5 Axes>"
      ]
     },
     "metadata": {},
     "output_type": "display_data"
    }
   ],
   "source": [
    "# plot bar chart for each cat variable\n",
    "y=0\n",
    "colours = ['b','r','g','y','b']\n",
    "fig, axes = plt.subplots(nrows=1, ncols=5, figsize = (16,5), squeeze = False)\n",
    "    \n",
    "for var in cat_vars:\n",
    "    counts = list(master_df[var].value_counts().values)\n",
    "    items = list(master_df[var].value_counts().index)\n",
    "    xs = range(len(items))\n",
    "\n",
    "    axes[0,y].bar(items,counts, color = colours[y])\n",
    "    axes[0,y].set(title = f'{var} distribution', xlabel = var, ylabel = 'counts')\n",
    "#    rotating messes things up..\n",
    "#     axes[0,y].set_xticklabels(items, Rotation = 60)\n",
    "    y+=1;\n",
    "fig.tight_layout()"
   ]
  },
  {
   "cell_type": "markdown",
   "id": "02ca45a8",
   "metadata": {},
   "source": [
    "* Source: Twitter for iphone > other > Twitter for Android > Web App \n",
    "* Far fewer people verified than not (whats the requirement to qualify for even being verified - no. of followers?\n",
    "* Media: None > Photos > vieos and gifs \n",
    "* Slightly more people hashtag in their tweets than in their profile bio, in general people dont use #\n",
    "* All categorical groupings are large enough for meaningful analysis (bar video and gifs)"
   ]
  },
  {
   "cell_type": "markdown",
   "id": "c4d93b62",
   "metadata": {},
   "source": [
    "# Numerical variables"
   ]
  },
  {
   "cell_type": "code",
   "execution_count": 28,
   "id": "baac3812",
   "metadata": {},
   "outputs": [
    {
     "data": {
      "text/html": [
       "<div>\n",
       "<style scoped>\n",
       "    .dataframe tbody tr th:only-of-type {\n",
       "        vertical-align: middle;\n",
       "    }\n",
       "\n",
       "    .dataframe tbody tr th {\n",
       "        vertical-align: top;\n",
       "    }\n",
       "\n",
       "    .dataframe thead th {\n",
       "        text-align: right;\n",
       "    }\n",
       "</style>\n",
       "<table border=\"1\" class=\"dataframe\">\n",
       "  <thead>\n",
       "    <tr style=\"text-align: right;\">\n",
       "      <th></th>\n",
       "      <th>ret_count</th>\n",
       "      <th>reply_count</th>\n",
       "      <th>like_count</th>\n",
       "      <th>quote_count</th>\n",
       "      <th>followers_count</th>\n",
       "      <th>following_count</th>\n",
       "      <th>user_tweet_count</th>\n",
       "      <th>tweet_age_mins</th>\n",
       "      <th>profile_tweet_diff</th>\n",
       "    </tr>\n",
       "  </thead>\n",
       "  <tbody>\n",
       "    <tr>\n",
       "      <th>count</th>\n",
       "      <td>44352.000000</td>\n",
       "      <td>44352.000000</td>\n",
       "      <td>44352.000000</td>\n",
       "      <td>44352.000000</td>\n",
       "      <td>4.435200e+04</td>\n",
       "      <td>44352.000000</td>\n",
       "      <td>4.435200e+04</td>\n",
       "      <td>44352.000000</td>\n",
       "      <td>44352.000000</td>\n",
       "    </tr>\n",
       "    <tr>\n",
       "      <th>mean</th>\n",
       "      <td>0.740124</td>\n",
       "      <td>0.591180</td>\n",
       "      <td>6.213226</td>\n",
       "      <td>0.115508</td>\n",
       "      <td>1.405269e+04</td>\n",
       "      <td>1057.224499</td>\n",
       "      <td>4.830640e+04</td>\n",
       "      <td>766.996257</td>\n",
       "      <td>2154.235390</td>\n",
       "    </tr>\n",
       "    <tr>\n",
       "      <th>std</th>\n",
       "      <td>8.853680</td>\n",
       "      <td>2.351481</td>\n",
       "      <td>59.949418</td>\n",
       "      <td>1.109780</td>\n",
       "      <td>1.409304e+05</td>\n",
       "      <td>2393.644625</td>\n",
       "      <td>1.358010e+05</td>\n",
       "      <td>432.549392</td>\n",
       "      <td>1643.266052</td>\n",
       "    </tr>\n",
       "    <tr>\n",
       "      <th>min</th>\n",
       "      <td>0.000000</td>\n",
       "      <td>0.000000</td>\n",
       "      <td>0.000000</td>\n",
       "      <td>0.000000</td>\n",
       "      <td>0.000000e+00</td>\n",
       "      <td>0.000000</td>\n",
       "      <td>1.000000e+00</td>\n",
       "      <td>0.000000</td>\n",
       "      <td>0.000000</td>\n",
       "    </tr>\n",
       "    <tr>\n",
       "      <th>25%</th>\n",
       "      <td>0.000000</td>\n",
       "      <td>0.000000</td>\n",
       "      <td>0.000000</td>\n",
       "      <td>0.000000</td>\n",
       "      <td>6.600000e+01</td>\n",
       "      <td>101.000000</td>\n",
       "      <td>2.206000e+03</td>\n",
       "      <td>409.000000</td>\n",
       "      <td>528.000000</td>\n",
       "    </tr>\n",
       "    <tr>\n",
       "      <th>50%</th>\n",
       "      <td>0.000000</td>\n",
       "      <td>0.000000</td>\n",
       "      <td>0.000000</td>\n",
       "      <td>0.000000</td>\n",
       "      <td>3.605000e+02</td>\n",
       "      <td>385.000000</td>\n",
       "      <td>1.044350e+04</td>\n",
       "      <td>799.000000</td>\n",
       "      <td>1964.000000</td>\n",
       "    </tr>\n",
       "    <tr>\n",
       "      <th>75%</th>\n",
       "      <td>0.000000</td>\n",
       "      <td>1.000000</td>\n",
       "      <td>2.000000</td>\n",
       "      <td>0.000000</td>\n",
       "      <td>1.471250e+03</td>\n",
       "      <td>1050.000000</td>\n",
       "      <td>4.024600e+04</td>\n",
       "      <td>1139.000000</td>\n",
       "      <td>3700.000000</td>\n",
       "    </tr>\n",
       "    <tr>\n",
       "      <th>max</th>\n",
       "      <td>796.000000</td>\n",
       "      <td>75.000000</td>\n",
       "      <td>4128.000000</td>\n",
       "      <td>65.000000</td>\n",
       "      <td>5.145740e+06</td>\n",
       "      <td>51952.000000</td>\n",
       "      <td>1.850505e+06</td>\n",
       "      <td>1439.000000</td>\n",
       "      <td>5633.000000</td>\n",
       "    </tr>\n",
       "  </tbody>\n",
       "</table>\n",
       "</div>"
      ],
      "text/plain": [
       "          ret_count   reply_count    like_count   quote_count  \\\n",
       "count  44352.000000  44352.000000  44352.000000  44352.000000   \n",
       "mean       0.740124      0.591180      6.213226      0.115508   \n",
       "std        8.853680      2.351481     59.949418      1.109780   \n",
       "min        0.000000      0.000000      0.000000      0.000000   \n",
       "25%        0.000000      0.000000      0.000000      0.000000   \n",
       "50%        0.000000      0.000000      0.000000      0.000000   \n",
       "75%        0.000000      1.000000      2.000000      0.000000   \n",
       "max      796.000000     75.000000   4128.000000     65.000000   \n",
       "\n",
       "       followers_count  following_count  user_tweet_count  tweet_age_mins  \\\n",
       "count     4.435200e+04     44352.000000      4.435200e+04    44352.000000   \n",
       "mean      1.405269e+04      1057.224499      4.830640e+04      766.996257   \n",
       "std       1.409304e+05      2393.644625      1.358010e+05      432.549392   \n",
       "min       0.000000e+00         0.000000      1.000000e+00        0.000000   \n",
       "25%       6.600000e+01       101.000000      2.206000e+03      409.000000   \n",
       "50%       3.605000e+02       385.000000      1.044350e+04      799.000000   \n",
       "75%       1.471250e+03      1050.000000      4.024600e+04     1139.000000   \n",
       "max       5.145740e+06     51952.000000      1.850505e+06     1439.000000   \n",
       "\n",
       "       profile_tweet_diff  \n",
       "count        44352.000000  \n",
       "mean          2154.235390  \n",
       "std           1643.266052  \n",
       "min              0.000000  \n",
       "25%            528.000000  \n",
       "50%           1964.000000  \n",
       "75%           3700.000000  \n",
       "max           5633.000000  "
      ]
     },
     "execution_count": 28,
     "metadata": {},
     "output_type": "execute_result"
    }
   ],
   "source": [
    "master_df[num_vars].describe()"
   ]
  },
  {
   "cell_type": "markdown",
   "id": "cb08fe79",
   "metadata": {},
   "source": [
    "* Ret_count, reply_count, like_count, quote_count: Mostly 0s. Heavy right skew\n",
    "* followers_count: mode > mean, so slight left skew, but clearly some abnormal author(s) with 55 million + followers\n",
    "* user_tweet_count: mode > mean, so slight left skew, but clearly some abnormal author(s) with >1 million tweets (bots?)"
   ]
  },
  {
   "cell_type": "code",
   "execution_count": 29,
   "id": "752d8561",
   "metadata": {},
   "outputs": [
    {
     "data": {
      "image/png": "[encoded data removed]",
      "text/plain": [
       "<Figure size 1152x360 with 10 Axes>"
      ]
     },
     "metadata": {},
     "output_type": "display_data"
    }
   ],
   "source": [
    "# plot hist plot for each num variable\n",
    "\n",
    "# temporarily filter out rows with exceptionally high values otherwise graphs wont be helpful\n",
    "num_var_max = [300,100,750,100,2000,2000,100000,2000,2000]\n",
    "# similarly, set ylims individually otherwise non-meaningful graphs\n",
    "y_lims = [400,400,500,100,5000,5000,4000,4000,2000]\n",
    "\n",
    "fig, axes = plt.subplots(nrows=2, ncols=5, figsize = (16,5), squeeze = False)\n",
    "ax_list =[(0,0),(0,1),(0,2),(0,3),(0,4),(1,0),(1,1),(1,2),(1,3)]\n",
    "colours = ['b','r','g','y','b']\n",
    "y = 0\n",
    "\n",
    "for var in num_vars:\n",
    "    temp_df = master_df[(master_df[var]<num_var_max[y])]\n",
    "    axes[ax_list[y]].hist(temp_df[var], bins = 20, color = colours[ax_list[y][1]]);\n",
    "    axes[ax_list[y]].set_ylim(0,y_lims[y])\n",
    "    axes[ax_list[y]].set(title = f'{var} distribution', xlabel = var, ylabel = 'counts') \n",
    "    y+=1\n",
    "fig.tight_layout();"
   ]
  },
  {
   "cell_type": "markdown",
   "id": "69834cce",
   "metadata": {},
   "source": [
    "* Ret_count, reply_count, like_count, quote_count: high proportion have <= 1. Fast decay from 0.\n",
    "* followeing_count, followers_count: distribution similar. Slower decay from 0.\n",
    "* tweet_count: potentially bot users for tweets more than 1Million\n",
    "* tweet_age: fairly uniform, peak at 100 mins ago (taken at 11 am UK, so peak at ~11 am UTC or ~8pm HongKong time, 5pm New Delhi time)\n",
    "* profile_tweet_diff: decreases with time (expected, more active users (as our sample is only tweets in last 7 days) are more new)"
   ]
  },
  {
   "cell_type": "code",
   "execution_count": 30,
   "id": "f3ccefbc",
   "metadata": {},
   "outputs": [],
   "source": [
    "# Correlation for num variables (bring in the cat variables so we can see all correlations)\n",
    "corr_df = master_df.copy()\n",
    "\n",
    "corr_df['source Twitter Web App'] = pd.get_dummies(corr_df['source'])['Twitter Web App']\n",
    "corr_df['source Twitter for Android'] = pd.get_dummies(corr_df['source'])['Twitter for Android']\n",
    "corr_df['source Twitter for iPhone'] = pd.get_dummies(corr_df['source'])['Twitter for iPhone']\n",
    "corr_df['source other'] = pd.get_dummies(corr_df['source'])['other']\n",
    "\n",
    "corr_df['media_type None'] = pd.get_dummies(corr_df['media_type'])['None']\n",
    "corr_df['media_type animated_gif'] = pd.get_dummies(corr_df['media_type'])['animated_gif']\n",
    "corr_df['media_type photo'] = pd.get_dummies(corr_df['media_type'])['photo']\n",
    "corr_df['media_type video'] = pd.get_dummies(corr_df['media_type'])['video']\n",
    "\n",
    "corr_df['verified'] = corr_df['verified'].astype(int)\n",
    "corr_df['profile_ht'] = corr_df['profile_ht'].astype(int)\n",
    "corr_df['tweet_ht'] = corr_df['tweet_ht'].astype(int)"
   ]
  },
  {
   "cell_type": "code",
   "execution_count": 31,
   "id": "8daf4bbe",
   "metadata": {},
   "outputs": [
    {
     "data": {
      "image/png": "[encoded data removed]",
      "text/plain": [
       "<Figure size 720x720 with 2 Axes>"
      ]
     },
     "metadata": {},
     "output_type": "display_data"
    }
   ],
   "source": [
    "corr_df = corr_df.corr()\n",
    "plt.subplots(figsize = (10,10))\n",
    "sns.heatmap(corr_df);"
   ]
  },
  {
   "cell_type": "markdown",
   "id": "9c2524fc",
   "metadata": {},
   "source": [
    "* All public tweet metrics (ret_count reply_count like_count quote_count) are highly correlated (might just look at one asa proxy for the others)?.\n",
    "* user_tweet_count, follower_count, profile_tweet_diff and verified are all somewhat correlated.\n",
    "* media_type: interestingly photo has a slight correlation with tweet_ht (otherwise no correlations).\n",
    "* source: interestingly other has a greater correlation with verified and tweet_ht than other sources."
   ]
  },
  {
   "cell_type": "markdown",
   "id": "251ebfd2",
   "metadata": {},
   "source": [
    "# 4 Questions:\n",
    "\n",
    "## 4.1 How to get the most favourable tweets?\n",
    "* Assume ret_count reply_count like_count quote_count are good predictors of tweet favourability\n",
    "* Due to high correlation of these metrics, can chooose just one as a proxy to look at: choose \"like_count\".\n",
    "* likely explanatory variables that may influence tweet favourability:\n",
    "    * cat: source, verified, media_type, tweet_ht\n",
    "    * num: no followers, tweet_age_mins"
   ]
  },
  {
   "cell_type": "markdown",
   "id": "3d585396",
   "metadata": {},
   "source": [
    "* Plot two ways for these variables and like count"
   ]
  },
  {
   "cell_type": "code",
   "execution_count": 32,
   "id": "63224b87",
   "metadata": {},
   "outputs": [],
   "source": [
    "# 2 way distribution\n",
    "# scatter plot of followers_count and like_count unhelpful, as hard to show any correlation with so many data point having 0 likes etc.\n",
    "#instead, band the numerical variables and plot them similarly to categorical variables\n",
    "master_df['followers_count_banded'] =  pd.qcut(master_df['followers_count'],5, labels = [1,2,3,4,5])\n",
    "# master_df2['followers_count_banded']= master_df2['followers_count_banded'].astype(str)\n",
    "master_df['tweet_age_mins_banded'] =  pd.qcut(master_df['tweet_age_mins'],5, labels = [1,2,3,4,5])\n",
    "master_df['tweet_age_mins_banded'] = master_df['tweet_age_mins_banded'].astype(str)\n",
    "\n",
    "master_df['verified'] = master_df['verified'].astype(str)\n",
    "master_df['tweet_ht'] = master_df['tweet_ht'].astype(str)"
   ]
  },
  {
   "cell_type": "code",
   "execution_count": 33,
   "id": "f0cf5c95",
   "metadata": {},
   "outputs": [
    {
     "name": "stdout",
     "output_type": "stream",
     "text": [
      "N.B. Followers count banded and tweet age mins banded groups contain 20% of rows ordered by Followers_count increasing and tweet age mins increasing respectively\n"
     ]
    },
    {
     "data": {
      "image/png": "[encoded data removed]",
      "text/plain": [
       "<Figure size 864x576 with 6 Axes>"
      ]
     },
     "metadata": {},
     "output_type": "display_data"
    }
   ],
   "source": [
    "# Visualising how variables affect a tweets like count with bar charts\n",
    "y=0\n",
    "ax_list =[(0,0),(0,1),(0,2),(1,0),(1,1),(1,2)]\n",
    "colours = ['b','r','g']\n",
    "fig, axes = plt.subplots(nrows=2, ncols=3, figsize = (12,8), squeeze = False)\n",
    "vars_list = ['verified', 'source', 'media_type', 'tweet_ht','followers_count_banded','tweet_age_mins_banded']\n",
    "for var in vars_list:\n",
    "\n",
    "    items = list(master_df[['like_count',var]].groupby(var).mean()['like_count'].index)\n",
    "    mean_likes = list(master_df[['like_count',var]].groupby(var).mean()['like_count'].values)\n",
    "    axes[ax_list[y]].bar(items, mean_likes, color = colours[ax_list[y][1]])\n",
    "    axes[ax_list[y]].set(title = f'Mean like count by {var}', xlabel = var, ylabel = 'Like counts')\n",
    "    \n",
    "#     rotating messes up the labels for some reason..\n",
    "#     axes[ax_list[y]].set_xticklabels(items, Rotation = 5)\n",
    "    y+=1;\n",
    "fig.tight_layout()\n",
    "print('N.B. Followers count banded and tweet age mins banded groups contain 20% of rows ordered by Followers_count increasing and tweet age mins increasing respectively')\n"
   ]
  },
  {
   "cell_type": "markdown",
   "id": "02f20dce",
   "metadata": {},
   "source": [
    "* Of categorical variables, using like_count as proxy for favourability:\n",
    "    * verified is best way to get greater favourability\n",
    "        * But verified is correlated with number followers and auther tweet count! - Determine which is driving favourability up\n",
    "    * Source: other, has lowest favourability, we saw earlier the correlation with verified, (but this is not enough to increase its like count mean as verified makes up only a small proportion of authors. Also saw other is correlated with author tweet_count, could be that source: other is most likely to have bots? Few followers/likes, many tweets?\n",
    "    * Having any media (especially video) in tweet hugely helps favourability - (seen earlier no correlations with any variables that determine favourability) - so can say that this correlation is genuine.\n",
    "    * having a # in tweet interestingly doesn't increase favourability!\n",
    "    * having more followers increases favourability: logically this is likely the reason for greater favourability rather than verified flag (tbc later)\n",
    "    * unexpectedly there is little correlation of like count mean with tweet age."
   ]
  },
  {
   "cell_type": "markdown",
   "id": "f7fa6d3c",
   "metadata": {},
   "source": [
    "## 4.2 Deeper dive into verified status. Are there requirements? And does it actually help your visibility?:\n",
    "* Twitter defines verified as: Notable (represent prominent brand or figure), Authentic (documents to proove authenticity) and Active:\n",
    "* But what does it mean in terms of twitter based metrics to be verified? Is there a min no. followers cutoff required?\n",
    "* Does verifiability actually help your visibility?"
   ]
  },
  {
   "cell_type": "code",
   "execution_count": 34,
   "id": "93e40f20",
   "metadata": {},
   "outputs": [
    {
     "data": {
      "text/plain": [
       "0    42339\n",
       "1     2013\n",
       "Name: verified, dtype: int64"
      ]
     },
     "execution_count": 34,
     "metadata": {},
     "output_type": "execute_result"
    }
   ],
   "source": [
    "master_df['verified'].value_counts()"
   ]
  },
  {
   "cell_type": "markdown",
   "id": "3d65d75c",
   "metadata": {},
   "source": [
    "2000 verified users sample size"
   ]
  },
  {
   "cell_type": "code",
   "execution_count": 35,
   "id": "cfda16ca",
   "metadata": {},
   "outputs": [
    {
     "data": {
      "text/html": [
       "<div>\n",
       "<style scoped>\n",
       "    .dataframe tbody tr th:only-of-type {\n",
       "        vertical-align: middle;\n",
       "    }\n",
       "\n",
       "    .dataframe tbody tr th {\n",
       "        vertical-align: top;\n",
       "    }\n",
       "\n",
       "    .dataframe thead th {\n",
       "        text-align: right;\n",
       "    }\n",
       "</style>\n",
       "<table border=\"1\" class=\"dataframe\">\n",
       "  <thead>\n",
       "    <tr style=\"text-align: right;\">\n",
       "      <th></th>\n",
       "      <th>minimum</th>\n",
       "      <th>maximum</th>\n",
       "    </tr>\n",
       "  </thead>\n",
       "  <tbody>\n",
       "    <tr>\n",
       "      <th>ret_count</th>\n",
       "      <td>0</td>\n",
       "      <td>796</td>\n",
       "    </tr>\n",
       "    <tr>\n",
       "      <th>reply_count</th>\n",
       "      <td>0</td>\n",
       "      <td>75</td>\n",
       "    </tr>\n",
       "    <tr>\n",
       "      <th>like_count</th>\n",
       "      <td>0</td>\n",
       "      <td>4056</td>\n",
       "    </tr>\n",
       "    <tr>\n",
       "      <th>quote_count</th>\n",
       "      <td>0</td>\n",
       "      <td>65</td>\n",
       "    </tr>\n",
       "    <tr>\n",
       "      <th>followers_count</th>\n",
       "      <td>124</td>\n",
       "      <td>5145740</td>\n",
       "    </tr>\n",
       "    <tr>\n",
       "      <th>following_count</th>\n",
       "      <td>0</td>\n",
       "      <td>31864</td>\n",
       "    </tr>\n",
       "    <tr>\n",
       "      <th>user_tweet_count</th>\n",
       "      <td>30</td>\n",
       "      <td>1496104</td>\n",
       "    </tr>\n",
       "    <tr>\n",
       "      <th>tweet_age_mins</th>\n",
       "      <td>0</td>\n",
       "      <td>1439</td>\n",
       "    </tr>\n",
       "    <tr>\n",
       "      <th>profile_tweet_diff</th>\n",
       "      <td>77</td>\n",
       "      <td>5454</td>\n",
       "    </tr>\n",
       "  </tbody>\n",
       "</table>\n",
       "</div>"
      ],
      "text/plain": [
       "                    minimum  maximum\n",
       "ret_count                 0      796\n",
       "reply_count               0       75\n",
       "like_count                0     4056\n",
       "quote_count               0       65\n",
       "followers_count         124  5145740\n",
       "following_count           0    31864\n",
       "user_tweet_count         30  1496104\n",
       "tweet_age_mins            0     1439\n",
       "profile_tweet_diff       77     5454"
      ]
     },
     "execution_count": 35,
     "metadata": {},
     "output_type": "execute_result"
    }
   ],
   "source": [
    "mini = master_df[master_df['verified']=='1'][num_vars].min()\n",
    "maxi = master_df[master_df['verified']=='1'][num_vars].max()\n",
    "stats_df = pd.DataFrame(mini, index = num_vars, columns=['minimum'])\n",
    "stats_df['maximum'] = maxi\n",
    "stats_df"
   ]
  },
  {
   "cell_type": "code",
   "execution_count": 36,
   "id": "72e8498d",
   "metadata": {},
   "outputs": [
    {
     "name": "stderr",
     "output_type": "stream",
     "text": [
      "C:\\Users\\farqu\\anaconda3\\lib\\site-packages\\pandas\\core\\arraylike.py:364: RuntimeWarning: divide by zero encountered in log10\n",
      "  result = getattr(ufunc, method)(*inputs, **kwargs)\n"
     ]
    },
    {
     "data": {
      "image/png": "[encoded data removed]",
      "text/plain": [
       "<Figure size 720x216 with 1 Axes>"
      ]
     },
     "metadata": {},
     "output_type": "display_data"
    }
   ],
   "source": [
    "fig,ax = plt.subplots(figsize = (10,3))\n",
    "sns.scatterplot(x=np.log10(master_df['followers_count']),y=1,\n",
    "                hue = master_df['verified'],\n",
    "                size = master_df['verified'], sizes = (100,20))\n",
    "\n",
    "ax.set(title = f'Verified flag vs. Log10 followers_count', xlabel = 'Log10 followers_count');"
   ]
  },
  {
   "cell_type": "markdown",
   "id": "ba0988b6",
   "metadata": {},
   "source": [
    "* All authors with > ~1Million followers are verified\n",
    "* All verified accounts have non zero followers_count and tweet_count.\n",
    "* Conclusion: No obvious cutoff here to be a verified users, but nearly all authors with a large following are verified."
   ]
  },
  {
   "cell_type": "code",
   "execution_count": 37,
   "id": "6f2a219c",
   "metadata": {},
   "outputs": [
    {
     "data": {
      "image/png": "[encoded data removed]",
      "text/plain": [
       "<Figure size 576x720 with 1 Axes>"
      ]
     },
     "metadata": {},
     "output_type": "display_data"
    }
   ],
   "source": [
    "fig,ax = plt.subplots(figsize = (8,10))\n",
    "sns.boxplot(data = master_df, x = 'verified',y = 'user_tweet_count');\n",
    "ax.legend(handles = ax.lines[::], labels=[\"0 : Non-verified\",\"1 : Verified\"])\n",
    "ax.set(title = f'Author no. of tweets box plot by verified flag', xlabel = 'Verified flag');"
   ]
  },
  {
   "cell_type": "markdown",
   "id": "daf4a326",
   "metadata": {},
   "source": [
    "* Verified users have in general more tweets (higher min, max, mode, mean)\n",
    "* No verified tweet author has >~1.5 M tweets.\n",
    "* Taking verified as a subset sample of tweet users that we know are organic, real users, we can say that it is likely that if an author has >1.5M tweets it is likely they are non-organic, i.e. a bot"
   ]
  },
  {
   "cell_type": "code",
   "execution_count": 38,
   "id": "1e8726d5",
   "metadata": {},
   "outputs": [],
   "source": [
    "# should attempt to filter out bots for fairer analysis\n",
    "# removing rows with author > 1.5M tweets\n",
    "master_df = master_df[master_df['user_tweet_count']<1500000]"
   ]
  },
  {
   "cell_type": "markdown",
   "id": "e41e28fe",
   "metadata": {},
   "source": [
    "* Seen that verifiability correlates with like count, but do users of similar number of followers but without verified status perform similarly?\n",
    "* i.e. whats the relationship of followers to no. likes, and does this change if user is verified?\n"
   ]
  },
  {
   "cell_type": "code",
   "execution_count": 39,
   "id": "6cf19064",
   "metadata": {},
   "outputs": [],
   "source": [
    "# create followers count deciles column\n",
    "master_df['followers_count_banded_10'] =  pd.qcut(master_df['followers_count'],10, labels = [1,2,3,4,5,6,7,8,9,10])\n",
    "\n",
    "# Split dataframe into verified and non verified users\n",
    "verified_users_df = master_df[master_df['verified']=='1']\n",
    "non_verified_users_df = master_df[master_df['verified']=='0']"
   ]
  },
  {
   "cell_type": "code",
   "execution_count": 40,
   "id": "41f6ec7b",
   "metadata": {},
   "outputs": [
    {
     "data": {
      "text/html": [
       "<div>\n",
       "<style scoped>\n",
       "    .dataframe tbody tr th:only-of-type {\n",
       "        vertical-align: middle;\n",
       "    }\n",
       "\n",
       "    .dataframe tbody tr th {\n",
       "        vertical-align: top;\n",
       "    }\n",
       "\n",
       "    .dataframe thead th {\n",
       "        text-align: right;\n",
       "    }\n",
       "</style>\n",
       "<table border=\"1\" class=\"dataframe\">\n",
       "  <thead>\n",
       "    <tr style=\"text-align: right;\">\n",
       "      <th></th>\n",
       "      <th>non_verified_followers</th>\n",
       "      <th>non_verified_count</th>\n",
       "      <th>non_verified_likes</th>\n",
       "      <th>verified_followers</th>\n",
       "      <th>verified_count</th>\n",
       "      <th>verified_likes</th>\n",
       "    </tr>\n",
       "  </thead>\n",
       "  <tbody>\n",
       "    <tr>\n",
       "      <th>0</th>\n",
       "      <td>5.699547</td>\n",
       "      <td>4633</td>\n",
       "      <td>0.701058</td>\n",
       "      <td>NaN</td>\n",
       "      <td>0</td>\n",
       "      <td>NaN</td>\n",
       "    </tr>\n",
       "    <tr>\n",
       "      <th>1</th>\n",
       "      <td>28.978835</td>\n",
       "      <td>4394</td>\n",
       "      <td>0.898270</td>\n",
       "      <td>NaN</td>\n",
       "      <td>0</td>\n",
       "      <td>NaN</td>\n",
       "    </tr>\n",
       "    <tr>\n",
       "      <th>2</th>\n",
       "      <td>68.390928</td>\n",
       "      <td>4277</td>\n",
       "      <td>1.660744</td>\n",
       "      <td>NaN</td>\n",
       "      <td>0</td>\n",
       "      <td>NaN</td>\n",
       "    </tr>\n",
       "    <tr>\n",
       "      <th>3</th>\n",
       "      <td>151.378082</td>\n",
       "      <td>4462</td>\n",
       "      <td>1.961900</td>\n",
       "      <td>150.000000</td>\n",
       "      <td>4</td>\n",
       "      <td>1.000000</td>\n",
       "    </tr>\n",
       "    <tr>\n",
       "      <th>4</th>\n",
       "      <td>272.822666</td>\n",
       "      <td>4359</td>\n",
       "      <td>2.267951</td>\n",
       "      <td>NaN</td>\n",
       "      <td>0</td>\n",
       "      <td>NaN</td>\n",
       "    </tr>\n",
       "    <tr>\n",
       "      <th>5</th>\n",
       "      <td>471.357208</td>\n",
       "      <td>4398</td>\n",
       "      <td>3.425421</td>\n",
       "      <td>442.166667</td>\n",
       "      <td>6</td>\n",
       "      <td>1.833333</td>\n",
       "    </tr>\n",
       "    <tr>\n",
       "      <th>6</th>\n",
       "      <td>816.880724</td>\n",
       "      <td>4586</td>\n",
       "      <td>4.006106</td>\n",
       "      <td>892.809524</td>\n",
       "      <td>21</td>\n",
       "      <td>4.428571</td>\n",
       "    </tr>\n",
       "    <tr>\n",
       "      <th>7</th>\n",
       "      <td>1522.993908</td>\n",
       "      <td>4104</td>\n",
       "      <td>5.190789</td>\n",
       "      <td>1428.086957</td>\n",
       "      <td>115</td>\n",
       "      <td>6.286957</td>\n",
       "    </tr>\n",
       "    <tr>\n",
       "      <th>8</th>\n",
       "      <td>3754.964867</td>\n",
       "      <td>4241</td>\n",
       "      <td>10.546805</td>\n",
       "      <td>4193.922727</td>\n",
       "      <td>220</td>\n",
       "      <td>11.163636</td>\n",
       "    </tr>\n",
       "    <tr>\n",
       "      <th>9</th>\n",
       "      <td>24977.725275</td>\n",
       "      <td>2730</td>\n",
       "      <td>25.830037</td>\n",
       "      <td>317009.359441</td>\n",
       "      <td>1647</td>\n",
       "      <td>42.101396</td>\n",
       "    </tr>\n",
       "  </tbody>\n",
       "</table>\n",
       "</div>"
      ],
      "text/plain": [
       "   non_verified_followers  non_verified_count  non_verified_likes  \\\n",
       "0                5.699547                4633            0.701058   \n",
       "1               28.978835                4394            0.898270   \n",
       "2               68.390928                4277            1.660744   \n",
       "3              151.378082                4462            1.961900   \n",
       "4              272.822666                4359            2.267951   \n",
       "5              471.357208                4398            3.425421   \n",
       "6              816.880724                4586            4.006106   \n",
       "7             1522.993908                4104            5.190789   \n",
       "8             3754.964867                4241           10.546805   \n",
       "9            24977.725275                2730           25.830037   \n",
       "\n",
       "   verified_followers  verified_count  verified_likes  \n",
       "0                 NaN               0             NaN  \n",
       "1                 NaN               0             NaN  \n",
       "2                 NaN               0             NaN  \n",
       "3          150.000000               4        1.000000  \n",
       "4                 NaN               0             NaN  \n",
       "5          442.166667               6        1.833333  \n",
       "6          892.809524              21        4.428571  \n",
       "7         1428.086957             115        6.286957  \n",
       "8         4193.922727             220       11.163636  \n",
       "9       317009.359441            1647       42.101396  "
      ]
     },
     "execution_count": 40,
     "metadata": {},
     "output_type": "execute_result"
    }
   ],
   "source": [
    "# create dataframe of relevant metrics grouped by followes count deciles column\n",
    "verified_analysis_df = pd.DataFrame()\n",
    "\n",
    "verified_analysis_df['non_verified_followers'] = non_verified_users_df.groupby('followers_count_banded_10')['followers_count'].mean().values\n",
    "verified_analysis_df['non_verified_count'] = non_verified_users_df.groupby('followers_count_banded_10')['followers_count'].count().values\n",
    "verified_analysis_df['non_verified_likes'] = non_verified_users_df.groupby('followers_count_banded_10')['like_count'].mean().values\n",
    "\n",
    "verified_analysis_df['verified_followers'] = verified_users_df.groupby('followers_count_banded_10')['followers_count'].mean().values\n",
    "verified_analysis_df['verified_count'] = verified_users_df.groupby('followers_count_banded_10')['followers_count'].count().values\n",
    "verified_analysis_df['verified_likes'] = verified_users_df.groupby('followers_count_banded_10')['like_count'].mean().values\n",
    "\n",
    "verified_analysis_df"
   ]
  },
  {
   "cell_type": "code",
   "execution_count": 42,
   "id": "c3a4219a",
   "metadata": {},
   "outputs": [
    {
     "data": {
      "image/png": "[encoded data removed]",
      "text/plain": [
       "<Figure size 720x360 with 1 Axes>"
      ]
     },
     "metadata": {},
     "output_type": "display_data"
    }
   ],
   "source": [
    "fig,ax1 = plt.subplots(figsize = (10,5))\n",
    "# ax2 = ax1.twinx()\n",
    "\n",
    "ax1.scatter(x= np.log(verified_analysis_df['non_verified_followers']), y= verified_analysis_df['non_verified_likes'])\n",
    "ax1.scatter(x= np.log(verified_analysis_df['verified_followers']), y= verified_analysis_df['verified_likes'], c = 'r')\n",
    "\n",
    "ax1.set(title = f'Like count by followers count (split by verified)', xlabel = 'Log (Followers count)', ylabel = 'Like counts');"
   ]
  },
  {
   "cell_type": "markdown",
   "id": "50cfc2e7",
   "metadata": {},
   "source": [
    "* As log followers increases at first likes go up exponentially, then past a certain limit (~e^7 followers) relationship of log followers to likes is linear.\n",
    "* Additionally, from this graph it appears that verified status does not have an impact on this relationship. Thus verified status does not increase favourability of tweets.\n",
    "* (Worth noting there are not many verified authors in some of the buckets (see df cell above)\n"
   ]
  },
  {
   "cell_type": "markdown",
   "id": "2c9baf52",
   "metadata": {},
   "source": [
    "## Qu. 4.3: Behaviour analysis: Does hashtag in profile mean a tendency for user to put hashtag in recent tweets\n",
    "* classification model\n",
    "* is correlation lower if profile created date further away?"
   ]
  },
  {
   "cell_type": "code",
   "execution_count": 43,
   "id": "0cc1ab1a",
   "metadata": {},
   "outputs": [],
   "source": [
    "master_df['profile_ht_tweet_ht'] = master_df['tweet_ht'] + \"-\" + master_df['profile_ht']"
   ]
  },
  {
   "cell_type": "code",
   "execution_count": 44,
   "id": "ee07e0d4",
   "metadata": {},
   "outputs": [
    {
     "name": "stdout",
     "output_type": "stream",
     "text": [
      "Sample size:  44197\n",
      "Given no ht in profile, ratio of ht in tweet:no ht in tweet:  0.129\n",
      "Given ht in profile, ratio of ht in tweet:no ht in tweet:  0.211\n",
      "Given ht in profile, increased probability of ht in tweet is:  1.643\n"
     ]
    }
   ],
   "source": [
    "profile_ht_tweet_ht = master_df.groupby(['profile_ht_tweet_ht'])['profile_ht_tweet_ht'].count()\n",
    "ratio_without = profile_ht_tweet_ht['0-1'] / profile_ht_tweet_ht['0-0']\n",
    "ratio_with = profile_ht_tweet_ht['1-1'] / profile_ht_tweet_ht['1-0']\n",
    "ratio_with/ratio_without\n",
    "print('Sample size: ', master_df.shape[0])\n",
    "print('Given no ht in profile, ratio of ht in tweet:no ht in tweet: ', round(ratio_without,3))\n",
    "print('Given ht in profile, ratio of ht in tweet:no ht in tweet: ', round(ratio_with,3))\n",
    "print('Given ht in profile, increased probability of ht in tweet is: ', round(ratio_with/ratio_without,3))\n"
   ]
  },
  {
   "cell_type": "code",
   "execution_count": 45,
   "id": "107f390c",
   "metadata": {},
   "outputs": [
    {
     "name": "stdout",
     "output_type": "stream",
     "text": [
      "HT not in profile:  4067 in 35656\n",
      "HT in profile:  1491 in 8541\n",
      "p value:  3.906839096265922e-52\n"
     ]
    }
   ],
   "source": [
    "# Is this statistically significant?\n",
    "# H0 - having ht in a recent tweet is independent of having  ht in profile description\n",
    "# H1 - having ht in profile does increase prob. of having ht in a recent tweet\n",
    "# independent means statistical test\n",
    "# one tailed larger (larger) test\n",
    "# Set p_val for statistically significant observation as: 0.025\n",
    "\n",
    "print('HT not in profile: ', profile_ht_tweet_ht['0-1'], 'in', profile_ht_tweet_ht['0-1'] + profile_ht_tweet_ht['0-0'])\n",
    "print('HT in profile: ', profile_ht_tweet_ht['1-1'], 'in', profile_ht_tweet_ht['1-1'] + profile_ht_tweet_ht['1-0'])\n",
    "\n",
    "stat,p_val = sm.stats.proportions_ztest([1491,4067],[8541,35656], alternative = 'larger')\n",
    "print(\"p value: \",p_val)"
   ]
  },
  {
   "cell_type": "markdown",
   "id": "bbe4dae1",
   "metadata": {},
   "source": [
    "* test p_val << 0.025, so change in ratio depending on authors ht in profile description is statistically significant.\n",
    "* Having ht in profile description does increase tendency to have a ht in a recent tweet"
   ]
  },
  {
   "cell_type": "markdown",
   "id": "623d60fe",
   "metadata": {},
   "source": [
    "#### Lets assume that people are likely to only have changed their profile description when they created it.\n",
    "* Therefore if the time from profile created to a tweet increases, then we might expect the profile_ht/tweet_ht relationship to deteriorate as time increases.\n",
    "* Question: does relationship decrease as profile created date gets further away?"
   ]
  },
  {
   "cell_type": "code",
   "execution_count": 46,
   "id": "57a7cc50",
   "metadata": {},
   "outputs": [
    {
     "data": {
      "text/html": [
       "<div>\n",
       "<style scoped>\n",
       "    .dataframe tbody tr th:only-of-type {\n",
       "        vertical-align: middle;\n",
       "    }\n",
       "\n",
       "    .dataframe tbody tr th {\n",
       "        vertical-align: top;\n",
       "    }\n",
       "\n",
       "    .dataframe thead th {\n",
       "        text-align: right;\n",
       "    }\n",
       "</style>\n",
       "<table border=\"1\" class=\"dataframe\">\n",
       "  <thead>\n",
       "    <tr style=\"text-align: right;\">\n",
       "      <th></th>\n",
       "      <th>profile_tweet_diff</th>\n",
       "      <th>profile_ht ratio</th>\n",
       "    </tr>\n",
       "    <tr>\n",
       "      <th>profile_tweet_diff_deciles</th>\n",
       "      <th></th>\n",
       "      <th></th>\n",
       "    </tr>\n",
       "  </thead>\n",
       "  <tbody>\n",
       "    <tr>\n",
       "      <th>1</th>\n",
       "      <td>68.080551</td>\n",
       "      <td>0.078919</td>\n",
       "    </tr>\n",
       "    <tr>\n",
       "      <th>2</th>\n",
       "      <td>248.921595</td>\n",
       "      <td>0.282883</td>\n",
       "    </tr>\n",
       "    <tr>\n",
       "      <th>3</th>\n",
       "      <td>533.767663</td>\n",
       "      <td>0.155200</td>\n",
       "    </tr>\n",
       "    <tr>\n",
       "      <th>4</th>\n",
       "      <td>934.085534</td>\n",
       "      <td>0.268344</td>\n",
       "    </tr>\n",
       "    <tr>\n",
       "      <th>5</th>\n",
       "      <td>1578.146259</td>\n",
       "      <td>0.232639</td>\n",
       "    </tr>\n",
       "    <tr>\n",
       "      <th>6</th>\n",
       "      <td>2347.333937</td>\n",
       "      <td>0.158042</td>\n",
       "    </tr>\n",
       "    <tr>\n",
       "      <th>7</th>\n",
       "      <td>3148.144344</td>\n",
       "      <td>0.283356</td>\n",
       "    </tr>\n",
       "    <tr>\n",
       "      <th>8</th>\n",
       "      <td>3700.117514</td>\n",
       "      <td>0.239092</td>\n",
       "    </tr>\n",
       "    <tr>\n",
       "      <th>9</th>\n",
       "      <td>4254.659286</td>\n",
       "      <td>0.221757</td>\n",
       "    </tr>\n",
       "    <tr>\n",
       "      <th>10</th>\n",
       "      <td>4717.389834</td>\n",
       "      <td>0.232796</td>\n",
       "    </tr>\n",
       "  </tbody>\n",
       "</table>\n",
       "</div>"
      ],
      "text/plain": [
       "                            profile_tweet_diff  profile_ht ratio\n",
       "profile_tweet_diff_deciles                                      \n",
       "1                                    68.080551          0.078919\n",
       "2                                   248.921595          0.282883\n",
       "3                                   533.767663          0.155200\n",
       "4                                   934.085534          0.268344\n",
       "5                                  1578.146259          0.232639\n",
       "6                                  2347.333937          0.158042\n",
       "7                                  3148.144344          0.283356\n",
       "8                                  3700.117514          0.239092\n",
       "9                                  4254.659286          0.221757\n",
       "10                                 4717.389834          0.232796"
      ]
     },
     "execution_count": 46,
     "metadata": {},
     "output_type": "execute_result"
    }
   ],
   "source": [
    "# Create 10 data points: get ratio of ht in tweet or not for authors with ht in profile at different time since profile created points\n",
    "master_df['profile_tweet_diff_deciles'] = pd.qcut(master_df['profile_tweet_diff'],10, labels = range(1,11))\n",
    "\n",
    "temp_df = pd.DataFrame()\n",
    "temp_df['profile_tweet_diff_deciles'] = master_df['profile_tweet_diff_deciles']\n",
    "temp_df['profile_tweet_diff'] = master_df['profile_tweet_diff']\n",
    "for x in ['0-0','0-1','1-0','1-1']:\n",
    "    temp_df[x] = np.where(master_df['profile_ht_tweet_ht'] ==x,1,0)\n",
    "    \n",
    "temp_df = temp_df.groupby('profile_tweet_diff_deciles').mean()\n",
    "\n",
    "temp_df['no profile_ht ratio'] = temp_df['0-1'] / temp_df['0-0']\n",
    "temp_df['profile_ht ratio'] = temp_df['1-1'] / temp_df['1-0']\n",
    "temp_df[['profile_tweet_diff','profile_ht ratio']]"
   ]
  },
  {
   "cell_type": "code",
   "execution_count": 47,
   "id": "da5bbba9",
   "metadata": {},
   "outputs": [],
   "source": [
    "# Create linear regression model to see if theres a relationship between:\n",
    "# profile_tweet_diff (time) and profile_ht (if ht in tweet or not) ratio\n",
    "\n",
    "# (dont set intercept to 0)\n",
    "model = LinearRegression(fit_intercept=True)\n",
    "model.fit(np.array(temp_df['profile_tweet_diff']).reshape(10,1), np.array(temp_df['profile_ht ratio']).reshape(10,1));"
   ]
  },
  {
   "cell_type": "code",
   "execution_count": 48,
   "id": "4611bd63",
   "metadata": {},
   "outputs": [
    {
     "name": "stdout",
     "output_type": "stream",
     "text": [
      "Model coefficient:  [1.23093171e-05]\n",
      "r^2 score:  0.10497922322858322\n"
     ]
    }
   ],
   "source": [
    "\n",
    "\n",
    "y_pred = model.predict(np.array(temp_df['profile_tweet_diff']).reshape(10,1))\n",
    "r2 = r2_score(y_true = temp_df['profile_ht ratio'], y_pred = y_pred)\n",
    "print('Model coefficient: ',model.coef_[0])\n",
    "print(\"r^2 score: \", r2)\n"
   ]
  },
  {
   "cell_type": "markdown",
   "id": "e56ce8cb",
   "metadata": {},
   "source": [
    "* There is a slight negative relationship as hypothesised. (For authors with ht in their profile, as no. days from profile created to tweet increases, the probability the person will put a ht in their tweet decreases).\n",
    "* However, very bad r^2 metric, linear relatsionship is not a good fit"
   ]
  },
  {
   "cell_type": "code",
   "execution_count": 49,
   "id": "b7aaca31",
   "metadata": {},
   "outputs": [
    {
     "data": {
      "image/png": "[encoded data removed]",
      "text/plain": [
       "<Figure size 720x360 with 1 Axes>"
      ]
     },
     "metadata": {},
     "output_type": "display_data"
    }
   ],
   "source": [
    "# Visualise predicted relationship\n",
    "fig,ax1 = plt.subplots(figsize = (10,5))\n",
    "\n",
    "ax1.scatter(temp_df['profile_tweet_diff'],temp_df['profile_ht ratio'])\n",
    "ax1.plot(temp_df['profile_tweet_diff'] ,y_pred,color = 'red')\n",
    "\n",
    "ax1.set(title = f'For authors with ht in profile: Tweet ht ratio by Tweet to profile time created difference', xlabel = 'Tweet to profile time created difference', ylabel = 'ht in tweet:ht not in tweet ratio');"
   ]
  },
  {
   "cell_type": "markdown",
   "id": "1df39b68",
   "metadata": {},
   "source": [
    "* There is a noticeable negative relationship, but the linear model clearly doesnt explain much of the variance in the data. Hence there are clearly other factors at play.\n",
    "* Conclusion: For authors with ht in profile: As tweet to profile time created difference increases, likelihood of ht in tweet is liekly to decrease"
   ]
  },
  {
   "cell_type": "markdown",
   "id": "03a87d75",
   "metadata": {},
   "source": [
    "# 5. Conclusions and future work"
   ]
  },
  {
   "cell_type": "markdown",
   "id": "c0d6a96a",
   "metadata": {},
   "source": [
    "Qu.: 4.1 and 4.2:\n",
    "* We assumed that like count = quote count/rt count/reply count. Would be interesting to see (and quantify) how explanatory factors affect like count and these other tweet metrics differently. E.g. does no. followers increase like count by 1.5x, and reply count by 1.1x etc.\n",
    "* Instad of using like counts as a proxy for favourability, it would be commercially interesting to know what increases visibility, so to do the same analysis with a more complex visibility metric (e.g. a composition of no. followers, retweets, quotes etc. would be interesting.\n",
    "\n",
    "Qu.: 4.3:\n",
    "* There is clearly a behavioural relationship between authors profile and the authors tweet, and this relationship is shown to degrade over time (for one metric: hashtags). This is just one metric, so it would be interesting to see what other behavoiours/metrics are linked from a users tweet to their profile, and if they degrade by time as well.\n",
    "* Time is one factor that was explored, but what other factors could degrade/affect this behavioural relationship?"
   ]
  }
 ],
 "metadata": {
  "kernelspec": {
   "display_name": "Python 3 (ipykernel)",
   "language": "python",
   "name": "python3"
  },
  "language_info": {
   "codemirror_mode": {
    "name": "ipython",
    "version": 3
   },
   "file_extension": ".py",
   "mimetype": "text/x-python",
   "name": "python",
   "nbconvert_exporter": "python",
   "pygments_lexer": "ipython3",
   "version": "3.9.7"
  }
 },
 "nbformat": 4,
 "nbformat_minor": 5
}
