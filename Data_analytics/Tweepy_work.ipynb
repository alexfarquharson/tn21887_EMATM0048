{
 "cells": [
  {
   "cell_type": "code",
   "execution_count": 4,
   "id": "86d3e76d",
   "metadata": {},
   "outputs": [],
   "source": [
    "# Import modules"
   ]
  },
  {
   "cell_type": "code",
   "execution_count": 404,
   "id": "079c4d64",
   "metadata": {},
   "outputs": [],
   "source": [
    "import requests\n",
    "import tweepy\n",
    "import pandas as pd\n",
    "import numpy as np\n",
    "import matplotlib.pyplot as plt\n",
    "import seaborn as sns"
   ]
  },
  {
   "cell_type": "code",
   "execution_count": 458,
   "id": "00cf0c96",
   "metadata": {},
   "outputs": [],
   "source": [
    "# define parameters\n",
    "raw_data = \"twitter_raw_data.csv\"\n",
    "processed_data = \"twitter_processed_data.csv\""
   ]
  },
  {
   "cell_type": "code",
   "execution_count": null,
   "id": "30d00df8",
   "metadata": {},
   "outputs": [],
   "source": [
    "# Overview of data I have tested/experimented with"
   ]
  },
  {
   "cell_type": "code",
   "execution_count": null,
   "id": "ce4b7a63",
   "metadata": {},
   "outputs": [],
   "source": [
    "Tweet objects:\n",
    "    text - (tweet text)\n",
    "    attachments - (media_key to join media object)\n",
    "    author_id - (author_id to join user object)\n",
    "    context_annotations - (domain and entity pairs, (with id, name and description) - hard to use for project (text based analytics required))\n",
    "    created_at - tweet created datetime\n",
    "    public_metrics - (RT, reply, like, quote counts)\n",
    "    conversation_id - (key for..)\n",
    "    entities - (info on position and value of: url, hashtags, symbols, user_mentions, polls, media in tweet)\n",
    "    geo - (cant really use with essential access)\n",
    "    id - (tweet id)\n",
    "    in_reply_to_user_id - (id of user tweet is in reply to)\n",
    "    lang - (language)\n",
    "    referenced_tweets - (type,id of original tweet -e.g. if a retweet)\n",
    "    reply_settings - (who can reply)\n",
    "    source - (how accessed twitter, e.g. twitter for android)\n",
    "    withheld - (withheld information, not very helpful)\n",
    "    others - (not available or not useful with essential access)\n",
    "\n",
    "User objects:\n",
    "    id - (user id)\n",
    "    created_at - (datetime profile created)\n",
    "    description - (profile bio text)\n",
    "    entities - (info on position and value of: url, hashtags, symbols, user_mentions, media in description bio)\n",
    "    location - (place user created profile) frequently null or wrong\n",
    "    pinned_tweet_id - (tweet id of pinned tweet)\n",
    "    profile_image_url - (url of profile pic)\n",
    "    protected - (if user is private or not - should always be False for me (No following))\n",
    "    public_metrics - (followers_count, following_count, tweet_count, listed_count)\n",
    "    url - (url in bio)\n",
    "    username - (username)\n",
    "    verified - (is user if verified as that person or not (think this is for big public figures only))\n",
    "    withheld - (withheld information) \n",
    "    \n",
    "Media objects:\n",
    "    type - (type of media e.g. video/pic)\n",
    "    height\n",
    "    width\n",
    "    duration_ms - (ms duration, only for video)\n",
    "    public_metrics - (view count, only for video)\n",
    "    preview_image_url - (image url)\n",
    "    #the below three need user authentication\n",
    "    non_public_metrics - (playback times/quartiled)\n",
    "    organic_metrics - (playback times/quartiled tracked on organic basis)\n",
    "    promoted_metrics - (playback times/quartiled on promoted basis)\n",
    "    \n",
    "Space objects: (live streaming objects, not available after ended) - not useful for this project\n",
    "Poll objects: not useful for this project\n",
    "Place objects: (most of the other info to do with place is unavailable/hard to use with essential access)"
   ]
  },
  {
   "cell_type": "code",
   "execution_count": 233,
   "id": "b7dc4790",
   "metadata": {},
   "outputs": [],
   "source": [
    "# Get all accessible data deemed appropriate\n",
    "APP_ID = \"22591708\"\n",
    "App_name = \"alexanderfarqu2\"\n",
    "API_key = \"ON4SJ0U3Sb0ODjUk6ZquERxiv\"\n",
    "API_key_secret = \"g5JoHVL4uxCoFXLvEYTSojaEBPODyYmiI0bMeuvHYQt5JsyVE6\"\n",
    "bearer_token = \"AAAAAAAAAAAAAAAAAAAAANy4WAEAAAAAlTukwlSz2gZnDi9xKeo3lp471qM%3DxU6od5cFrnKdcLHZHXx2I6cp99WT6QnKOpirCWfm75U42yXth2\"\n",
    "access_token = \"1463912691429527556-rZ1rFU6GgR3a4xYcWdTbvsomCn5shl\"\n",
    "access_token_secret = \"qqU34qYcJ0B8iEZC82DZ6OZqzrYy8IBJ51UGNsLdXvKZh\"\n",
    "\n",
    "client = tweepy.Client(bearer_token = bearer_token)"
   ]
  },
  {
   "cell_type": "code",
   "execution_count": 234,
   "id": "1ef432bb",
   "metadata": {},
   "outputs": [],
   "source": [
    "# query data (through trial and error of testing what tweets I want)\n",
    "'''\n",
    "querying notes:\n",
    "    default is and logic (otherwise put or between words)\n",
    "    some useful filters: is:, has:, lang: (not all available with essential access like place_country:)\n",
    "        e.g. is:retweet lang:en has:images\n",
    "    - negates anything:\n",
    "        e.g. -snow -is:nullcast\n",
    "    group and/or logic with brackets:\n",
    "        e.g. (a b) or (c has:images)\n",
    "'''\n",
    "\n",
    "query = 'climbing has:media'"
   ]
  },
  {
   "cell_type": "code",
   "execution_count": 235,
   "id": "7cdeec05",
   "metadata": {},
   "outputs": [],
   "source": [
    "# list chosen from above\n",
    "tweet_fields=['attachments', 'author_id', 'created_at', 'public_metrics', 'conversation_id', 'entities', 'geo', 'id', 'in_reply_to_user_id','lang', 'referenced_tweets','reply_settings','source']"
   ]
  },
  {
   "cell_type": "code",
   "execution_count": 236,
   "id": "28d4f85b",
   "metadata": {},
   "outputs": [],
   "source": [
    "# many other expansions: author_id,referenced_tweets.id,referenced_tweets.id.author_id,entities.mentions.username,attachments.poll_ids,attachments.media_keys,in_reply_to_user_id,geo.place_id\n",
    "# just using expansions to get media and author info\n",
    "expansions = ['author_id', 'attachments.media_keys']"
   ]
  },
  {
   "cell_type": "code",
   "execution_count": 237,
   "id": "9cd8e180",
   "metadata": {},
   "outputs": [],
   "source": [
    "# list chosen from above\n",
    "user_fields = ['created_at','entities','id','profile_image_url','public_metrics','username','verified']"
   ]
  },
  {
   "cell_type": "code",
   "execution_count": 238,
   "id": "b2a1c81f",
   "metadata": {},
   "outputs": [],
   "source": [
    "media_fields = ['height','width','public_metrics']"
   ]
  },
  {
   "cell_type": "code",
   "execution_count": 273,
   "id": "cdb16218",
   "metadata": {},
   "outputs": [],
   "source": [
    "# extract data (not flattening as that would loose expansions data)\n",
    "tweets = []\n",
    "expan = []\n",
    "n=0\n",
    "for tweet in tweepy.Paginator(client.search_recent_tweets,\n",
    "                          query=query, \n",
    "                          tweet_fields = tweet_fields, \n",
    "                          user_fields = user_fields, \n",
    "                          max_results = 10, \n",
    "                          expansions = expansions,\n",
    "                          limit=2):\n",
    "    tweets.append(tweet[0])\n",
    "    expan.append(tweet[1])\n",
    "    n+=1"
   ]
  },
  {
   "cell_type": "code",
   "execution_count": 274,
   "id": "0488c94d",
   "metadata": {},
   "outputs": [],
   "source": [
    "# 1 dimensionalise tweets\n",
    "tweets = [tweet for sub in tweets for tweet in sub]"
   ]
  },
  {
   "cell_type": "code",
   "execution_count": 318,
   "id": "66c04118",
   "metadata": {},
   "outputs": [],
   "source": [
    "# extract user information\n",
    "users = []\n",
    "for el in expan:\n",
    "    users.append(el['users'])\n",
    "    \n",
    "# flatten\n",
    "users = [user for sub in users for user in sub]    "
   ]
  },
  {
   "cell_type": "code",
   "execution_count": 335,
   "id": "55d175af",
   "metadata": {},
   "outputs": [],
   "source": [
    "# extract media information\n",
    "medias = []\n",
    "for el in expan:\n",
    "    medias.append(el['media'])\n",
    "    \n",
    "# flatten\n",
    "medias = [media for sub in medias for media in sub]    "
   ]
  },
  {
   "cell_type": "code",
   "execution_count": 448,
   "id": "ee50f3ad",
   "metadata": {},
   "outputs": [],
   "source": [
    "# create tweet_df\n",
    "tweet_df = pd.DataFrame()\n",
    "# keys\n",
    "tweet_df['author_id']= [tweet.author_id for tweet in tweets]\n",
    "tweet_df['tweet_id']= [tweet.id for tweet in tweets]\n",
    "tweet_df['attachments']= [tweet.attachments for tweet in tweets]\n",
    "tweet_df['in_reply_to_user_id']= [tweet.in_reply_to_user_id for tweet in tweets] #drop?\n",
    "tweet_df['referenced_tweets']= [tweet.referenced_tweets for tweet in tweets] #drop?\n",
    "\n",
    "# cat variables\n",
    "tweet_df['text']= [tweet.text for tweet in tweets]\n",
    "tweet_df['lang']= [tweet.lang for tweet in tweets]\n",
    "tweet_df['source']= [tweet.source for tweet in tweets]\n",
    "tweet_df['reply_settings']= [tweet.reply_settings for tweet in tweets] # drop?\n",
    "tweet_df['entities']= [tweet.entities for tweet in tweets]\n",
    "\n",
    "\n",
    "# num variables\n",
    "tweet_df['ret_count']= [tweet.public_metrics['retweet_count'] for tweet in tweets]\n",
    "tweet_df['reply_count']= [tweet.public_metrics['reply_count']for tweet in tweets]\n",
    "tweet_df['like_count']= [tweet.public_metrics['like_count']for tweet in tweets]\n",
    "tweet_df['quote_count']= [tweet.public_metrics['quote_count']for tweet in tweets]\n",
    "\n",
    "#date variables\n",
    "tweet_df['created_at']= [tweet.created_at for tweet in tweets]"
   ]
  },
  {
   "cell_type": "code",
   "execution_count": 449,
   "id": "8e97e7c4",
   "metadata": {},
   "outputs": [
    {
     "data": {
      "text/plain": [
       "0"
      ]
     },
     "execution_count": 449,
     "metadata": {},
     "output_type": "execute_result"
    }
   ],
   "source": [
    "# get first media_key only from attachments\n",
    "x = {'media_keys':[0]}\n",
    "tweet_df['attachments'] = np.where(~tweet_df['attachments'].isna(),tweet_df['attachments'],x)\n",
    "tweet_df['attachments'].isna().sum()"
   ]
  },
  {
   "cell_type": "code",
   "execution_count": 450,
   "id": "0fb281d2",
   "metadata": {},
   "outputs": [],
   "source": [
    "media_keys = []\n",
    "for el in tweet_df['attachments']:\n",
    "    for v in el.values():\n",
    "        media_keys.append(v[0])"
   ]
  },
  {
   "cell_type": "code",
   "execution_count": 451,
   "id": "76ad3028",
   "metadata": {},
   "outputs": [],
   "source": [
    "tweet_df['media_key'] = media_keys\n",
    "tweet_df.drop(['attachments'], inplace = True, axis = 1)"
   ]
  },
  {
   "cell_type": "code",
   "execution_count": 453,
   "id": "a7d51c02",
   "metadata": {},
   "outputs": [],
   "source": [
    "# create users_df\n",
    "users_df = pd.DataFrame()\n",
    "# keys\n",
    "users_df['author_id']= [user.id for user in users]\n",
    "\n",
    "# num vars\n",
    "users_df['profile_created_at']= [user.created_at for user in users]\n",
    "users_df['followers_count']= [user.public_metrics['followers_count'] for user in users]\n",
    "users_df['following_count']= [user.public_metrics['following_count'] for user in users]\n",
    "users_df['user_tweet_count']= [user.public_metrics['tweet_count'] for user in users]\n",
    "\n",
    "# cat vars\n",
    "users_df['profile_entities']= [user.entities for user in users]\n",
    "users_df['username']= [user.username for user in users]\n",
    "users_df['verified']= [user.verified for user in users]"
   ]
  },
  {
   "cell_type": "code",
   "execution_count": 454,
   "id": "8dbc59b5",
   "metadata": {},
   "outputs": [],
   "source": [
    "# media_fields = ['height','width','public_metrics']\n",
    "media_df = pd.DataFrame()\n",
    "# keys\n",
    "media_df['media_key']= [media.media_key for media in medias]\n",
    "\n",
    "# cat vars\n",
    "media_df['media_type']= [media.type for media in medias]"
   ]
  },
  {
   "cell_type": "code",
   "execution_count": 455,
   "id": "21958214",
   "metadata": {},
   "outputs": [],
   "source": [
    "# join data frames\n",
    "master_df = tweet_df.merge(right = users_df, how = 'left', on = 'author_id').merge(right = media_df, how = 'left', on = 'media_key')"
   ]
  },
  {
   "cell_type": "code",
   "execution_count": 462,
   "id": "10f755a4",
   "metadata": {},
   "outputs": [],
   "source": [
    "# save raw dataframe\n",
    "master_df.to_csv(raw_data, index = False)"
   ]
  },
  {
   "cell_type": "code",
   "execution_count": null,
   "id": "1b64d94a",
   "metadata": {},
   "outputs": [],
   "source": [
    "cols_to_drop = ['reply_settings',]"
   ]
  },
  {
   "cell_type": "code",
   "execution_count": null,
   "id": "9199579e",
   "metadata": {},
   "outputs": [],
   "source": [
    "# qu.: \n",
    "#does hashtag in profile have a tendency for hashtag in recent tweets - link to profile created date?\n",
    "#Do hashtags promote visibility of the tweet?\n",
    "    (We are looking at only public tweets might have an affect on hashtags, and might be other correlations, people that use hashtags usually have moer followers)\n",
    "    For all types of media?"
   ]
  },
  {
   "cell_type": "code",
   "execution_count": null,
   "id": "c3aea275",
   "metadata": {},
   "outputs": [],
   "source": [
    "# metrics:\n",
    "#     if referenced a tweet\n",
    "#     if in reply to a tweet\n",
    "#     language\n",
    "#     source\n",
    "#     entities - if hashtag\n",
    "#     RT, replies, likes, quotes count\n",
    "#     when_created\n",
    "#     when profile_created\n",
    "#     profile_entities - if hashtag\n",
    "#     followers, following, no. tweets count\n",
    "#     verified\n",
    "#     media type (if any)"
   ]
  },
  {
   "cell_type": "code",
   "execution_count": 495,
   "id": "6d978954",
   "metadata": {},
   "outputs": [],
   "source": [
    "# Combine keys for ease\n",
    "master_df['tweet_id'] = master_df['tweet_id'].astype(str)\n",
    "master_df['author_id'] = master_df['author_id'].astype(str)\n",
    "master_df['media_key'] = master_df['media_key'].astype(str)\n",
    "master_df['id'] = master_df['tweet_id'] + \"-\" + master_df['author_id']  + \"-\" + master_df['media_key']\n",
    "keys = ['media_key', 'author_id', 'tweet_id']\n",
    "master_df.drop(keys, inplace = True, axis = 1)"
   ]
  },
  {
   "cell_type": "code",
   "execution_count": null,
   "id": "de34851e",
   "metadata": {},
   "outputs": [],
   "source": [
    "# Get list of cols - which ones to drop\n",
    "master_df.columns"
   ]
  },
  {
   "cell_type": "code",
   "execution_count": 498,
   "id": "4b6a8322",
   "metadata": {},
   "outputs": [],
   "source": [
    "# Drop cols that will not be helpful\n",
    "cols_to_drop = ['in_reply_to_user_id','referenced_tweets','lang','username']\n",
    "master_df.drop(cols_to_drop, axis = 1, inplace = True)"
   ]
  },
  {
   "cell_type": "code",
   "execution_count": 535,
   "id": "394eb769",
   "metadata": {},
   "outputs": [
    {
     "data": {
      "text/html": [
       "<div>\n",
       "<style scoped>\n",
       "    .dataframe tbody tr th:only-of-type {\n",
       "        vertical-align: middle;\n",
       "    }\n",
       "\n",
       "    .dataframe tbody tr th {\n",
       "        vertical-align: top;\n",
       "    }\n",
       "\n",
       "    .dataframe thead th {\n",
       "        text-align: right;\n",
       "    }\n",
       "</style>\n",
       "<table border=\"1\" class=\"dataframe\">\n",
       "  <thead>\n",
       "    <tr style=\"text-align: right;\">\n",
       "      <th></th>\n",
       "      <th>text</th>\n",
       "      <th>source</th>\n",
       "      <th>reply_settings</th>\n",
       "      <th>ret_count</th>\n",
       "      <th>reply_count</th>\n",
       "      <th>like_count</th>\n",
       "      <th>quote_count</th>\n",
       "      <th>created_at</th>\n",
       "      <th>profile_created_at</th>\n",
       "      <th>followers_count</th>\n",
       "      <th>...</th>\n",
       "      <th>user_tweet_count</th>\n",
       "      <th>verified</th>\n",
       "      <th>type</th>\n",
       "      <th>id</th>\n",
       "      <th>profile_hashtag</th>\n",
       "      <th>profile_ht</th>\n",
       "      <th>tweet_ht</th>\n",
       "      <th>created_at_t</th>\n",
       "      <th>profile_created_at_t</th>\n",
       "      <th>time_diff</th>\n",
       "    </tr>\n",
       "  </thead>\n",
       "  <tbody>\n",
       "    <tr>\n",
       "      <th>0</th>\n",
       "      <td>RT @brittany_sorg: Here is your #NewYears upda...</td>\n",
       "      <td>Twitter Web App</td>\n",
       "      <td>everyone</td>\n",
       "      <td>9</td>\n",
       "      <td>0</td>\n",
       "      <td>0</td>\n",
       "      <td>0</td>\n",
       "      <td>2022-01-03</td>\n",
       "      <td>2021-05-08</td>\n",
       "      <td>256</td>\n",
       "      <td>...</td>\n",
       "      <td>5598</td>\n",
       "      <td>False</td>\n",
       "      <td>NaN</td>\n",
       "      <td>1478018848087592963-1391116725849137154-0</td>\n",
       "      <td>0</td>\n",
       "      <td>0</td>\n",
       "      <td>1</td>\n",
       "      <td>2022-01-03</td>\n",
       "      <td>2021-05-08</td>\n",
       "      <td>240 days</td>\n",
       "    </tr>\n",
       "    <tr>\n",
       "      <th>1</th>\n",
       "      <td>@NexoFinance #hokk is climbing the moon, do no...</td>\n",
       "      <td>Twitter for Android</td>\n",
       "      <td>everyone</td>\n",
       "      <td>0</td>\n",
       "      <td>0</td>\n",
       "      <td>0</td>\n",
       "      <td>0</td>\n",
       "      <td>2022-01-03</td>\n",
       "      <td>2021-11-05</td>\n",
       "      <td>175</td>\n",
       "      <td>...</td>\n",
       "      <td>4764</td>\n",
       "      <td>False</td>\n",
       "      <td>photo</td>\n",
       "      <td>1478018765589729285-1456752050486841345-3_1478...</td>\n",
       "      <td>0</td>\n",
       "      <td>0</td>\n",
       "      <td>1</td>\n",
       "      <td>2022-01-03</td>\n",
       "      <td>2021-11-05</td>\n",
       "      <td>59 days</td>\n",
       "    </tr>\n",
       "    <tr>\n",
       "      <th>2</th>\n",
       "      <td>@christinebarnum #hokk is climbing the moon, d...</td>\n",
       "      <td>Twitter for Android</td>\n",
       "      <td>everyone</td>\n",
       "      <td>0</td>\n",
       "      <td>0</td>\n",
       "      <td>0</td>\n",
       "      <td>0</td>\n",
       "      <td>2022-01-03</td>\n",
       "      <td>2021-11-05</td>\n",
       "      <td>175</td>\n",
       "      <td>...</td>\n",
       "      <td>4764</td>\n",
       "      <td>False</td>\n",
       "      <td>photo</td>\n",
       "      <td>1478018721079861251-1456752050486841345-3_1478...</td>\n",
       "      <td>0</td>\n",
       "      <td>0</td>\n",
       "      <td>1</td>\n",
       "      <td>2022-01-03</td>\n",
       "      <td>2021-11-05</td>\n",
       "      <td>59 days</td>\n",
       "    </tr>\n",
       "    <tr>\n",
       "      <th>3</th>\n",
       "      <td>@APompliano #hokk is climbing the moon, do not...</td>\n",
       "      <td>Twitter for Android</td>\n",
       "      <td>everyone</td>\n",
       "      <td>0</td>\n",
       "      <td>0</td>\n",
       "      <td>0</td>\n",
       "      <td>0</td>\n",
       "      <td>2022-01-03</td>\n",
       "      <td>2021-11-05</td>\n",
       "      <td>175</td>\n",
       "      <td>...</td>\n",
       "      <td>4764</td>\n",
       "      <td>False</td>\n",
       "      <td>photo</td>\n",
       "      <td>1478018549490896898-1456752050486841345-3_1478...</td>\n",
       "      <td>0</td>\n",
       "      <td>0</td>\n",
       "      <td>1</td>\n",
       "      <td>2022-01-03</td>\n",
       "      <td>2021-11-05</td>\n",
       "      <td>59 days</td>\n",
       "    </tr>\n",
       "    <tr>\n",
       "      <th>4</th>\n",
       "      <td>MULTI FR24 MISSED APPROACH ALERT : At Mon Jan ...</td>\n",
       "      <td>FlightAlerts</td>\n",
       "      <td>everyone</td>\n",
       "      <td>0</td>\n",
       "      <td>0</td>\n",
       "      <td>0</td>\n",
       "      <td>0</td>\n",
       "      <td>2022-01-03</td>\n",
       "      <td>2017-07-31</td>\n",
       "      <td>1855</td>\n",
       "      <td>...</td>\n",
       "      <td>1635215</td>\n",
       "      <td>False</td>\n",
       "      <td>photo</td>\n",
       "      <td>1478018535196663812-892059375426297858-3_14780...</td>\n",
       "      <td>1</td>\n",
       "      <td>1</td>\n",
       "      <td>1</td>\n",
       "      <td>2022-01-03</td>\n",
       "      <td>2017-07-31</td>\n",
       "      <td>1617 days</td>\n",
       "    </tr>\n",
       "  </tbody>\n",
       "</table>\n",
       "<p>5 rows × 21 columns</p>\n",
       "</div>"
      ],
      "text/plain": [
       "                                                text               source  \\\n",
       "0  RT @brittany_sorg: Here is your #NewYears upda...      Twitter Web App   \n",
       "1  @NexoFinance #hokk is climbing the moon, do no...  Twitter for Android   \n",
       "2  @christinebarnum #hokk is climbing the moon, d...  Twitter for Android   \n",
       "3  @APompliano #hokk is climbing the moon, do not...  Twitter for Android   \n",
       "4  MULTI FR24 MISSED APPROACH ALERT : At Mon Jan ...         FlightAlerts   \n",
       "\n",
       "  reply_settings  ret_count  reply_count  like_count  quote_count  created_at  \\\n",
       "0       everyone          9            0           0            0  2022-01-03   \n",
       "1       everyone          0            0           0            0  2022-01-03   \n",
       "2       everyone          0            0           0            0  2022-01-03   \n",
       "3       everyone          0            0           0            0  2022-01-03   \n",
       "4       everyone          0            0           0            0  2022-01-03   \n",
       "\n",
       "  profile_created_at  followers_count  ...  user_tweet_count  verified   type  \\\n",
       "0         2021-05-08              256  ...              5598     False    NaN   \n",
       "1         2021-11-05              175  ...              4764     False  photo   \n",
       "2         2021-11-05              175  ...              4764     False  photo   \n",
       "3         2021-11-05              175  ...              4764     False  photo   \n",
       "4         2017-07-31             1855  ...           1635215     False  photo   \n",
       "\n",
       "                                                  id profile_hashtag  \\\n",
       "0          1478018848087592963-1391116725849137154-0               0   \n",
       "1  1478018765589729285-1456752050486841345-3_1478...               0   \n",
       "2  1478018721079861251-1456752050486841345-3_1478...               0   \n",
       "3  1478018549490896898-1456752050486841345-3_1478...               0   \n",
       "4  1478018535196663812-892059375426297858-3_14780...               1   \n",
       "\n",
       "   profile_ht  tweet_ht  created_at_t profile_created_at_t time_diff  \n",
       "0           0         1    2022-01-03           2021-05-08  240 days  \n",
       "1           0         1    2022-01-03           2021-11-05   59 days  \n",
       "2           0         1    2022-01-03           2021-11-05   59 days  \n",
       "3           0         1    2022-01-03           2021-11-05   59 days  \n",
       "4           1         1    2022-01-03           2017-07-31 1617 days  \n",
       "\n",
       "[5 rows x 21 columns]"
      ]
     },
     "execution_count": 535,
     "metadata": {},
     "output_type": "execute_result"
    }
   ],
   "source": [
    "master_df.head()"
   ]
  },
  {
   "cell_type": "code",
   "execution_count": 497,
   "id": "017134f4",
   "metadata": {},
   "outputs": [
    {
     "data": {
      "text/plain": [
       "Index(['in_reply_to_user_id', 'referenced_tweets', 'text', 'lang', 'source',\n",
       "       'reply_settings', 'entities', 'ret_count', 'reply_count', 'like_count',\n",
       "       'quote_count', 'created_at', 'profile_created_at', 'profile_entities',\n",
       "       'followers_count', 'following_count', 'user_tweet_count', 'username',\n",
       "       'verified', 'type', 'id'],\n",
       "      dtype='object')"
      ]
     },
     "execution_count": 497,
     "metadata": {},
     "output_type": "execute_result"
    }
   ],
   "source": [
    "master_df.columns\n",
    "hue_variables = ['verified','reply_settings', 'type','']"
   ]
  },
  {
   "cell_type": "code",
   "execution_count": 516,
   "id": "f2564f9e",
   "metadata": {},
   "outputs": [],
   "source": [
    "# get hashtag flags from entities and drop\n",
    "master_df['profile_entities'] = master_df['profile_entities'].astype(str)\n",
    "master_df['entities'] = master_df['entities'].astype(str)\n",
    "\n",
    "master_df['profile_ht'] = np.where(master_df['profile_entities'].str.contains('hashtags'),1,0)\n",
    "master_df['tweet_ht'] = np.where(master_df['entities'].str.contains('hashtags'),1,0)\n",
    "\n",
    "master_df.drop(['profile_entities','entities'], axis = 1, inplace = True)"
   ]
  },
  {
   "cell_type": "code",
   "execution_count": 533,
   "id": "1f2853d8",
   "metadata": {},
   "outputs": [],
   "source": [
    "import datetime\n",
    "master_df['created_at'] = pd.to_datetime(master_df['created_at']).dt.date\n",
    "master_df['profile_created_at'] = pd.to_datetime(master_df['profile_created_at']).dt.date\n",
    "\n",
    "master_df['time_diff'] = master_df['created_at']  - master_df['profile_created_at']\n",
    "master_df['time_diff'] = master_df['time_diff'].dt.days"
   ]
  },
  {
   "cell_type": "code",
   "execution_count": null,
   "id": "7d05dd18",
   "metadata": {},
   "outputs": [],
   "source": [
    "# see if all have replies on\n",
    "reply_settings"
   ]
  },
  {
   "cell_type": "code",
   "execution_count": null,
   "id": "606c200b",
   "metadata": {},
   "outputs": [],
   "source": [
    "# created_at - profile_created_at variable"
   ]
  },
  {
   "cell_type": "code",
   "execution_count": 493,
   "id": "876cd560",
   "metadata": {},
   "outputs": [
    {
     "data": {
      "text/plain": [
       "'1478018549490896898-1456752050486841345-3_1478004526951149575'"
      ]
     },
     "execution_count": 493,
     "metadata": {},
     "output_type": "execute_result"
    }
   ],
   "source": []
  },
  {
   "cell_type": "code",
   "execution_count": 475,
   "id": "fe6064fe",
   "metadata": {},
   "outputs": [
    {
     "data": {
      "text/plain": [
       "0    1478018848087592963\n",
       "1    1478018765589729285\n",
       "Name: tweet_id, dtype: int64"
      ]
     },
     "execution_count": 475,
     "metadata": {},
     "output_type": "execute_result"
    }
   ],
   "source": [
    "master_df['tweet_id'][0:2]"
   ]
  },
  {
   "cell_type": "code",
   "execution_count": 476,
   "id": "1fe0e2da",
   "metadata": {},
   "outputs": [
    {
     "data": {
      "text/plain": [
       "'0     1478018848087592963\\n1     1478018765589729285\\n2     1478018721079861251\\n3     1478018549490896898\\n4     1478018535196663812\\n5     1478018502250401793\\n6     1478018467668238337\\n7     1478018454477230081\\n8     1478018452241616899\\n9     1478018413926748162\\n10    1478018080357773312\\n11    1478018014146666499\\n12    1478017668548632580\\n13    1478017620276244481\\n14    1478017546662129667\\n15    1478017330999398405\\n16    1478016991701221377\\n17    1478016965604225030\\n18    1478016940882939904\\n19    1478016683579219973\\nName: tweet_id, dtype: int64-0     1391116725849137154\\n1     1456752050486841345\\n2     1456752050486841345\\n3     1456752050486841345\\n4      892059375426297858\\n5     1456752050486841345\\n6      937954630813679616\\n7     1456752050486841345\\n8     1412094250867585025\\n9              3355694953\\n10    1388140740568436737\\n11              113118015\\n12    1279964401408319488\\n13    1425865486185627654\\n14    1408799613382021132\\n15     784476292930347008\\n16    1009802221909893120\\n17             4194062127\\n18             2797030688\\n19    1350881209535127554\\nName: author_id, dtype: int64'"
      ]
     },
     "execution_count": 476,
     "metadata": {},
     "output_type": "execute_result"
    }
   ],
   "source": [
    "str(master_df['tweet_id']) + \"-\" + str(master_df['author_id'])"
   ]
  },
  {
   "cell_type": "code",
   "execution_count": null,
   "id": "0d8f9549",
   "metadata": {},
   "outputs": [],
   "source": []
  }
 ],
 "metadata": {
  "kernelspec": {
   "display_name": "Python 3 (ipykernel)",
   "language": "python",
   "name": "python3"
  },
  "language_info": {
   "codemirror_mode": {
    "name": "ipython",
    "version": 3
   },
   "file_extension": ".py",
   "mimetype": "text/x-python",
   "name": "python",
   "nbconvert_exporter": "python",
   "pygments_lexer": "ipython3",
   "version": "3.9.7"
  }
 },
 "nbformat": 4,
 "nbformat_minor": 5
}
